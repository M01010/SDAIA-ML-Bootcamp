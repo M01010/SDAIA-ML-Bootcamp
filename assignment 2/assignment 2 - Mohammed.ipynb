{
 "nbformat": 4,
 "nbformat_minor": 0,
 "metadata": {
  "kernelspec": {
   "display_name": "Python 3",
   "language": "python",
   "name": "python3"
  },
  "language_info": {
   "codemirror_mode": {
    "name": "ipython",
    "version": 3
   },
   "file_extension": ".py",
   "mimetype": "text/x-python",
   "name": "python",
   "nbconvert_exporter": "python",
   "pygments_lexer": "ipython3",
   "version": "3.7.0"
  },
  "colab": {
   "provenance": [],
   "collapsed_sections": [
    "PuiYEDpYK-mm",
    "JGumTAZLK-mm",
    "oBpOQ6MVK-mr",
    "RpDPJgQzK-mu",
    "x90s4TXqK-mx",
    "p-aMmUFxK-m0",
    "T1jU9d28K-m4",
    "qjg5n5OfK-m8",
    "5qIDedqKTtfN",
    "xTy8UkrEUNLM"
   ]
  }
 },
 "cells": [
  {
   "cell_type": "markdown",
   "metadata": {
    "id": "elgDcjlyK-lQ"
   },
   "source": [
    "# Loan Approval\n",
    "\n",
    "---\n",
    "**Objective:**\n",
    "In this exercise, we will explore a dataset of Loan data with the below info. We will try later to predict the status of loan for individuals based the following information.</font>\n",
    "\n",
    "## DataSet Description\n",
    "\n",
    "- **Loan_ID:** data set unique ID <br>\n",
    "- **Gender:** individual gender<br>\n",
    "- **Married:** individual marital status<br>\n",
    "- **Dependents:** number of dependents<br>\n",
    "- **Education:** individual education status<br>\n",
    "- **Self_Employed:** individual employment status<br>\n",
    "- **ApplicantIncome:** individual income<br>\n",
    "- **CoapplicantIncome:** individual Coapplicant income<br>\n",
    "- **LoanAmount:** Loan amount in thousands<br>\n",
    "- **Loan_Amount_Term:** term of loan in months<br>\n",
    "- **Credit_History:** credit history meets guidelines<br>\n",
    "- **Property_Area:** Urban/ Semi Urban/ Rural<br>\n",
    "- **Loan_Status:** loan approved (Y/N)<br>"
   ]
  },
  {
   "cell_type": "markdown",
   "metadata": {
    "id": "KIFhQSUBK-lS"
   },
   "source": [
    "# 1. Import necessary python modules (libraries)\n",
    "<br>\n",
    "We will need the following libraries:\n",
    "\n",
    "- Numpy — for scientific computing (e.g., linear algebra (vectors & matrices)).\n",
    "- Pandas — providing high-performance, easy-to-use data reading, manipulation, and analysis.\n",
    "- Matplotlib & seaborn — plotting & visualization.\n",
    "- scikit-learn — a tool for data mining and machine learning models."
   ]
  },
  {
   "cell_type": "code",
   "metadata": {
    "id": "xZwyPrVkK-lT",
    "ExecuteTime": {
     "end_time": "2024-01-03T22:39:13.914797900Z",
     "start_time": "2024-01-03T22:39:13.714616700Z"
    }
   },
   "source": [
    "import numpy as np\n",
    "import pandas as pd\n",
    "import matplotlib.pyplot as plt\n",
    "import seaborn as sns\n",
    "from sklearn.preprocessing import LabelEncoder\n",
    "from sklearn.model_selection import train_test_split\n",
    "from sklearn.linear_model import LogisticRegression\n",
    "from sklearn.metrics import accuracy_score"
   ],
   "execution_count": 1,
   "outputs": []
  },
  {
   "cell_type": "markdown",
   "metadata": {
    "id": "4xjXdDyTK-lW"
   },
   "source": [
    "# 2. Read & visualize data\n",
    "To load the data to our code, we use pandas module, more specifically, the read_csv function."
   ]
  },
  {
   "cell_type": "markdown",
   "source": [
    "We will use two datasets: the **train.csv** and **test.csv** files"
   ],
   "metadata": {
    "id": "IMas3ClTqP3R"
   }
  },
  {
   "cell_type": "markdown",
   "metadata": {
    "id": "x4KVJodDK-lX"
   },
   "source": [
    "Combine the two dataset in order to apply the same preprocessing steps in both dataframes"
   ]
  },
  {
   "cell_type": "code",
   "metadata": {
    "id": "eaN-1eM5K-lX",
    "ExecuteTime": {
     "end_time": "2024-01-03T22:39:19.018091100Z",
     "start_time": "2024-01-03T22:39:18.999687900Z"
    }
   },
   "source": [
    "df_train=pd.read_csv('train.csv')\n",
    "df_test=pd.read_csv('test.csv')\n",
    "df = pd.concat([df_test, df_train])\n",
    "df.head()"
   ],
   "execution_count": 2,
   "outputs": [
    {
     "data": {
      "text/plain": "    Loan_ID  Gender Married Dependents     Education Self_Employed  \\\n0  LP002648    Male     Yes          0      Graduate            No   \n1  LP002652    Male      No          0      Graduate            No   \n2  LP002659    Male     Yes         3+      Graduate            No   \n3  LP002670  Female     Yes          2      Graduate            No   \n4  LP002682    Male     Yes        NaN  Not Graduate            No   \n\n   ApplicantIncome  CoapplicantIncome  LoanAmount  Loan_Amount_Term  \\\n0             2130             6666.0        70.0             180.0   \n1             5815             3666.0       311.0             360.0   \n2             3466             3428.0       150.0             360.0   \n3             2031             1632.0       113.0             480.0   \n4             3074             1800.0       123.0             360.0   \n\n   Credit_History Property_Area Loan_Status  \n0             1.0     Semiurban           N  \n1             1.0         Rural           N  \n2             1.0         Rural           Y  \n3             1.0     Semiurban           Y  \n4             0.0     Semiurban           N  ",
      "text/html": "<div>\n<style scoped>\n    .dataframe tbody tr th:only-of-type {\n        vertical-align: middle;\n    }\n\n    .dataframe tbody tr th {\n        vertical-align: top;\n    }\n\n    .dataframe thead th {\n        text-align: right;\n    }\n</style>\n<table border=\"1\" class=\"dataframe\">\n  <thead>\n    <tr style=\"text-align: right;\">\n      <th></th>\n      <th>Loan_ID</th>\n      <th>Gender</th>\n      <th>Married</th>\n      <th>Dependents</th>\n      <th>Education</th>\n      <th>Self_Employed</th>\n      <th>ApplicantIncome</th>\n      <th>CoapplicantIncome</th>\n      <th>LoanAmount</th>\n      <th>Loan_Amount_Term</th>\n      <th>Credit_History</th>\n      <th>Property_Area</th>\n      <th>Loan_Status</th>\n    </tr>\n  </thead>\n  <tbody>\n    <tr>\n      <th>0</th>\n      <td>LP002648</td>\n      <td>Male</td>\n      <td>Yes</td>\n      <td>0</td>\n      <td>Graduate</td>\n      <td>No</td>\n      <td>2130</td>\n      <td>6666.0</td>\n      <td>70.0</td>\n      <td>180.0</td>\n      <td>1.0</td>\n      <td>Semiurban</td>\n      <td>N</td>\n    </tr>\n    <tr>\n      <th>1</th>\n      <td>LP002652</td>\n      <td>Male</td>\n      <td>No</td>\n      <td>0</td>\n      <td>Graduate</td>\n      <td>No</td>\n      <td>5815</td>\n      <td>3666.0</td>\n      <td>311.0</td>\n      <td>360.0</td>\n      <td>1.0</td>\n      <td>Rural</td>\n      <td>N</td>\n    </tr>\n    <tr>\n      <th>2</th>\n      <td>LP002659</td>\n      <td>Male</td>\n      <td>Yes</td>\n      <td>3+</td>\n      <td>Graduate</td>\n      <td>No</td>\n      <td>3466</td>\n      <td>3428.0</td>\n      <td>150.0</td>\n      <td>360.0</td>\n      <td>1.0</td>\n      <td>Rural</td>\n      <td>Y</td>\n    </tr>\n    <tr>\n      <th>3</th>\n      <td>LP002670</td>\n      <td>Female</td>\n      <td>Yes</td>\n      <td>2</td>\n      <td>Graduate</td>\n      <td>No</td>\n      <td>2031</td>\n      <td>1632.0</td>\n      <td>113.0</td>\n      <td>480.0</td>\n      <td>1.0</td>\n      <td>Semiurban</td>\n      <td>Y</td>\n    </tr>\n    <tr>\n      <th>4</th>\n      <td>LP002682</td>\n      <td>Male</td>\n      <td>Yes</td>\n      <td>NaN</td>\n      <td>Not Graduate</td>\n      <td>No</td>\n      <td>3074</td>\n      <td>1800.0</td>\n      <td>123.0</td>\n      <td>360.0</td>\n      <td>0.0</td>\n      <td>Semiurban</td>\n      <td>N</td>\n    </tr>\n  </tbody>\n</table>\n</div>"
     },
     "execution_count": 2,
     "metadata": {},
     "output_type": "execute_result"
    }
   ]
  },
  {
   "cell_type": "code",
   "outputs": [
    {
     "name": "stdout",
     "output_type": "stream",
     "text": [
      "train: 513, test: 101, df: 614\n"
     ]
    }
   ],
   "source": [
    "print(f'train: {len(df_train)}, test: {len(df_test)}, df: {len(df)}')"
   ],
   "metadata": {
    "collapsed": false,
    "ExecuteTime": {
     "end_time": "2024-01-03T22:39:21.383798100Z",
     "start_time": "2024-01-03T22:39:21.365269200Z"
    }
   },
   "execution_count": 3
  },
  {
   "cell_type": "markdown",
   "metadata": {
    "id": "WKcAeoOVK-ld"
   },
   "source": [
    "# 4. Exploratory Data Analysis\n"
   ]
  },
  {
   "cell_type": "markdown",
   "source": [
    "**Question 1:** Use the shape function to check the dimensions of your dataframe"
   ],
   "metadata": {
    "id": "UtN7MWS1rR0V"
   }
  },
  {
   "cell_type": "code",
   "metadata": {
    "id": "-DmXe7W2K-ld",
    "ExecuteTime": {
     "end_time": "2024-01-03T22:39:24.654872900Z",
     "start_time": "2024-01-03T22:39:24.644253300Z"
    }
   },
   "source": [
    "df.shape"
   ],
   "execution_count": 4,
   "outputs": [
    {
     "data": {
      "text/plain": "(614, 13)"
     },
     "execution_count": 4,
     "metadata": {},
     "output_type": "execute_result"
    }
   ]
  },
  {
   "cell_type": "markdown",
   "metadata": {
    "id": "RVH8LAjLK-lg"
   },
   "source": [
    "##### Using the function info(), we can check:\n",
    "\n",
    "- data types (int, float, or object (e.g., string))\n",
    "- missing values\n",
    "- memory usage\n",
    "- number of rows and columns"
   ]
  },
  {
   "cell_type": "code",
   "metadata": {
    "id": "kesvYr2pK-lg",
    "ExecuteTime": {
     "end_time": "2024-01-03T22:39:27.108517400Z",
     "start_time": "2024-01-03T22:39:27.099789900Z"
    }
   },
   "source": [
    "df.info()"
   ],
   "execution_count": 5,
   "outputs": [
    {
     "name": "stdout",
     "output_type": "stream",
     "text": [
      "<class 'pandas.core.frame.DataFrame'>\n",
      "Index: 614 entries, 0 to 512\n",
      "Data columns (total 13 columns):\n",
      " #   Column             Non-Null Count  Dtype  \n",
      "---  ------             --------------  -----  \n",
      " 0   Loan_ID            614 non-null    object \n",
      " 1   Gender             601 non-null    object \n",
      " 2   Married            611 non-null    object \n",
      " 3   Dependents         599 non-null    object \n",
      " 4   Education          614 non-null    object \n",
      " 5   Self_Employed      582 non-null    object \n",
      " 6   ApplicantIncome    614 non-null    int64  \n",
      " 7   CoapplicantIncome  614 non-null    float64\n",
      " 8   LoanAmount         592 non-null    float64\n",
      " 9   Loan_Amount_Term   600 non-null    float64\n",
      " 10  Credit_History     564 non-null    float64\n",
      " 11  Property_Area      614 non-null    object \n",
      " 12  Loan_Status        614 non-null    object \n",
      "dtypes: float64(4), int64(1), object(8)\n",
      "memory usage: 67.2+ KB\n"
     ]
    }
   ]
  },
  {
   "cell_type": "markdown",
   "source": [
    "**Question 2:** Which Columns contain Missing Values?"
   ],
   "metadata": {
    "id": "KVCIbYvarZoV"
   }
  },
  {
   "cell_type": "markdown",
   "source": [
    "gender, married, dependents, self_employed, loanAmount, loan_amount_term"
   ],
   "metadata": {
    "collapsed": false
   }
  },
  {
   "cell_type": "markdown",
   "metadata": {
    "id": "eZ15pJj2K-lj"
   },
   "source": [
    "Analysis:"
   ]
  },
  {
   "cell_type": "code",
   "outputs": [
    {
     "data": {
      "text/plain": "Loan_ID               0\nGender               13\nMarried               3\nDependents           15\nEducation             0\nSelf_Employed        32\nApplicantIncome       0\nCoapplicantIncome     0\nLoanAmount           22\nLoan_Amount_Term     14\nCredit_History       50\nProperty_Area         0\nLoan_Status           0\ndtype: int64"
     },
     "execution_count": 6,
     "metadata": {},
     "output_type": "execute_result"
    }
   ],
   "source": [
    "df.isnull().sum()"
   ],
   "metadata": {
    "collapsed": false,
    "ExecuteTime": {
     "end_time": "2024-01-03T22:40:17.785737600Z",
     "start_time": "2024-01-03T22:40:17.778222700Z"
    }
   },
   "execution_count": 6
  },
  {
   "cell_type": "markdown",
   "metadata": {
    "id": "W4ebzltrK-lj"
   },
   "source": [
    "##### Using the function describe(), we can check the following  values for each numerical feature (column)\n",
    "- mean\n",
    "- standard deviation\n",
    "- maximum\n",
    "- minimum\n"
   ]
  },
  {
   "cell_type": "code",
   "metadata": {
    "id": "ECiIV49DK-lk",
    "ExecuteTime": {
     "end_time": "2024-01-03T22:40:34.314707600Z",
     "start_time": "2024-01-03T22:40:34.298719500Z"
    }
   },
   "source": [
    "df.describe()"
   ],
   "execution_count": 7,
   "outputs": [
    {
     "data": {
      "text/plain": "       ApplicantIncome  CoapplicantIncome  LoanAmount  Loan_Amount_Term  \\\ncount       614.000000         614.000000  592.000000         600.00000   \nmean       5403.459283        1621.245798  146.412162         342.00000   \nstd        6109.041673        2926.248369   85.587325          65.12041   \nmin         150.000000           0.000000    9.000000          12.00000   \n25%        2877.500000           0.000000  100.000000         360.00000   \n50%        3812.500000        1188.500000  128.000000         360.00000   \n75%        5795.000000        2297.250000  168.000000         360.00000   \nmax       81000.000000       41667.000000  700.000000         480.00000   \n\n       Credit_History  \ncount      564.000000  \nmean         0.842199  \nstd          0.364878  \nmin          0.000000  \n25%          1.000000  \n50%          1.000000  \n75%          1.000000  \nmax          1.000000  ",
      "text/html": "<div>\n<style scoped>\n    .dataframe tbody tr th:only-of-type {\n        vertical-align: middle;\n    }\n\n    .dataframe tbody tr th {\n        vertical-align: top;\n    }\n\n    .dataframe thead th {\n        text-align: right;\n    }\n</style>\n<table border=\"1\" class=\"dataframe\">\n  <thead>\n    <tr style=\"text-align: right;\">\n      <th></th>\n      <th>ApplicantIncome</th>\n      <th>CoapplicantIncome</th>\n      <th>LoanAmount</th>\n      <th>Loan_Amount_Term</th>\n      <th>Credit_History</th>\n    </tr>\n  </thead>\n  <tbody>\n    <tr>\n      <th>count</th>\n      <td>614.000000</td>\n      <td>614.000000</td>\n      <td>592.000000</td>\n      <td>600.00000</td>\n      <td>564.000000</td>\n    </tr>\n    <tr>\n      <th>mean</th>\n      <td>5403.459283</td>\n      <td>1621.245798</td>\n      <td>146.412162</td>\n      <td>342.00000</td>\n      <td>0.842199</td>\n    </tr>\n    <tr>\n      <th>std</th>\n      <td>6109.041673</td>\n      <td>2926.248369</td>\n      <td>85.587325</td>\n      <td>65.12041</td>\n      <td>0.364878</td>\n    </tr>\n    <tr>\n      <th>min</th>\n      <td>150.000000</td>\n      <td>0.000000</td>\n      <td>9.000000</td>\n      <td>12.00000</td>\n      <td>0.000000</td>\n    </tr>\n    <tr>\n      <th>25%</th>\n      <td>2877.500000</td>\n      <td>0.000000</td>\n      <td>100.000000</td>\n      <td>360.00000</td>\n      <td>1.000000</td>\n    </tr>\n    <tr>\n      <th>50%</th>\n      <td>3812.500000</td>\n      <td>1188.500000</td>\n      <td>128.000000</td>\n      <td>360.00000</td>\n      <td>1.000000</td>\n    </tr>\n    <tr>\n      <th>75%</th>\n      <td>5795.000000</td>\n      <td>2297.250000</td>\n      <td>168.000000</td>\n      <td>360.00000</td>\n      <td>1.000000</td>\n    </tr>\n    <tr>\n      <th>max</th>\n      <td>81000.000000</td>\n      <td>41667.000000</td>\n      <td>700.000000</td>\n      <td>480.00000</td>\n      <td>1.000000</td>\n    </tr>\n  </tbody>\n</table>\n</div>"
     },
     "execution_count": 7,
     "metadata": {},
     "output_type": "execute_result"
    }
   ]
  },
  {
   "cell_type": "markdown",
   "source": [
    "**Question 3:** Which feature is not actually numerical and yet was included in the above statistical description?"
   ],
   "metadata": {
    "id": "cBOJZ8x9ru6Y"
   }
  },
  {
   "cell_type": "markdown",
   "source": [
    "notice that credit history has only 2 values: (1, 0), its boolean however it was included in the statistical description"
   ],
   "metadata": {
    "collapsed": false
   }
  },
  {
   "cell_type": "markdown",
   "metadata": {
    "id": "QsmkavZQK-ln"
   },
   "source": [
    "Analysis:"
   ]
  },
  {
   "cell_type": "code",
   "outputs": [
    {
     "data": {
      "text/plain": "Credit_History\n1.0    475\n0.0     89\nName: count, dtype: int64"
     },
     "execution_count": 8,
     "metadata": {},
     "output_type": "execute_result"
    }
   ],
   "source": [
    "df.Credit_History.value_counts()"
   ],
   "metadata": {
    "collapsed": false,
    "ExecuteTime": {
     "end_time": "2024-01-03T22:41:36.571665Z",
     "start_time": "2024-01-03T22:41:36.565097600Z"
    }
   },
   "execution_count": 8
  },
  {
   "cell_type": "code",
   "metadata": {
    "id": "uYPOBUMYK-ln",
    "ExecuteTime": {
     "end_time": "2024-01-03T22:41:48.668517800Z",
     "start_time": "2024-01-03T22:41:48.651477500Z"
    }
   },
   "source": [
    "np.sort(df.Credit_History.unique())"
   ],
   "execution_count": 9,
   "outputs": [
    {
     "data": {
      "text/plain": "array([ 0.,  1., nan])"
     },
     "execution_count": 9,
     "metadata": {},
     "output_type": "execute_result"
    }
   ]
  },
  {
   "cell_type": "markdown",
   "source": [
    "**Question 4:** Write the code to get unique values of the Loan_Amount_Term variable and sort the values"
   ],
   "metadata": {
    "id": "CZ9f7p_jsBXU"
   }
  },
  {
   "cell_type": "markdown",
   "metadata": {
    "id": "bOBFeq9EK-lq"
   },
   "source": [
    "Loan_Amount_Term is a variable of numerical discrete data type"
   ]
  },
  {
   "cell_type": "code",
   "metadata": {
    "id": "mdUjK1DPK-lq",
    "ExecuteTime": {
     "end_time": "2024-01-03T22:41:57.023550300Z",
     "start_time": "2024-01-03T22:41:57.009361800Z"
    }
   },
   "source": [
    "np.sort(df.Loan_Amount_Term.unique())"
   ],
   "execution_count": 10,
   "outputs": [
    {
     "data": {
      "text/plain": "array([ 12.,  36.,  60.,  84., 120., 180., 240., 300., 360., 480.,  nan])"
     },
     "execution_count": 10,
     "metadata": {},
     "output_type": "execute_result"
    }
   ]
  },
  {
   "cell_type": "markdown",
   "source": [
    "#### Remove Na and create a density graph"
   ],
   "metadata": {
    "id": "vbY2IDDJqScF"
   }
  },
  {
   "cell_type": "code",
   "metadata": {
    "id": "3GLVciuCK-l4",
    "ExecuteTime": {
     "end_time": "2024-01-03T22:42:07.780669Z",
     "start_time": "2024-01-03T22:42:07.604954200Z"
    }
   },
   "source": [
    "plt.figure(1)\n",
    "plt.subplot(121)\n",
    "removeNA_df=df.dropna() # we need to remove Na in order to plot a density graph\n",
    "sns.distplot(removeNA_df['LoanAmount'])\n",
    "\n",
    "plt.subplot(122)\n",
    "df['LoanAmount'].plot.box(figsize=(16,5))\n",
    "\n",
    "plt.show()"
   ],
   "execution_count": 11,
   "outputs": [
    {
     "name": "stderr",
     "output_type": "stream",
     "text": [
      "C:\\Users\\Mo\\AppData\\Local\\Temp\\ipykernel_18512\\1847845859.py:4: UserWarning: \n",
      "\n",
      "`distplot` is a deprecated function and will be removed in seaborn v0.14.0.\n",
      "\n",
      "Please adapt your code to use either `displot` (a figure-level function with\n",
      "similar flexibility) or `histplot` (an axes-level function for histograms).\n",
      "\n",
      "For a guide to updating your code to use the new functions, please see\n",
      "https://gist.github.com/mwaskom/de44147ed2974457ad6372750bbe5751\n",
      "\n",
      "  sns.distplot(removeNA_df['LoanAmount'])\n"
     ]
    },
    {
     "data": {
      "text/plain": "<Figure size 1600x500 with 2 Axes>",
      "image/png": "[encoded data removed]"
     },
     "metadata": {},
     "output_type": "display_data"
    }
   ]
  },
  {
   "cell_type": "code",
   "outputs": [
    {
     "data": {
      "text/plain": "count    480.000000\nmean     144.735417\nstd       80.508164\nmin        9.000000\n25%      100.000000\n50%      128.000000\n75%      170.000000\nmax      600.000000\nName: LoanAmount, dtype: float64"
     },
     "execution_count": 13,
     "metadata": {},
     "output_type": "execute_result"
    }
   ],
   "source": [
    "removeNA_df['LoanAmount'].describe()"
   ],
   "metadata": {
    "collapsed": false,
    "ExecuteTime": {
     "end_time": "2024-01-03T22:42:48.753509700Z",
     "start_time": "2024-01-03T22:42:48.729606100Z"
    }
   },
   "execution_count": 13
  },
  {
   "cell_type": "markdown",
   "metadata": {
    "id": "MNk4bn1bK-l7"
   },
   "source": [
    "**Question 5:** Do you notice any outliers?\n",
    "IQR = Q3 - Q1\n",
    "IQR = 170 - 100 = 70\n",
    "range = (Q1 - 1.5IQR, Q3 + 1.5IQR)\n",
    "range = (100 - 1.5 (70), 170 + 1.5(70))\n",
    "range = (-5, 275)\n",
    "\n",
    "Analysis:\n",
    "the data clearly is positively skewed and the whiskers on the box plot have points outside of their range and has outliers (> 275)"
   ]
  },
  {
   "cell_type": "markdown",
   "source": [
    "**Question 6:** Draw the same plots for the ApplicantIncome Feature and check if there are any outliers."
   ],
   "metadata": {
    "id": "FQYtbfc4sbee"
   }
  },
  {
   "cell_type": "code",
   "metadata": {
    "id": "KeyynE7mK-l7",
    "ExecuteTime": {
     "end_time": "2024-01-03T22:47:26.251603800Z",
     "start_time": "2024-01-03T22:47:26.128788800Z"
    }
   },
   "source": [
    "plt.figure(1)\n",
    "plt.subplot(121)\n",
    "sns.distplot(removeNA_df['ApplicantIncome'])\n",
    "\n",
    "plt.subplot(122)\n",
    "df['ApplicantIncome'].plot.box(figsize=(16,5))\n",
    "\n",
    "plt.show()\n"
   ],
   "execution_count": 14,
   "outputs": [
    {
     "name": "stderr",
     "output_type": "stream",
     "text": [
      "C:\\Users\\Mo\\AppData\\Local\\Temp\\ipykernel_18512\\816753508.py:3: UserWarning: \n",
      "\n",
      "`distplot` is a deprecated function and will be removed in seaborn v0.14.0.\n",
      "\n",
      "Please adapt your code to use either `displot` (a figure-level function with\n",
      "similar flexibility) or `histplot` (an axes-level function for histograms).\n",
      "\n",
      "For a guide to updating your code to use the new functions, please see\n",
      "https://gist.github.com/mwaskom/de44147ed2974457ad6372750bbe5751\n",
      "\n",
      "  sns.distplot(removeNA_df['ApplicantIncome'])\n"
     ]
    },
    {
     "data": {
      "text/plain": "<Figure size 1600x500 with 2 Axes>",
      "image/png": "[encoded data removed]"
     },
     "metadata": {},
     "output_type": "display_data"
    }
   ]
  },
  {
   "cell_type": "code",
   "outputs": [
    {
     "data": {
      "text/plain": "count      614.000000\nmean      5403.459283\nstd       6109.041673\nmin        150.000000\n25%       2877.500000\n50%       3812.500000\n75%       5795.000000\nmax      81000.000000\nName: ApplicantIncome, dtype: float64"
     },
     "execution_count": 15,
     "metadata": {},
     "output_type": "execute_result"
    }
   ],
   "source": [
    "df['ApplicantIncome'].describe()"
   ],
   "metadata": {
    "collapsed": false,
    "ExecuteTime": {
     "end_time": "2024-01-03T22:47:55.583615300Z",
     "start_time": "2024-01-03T22:47:55.575133600Z"
    }
   },
   "execution_count": 15
  },
  {
   "cell_type": "markdown",
   "source": [
    "IQR = Q3 - Q1\n",
    "IQR = 5795 - 2877 = 2918\n",
    "range = (Q1 - 1.5IQR, Q3 + 1.5IQR)\n",
    "range = (2877 - 1.5 (2918), 5795 + 1.5(2918))\n",
    "range = (-1500, 10172)\n",
    "\n",
    "Analysis:\n",
    "just like the one before, the data clearly is positively skewed and has outliers (> 10172)"
   ],
   "metadata": {
    "collapsed": false
   }
  },
  {
   "cell_type": "markdown",
   "source": [
    "### Check if the gender affects the loan approval"
   ],
   "metadata": {
    "id": "1MaYv6qdqjaR"
   }
  },
  {
   "cell_type": "code",
   "metadata": {
    "id": "vKEkDE5bK-mI",
    "ExecuteTime": {
     "end_time": "2024-01-03T22:48:28.459381100Z",
     "start_time": "2024-01-03T22:48:28.379545Z"
    }
   },
   "source": [
    "Gender=pd.crosstab(df['Gender'],df['Loan_Status'], normalize='index')\n",
    "print(Gender)\n",
    "Gender.plot(kind='bar', stacked=True)"
   ],
   "execution_count": 16,
   "outputs": [
    {
     "name": "stdout",
     "output_type": "stream",
     "text": [
      "Loan_Status         N         Y\n",
      "Gender                         \n",
      "Female       0.330357  0.669643\n",
      "Male         0.306748  0.693252\n"
     ]
    },
    {
     "data": {
      "text/plain": "<Axes: xlabel='Gender'>"
     },
     "execution_count": 16,
     "metadata": {},
     "output_type": "execute_result"
    },
    {
     "data": {
      "text/plain": "<Figure size 640x480 with 1 Axes>",
      "image/png": "[encoded data removed]"
     },
     "metadata": {},
     "output_type": "display_data"
    }
   ]
  },
  {
   "cell_type": "markdown",
   "source": [
    "**Question 7:**\n",
    "\n",
    "a. Does gender affect loan approval?\n",
    "\n",
    "b. Suggest another method to study this relation"
   ],
   "metadata": {
    "id": "H1_LIotjssQS"
   }
  },
  {
   "cell_type": "markdown",
   "metadata": {
    "id": "bVP8SFLlK-mK"
   },
   "source": [
    "Analysis:\n",
    "a. it seems that gender doesnt affect loan approval and the difference is within error rate\n",
    "b. heat map or cross tabbing"
   ]
  },
  {
   "cell_type": "markdown",
   "metadata": {
    "id": "PuiYEDpYK-mm"
   },
   "source": [
    "# 5. Preprocessing\n",
    "\"Garbage in, garbage out\".\n",
    "<br>\n",
    "<br>\n",
    "Data should be preprocessed and cleaned to get rid of noisy data. Preprocessing includes:\n",
    "\n",
    "- remove unsued column(s)\n",
    "- remove grabage data\n",
    "- convert continous data into categorical\n",
    "- treat missing data\n",
    "- encode categorical data\n",
    "- normalization: normalize data ranges for all features (e.g., between 0 and 1)"
   ]
  },
  {
   "cell_type": "markdown",
   "metadata": {
    "id": "JGumTAZLK-mm"
   },
   "source": [
    "## Remove unused columns\n",
    "Here we will drop some columns we beleive they do not affect the loan approval."
   ]
  },
  {
   "cell_type": "code",
   "metadata": {
    "id": "Aw3LlHX1K-mn",
    "ExecuteTime": {
     "end_time": "2024-01-03T22:53:32.976506200Z",
     "start_time": "2024-01-03T22:53:32.963857Z"
    }
   },
   "source": [
    "df.drop(['Loan_ID','Gender','Self_Employed','ApplicantIncome','LoanAmount','Loan_Amount_Term'], inplace=True, axis=1)"
   ],
   "execution_count": 17,
   "outputs": []
  },
  {
   "cell_type": "markdown",
   "metadata": {
    "id": "oBpOQ6MVK-mr"
   },
   "source": [
    "##Convert continuous data into categorical"
   ]
  },
  {
   "cell_type": "code",
   "metadata": {
    "id": "UATLaXcwK-ms",
    "ExecuteTime": {
     "end_time": "2024-01-03T22:53:42.382814600Z",
     "start_time": "2024-01-03T22:53:42.377288700Z"
    }
   },
   "source": [
    "df['Credit_History'] = df['Credit_History'].astype('O')"
   ],
   "execution_count": 18,
   "outputs": []
  },
  {
   "cell_type": "markdown",
   "metadata": {
    "id": "RpDPJgQzK-mu"
   },
   "source": [
    "## Treat missing data\n",
    "- fill missing categorical data & discrete data with mode\n",
    "- fill missing continous data with mean\n"
   ]
  },
  {
   "cell_type": "code",
   "metadata": {
    "id": "1ifJSObwK-mv",
    "ExecuteTime": {
     "end_time": "2024-01-03T22:53:44.135529400Z",
     "start_time": "2024-01-03T22:53:44.131022300Z"
    }
   },
   "source": [
    "df['Credit_History'].fillna(df['Credit_History'].mode()[0], inplace=True)\n",
    "df['Dependents'].fillna(df['Dependents'].mode()[0], inplace=True)\n",
    "df['Married'].fillna(df['Married'].mode()[0], inplace=True)"
   ],
   "execution_count": 19,
   "outputs": []
  },
  {
   "cell_type": "markdown",
   "metadata": {
    "id": "x90s4TXqK-mx"
   },
   "source": [
    "## Check if any null value exist"
   ]
  },
  {
   "cell_type": "markdown",
   "source": [
    "**Question 8:** Write the code to check for any null values"
   ],
   "metadata": {
    "id": "kesbuF-htDWq"
   }
  },
  {
   "cell_type": "code",
   "metadata": {
    "id": "lJi4rqkcK-mx",
    "ExecuteTime": {
     "end_time": "2024-01-03T22:53:48.057436300Z",
     "start_time": "2024-01-03T22:53:48.048327100Z"
    }
   },
   "source": [
    "df.isnull().sum()"
   ],
   "execution_count": 20,
   "outputs": [
    {
     "data": {
      "text/plain": "Married              0\nDependents           0\nEducation            0\nCoapplicantIncome    0\nCredit_History       0\nProperty_Area        0\nLoan_Status          0\ndtype: int64"
     },
     "execution_count": 20,
     "metadata": {},
     "output_type": "execute_result"
    }
   ]
  },
  {
   "cell_type": "markdown",
   "metadata": {
    "id": "p-aMmUFxK-m0"
   },
   "source": [
    "## Encode categorical data"
   ]
  },
  {
   "cell_type": "code",
   "metadata": {
    "id": "eP1emO7hK-m0",
    "ExecuteTime": {
     "end_time": "2024-01-03T22:53:56.307668700Z",
     "start_time": "2024-01-03T22:53:56.291819800Z"
    }
   },
   "source": [
    "le = LabelEncoder()\n",
    "cat_data=df[['Credit_History','Dependents','Education','Married','Property_Area','Loan_Status']]\n",
    "num_data=df[['CoapplicantIncome']]\n",
    "cat_data.head()"
   ],
   "execution_count": 21,
   "outputs": [
    {
     "data": {
      "text/plain": "   Credit_History Dependents     Education Married Property_Area Loan_Status\n0             1.0          0      Graduate     Yes     Semiurban           N\n1             1.0          0      Graduate      No         Rural           N\n2             1.0         3+      Graduate     Yes         Rural           Y\n3             1.0          2      Graduate     Yes     Semiurban           Y\n4             0.0          0  Not Graduate     Yes     Semiurban           N",
      "text/html": "<div>\n<style scoped>\n    .dataframe tbody tr th:only-of-type {\n        vertical-align: middle;\n    }\n\n    .dataframe tbody tr th {\n        vertical-align: top;\n    }\n\n    .dataframe thead th {\n        text-align: right;\n    }\n</style>\n<table border=\"1\" class=\"dataframe\">\n  <thead>\n    <tr style=\"text-align: right;\">\n      <th></th>\n      <th>Credit_History</th>\n      <th>Dependents</th>\n      <th>Education</th>\n      <th>Married</th>\n      <th>Property_Area</th>\n      <th>Loan_Status</th>\n    </tr>\n  </thead>\n  <tbody>\n    <tr>\n      <th>0</th>\n      <td>1.0</td>\n      <td>0</td>\n      <td>Graduate</td>\n      <td>Yes</td>\n      <td>Semiurban</td>\n      <td>N</td>\n    </tr>\n    <tr>\n      <th>1</th>\n      <td>1.0</td>\n      <td>0</td>\n      <td>Graduate</td>\n      <td>No</td>\n      <td>Rural</td>\n      <td>N</td>\n    </tr>\n    <tr>\n      <th>2</th>\n      <td>1.0</td>\n      <td>3+</td>\n      <td>Graduate</td>\n      <td>Yes</td>\n      <td>Rural</td>\n      <td>Y</td>\n    </tr>\n    <tr>\n      <th>3</th>\n      <td>1.0</td>\n      <td>2</td>\n      <td>Graduate</td>\n      <td>Yes</td>\n      <td>Semiurban</td>\n      <td>Y</td>\n    </tr>\n    <tr>\n      <th>4</th>\n      <td>0.0</td>\n      <td>0</td>\n      <td>Not Graduate</td>\n      <td>Yes</td>\n      <td>Semiurban</td>\n      <td>N</td>\n    </tr>\n  </tbody>\n</table>\n</div>"
     },
     "execution_count": 21,
     "metadata": {},
     "output_type": "execute_result"
    }
   ]
  },
  {
   "cell_type": "code",
   "metadata": {
    "id": "Uwzdy2KjK-m2",
    "ExecuteTime": {
     "end_time": "2024-01-03T22:53:57.022927400Z",
     "start_time": "2024-01-03T22:53:57.011490100Z"
    }
   },
   "source": [
    "for i in cat_data:\n",
    "    cat_data[i] = le.fit_transform(cat_data[i])\n",
    "cat_data.head()"
   ],
   "execution_count": 22,
   "outputs": [
    {
     "name": "stderr",
     "output_type": "stream",
     "text": [
      "C:\\Users\\Mo\\AppData\\Local\\Temp\\ipykernel_18512\\1980772507.py:2: SettingWithCopyWarning: \n",
      "A value is trying to be set on a copy of a slice from a DataFrame.\n",
      "Try using .loc[row_indexer,col_indexer] = value instead\n",
      "\n",
      "See the caveats in the documentation: https://pandas.pydata.org/pandas-docs/stable/user_guide/indexing.html#returning-a-view-versus-a-copy\n",
      "  cat_data[i] = le.fit_transform(cat_data[i])\n",
      "C:\\Users\\Mo\\AppData\\Local\\Temp\\ipykernel_18512\\1980772507.py:2: SettingWithCopyWarning: \n",
      "A value is trying to be set on a copy of a slice from a DataFrame.\n",
      "Try using .loc[row_indexer,col_indexer] = value instead\n",
      "\n",
      "See the caveats in the documentation: https://pandas.pydata.org/pandas-docs/stable/user_guide/indexing.html#returning-a-view-versus-a-copy\n",
      "  cat_data[i] = le.fit_transform(cat_data[i])\n",
      "C:\\Users\\Mo\\AppData\\Local\\Temp\\ipykernel_18512\\1980772507.py:2: SettingWithCopyWarning: \n",
      "A value is trying to be set on a copy of a slice from a DataFrame.\n",
      "Try using .loc[row_indexer,col_indexer] = value instead\n",
      "\n",
      "See the caveats in the documentation: https://pandas.pydata.org/pandas-docs/stable/user_guide/indexing.html#returning-a-view-versus-a-copy\n",
      "  cat_data[i] = le.fit_transform(cat_data[i])\n",
      "C:\\Users\\Mo\\AppData\\Local\\Temp\\ipykernel_18512\\1980772507.py:2: SettingWithCopyWarning: \n",
      "A value is trying to be set on a copy of a slice from a DataFrame.\n",
      "Try using .loc[row_indexer,col_indexer] = value instead\n",
      "\n",
      "See the caveats in the documentation: https://pandas.pydata.org/pandas-docs/stable/user_guide/indexing.html#returning-a-view-versus-a-copy\n",
      "  cat_data[i] = le.fit_transform(cat_data[i])\n",
      "C:\\Users\\Mo\\AppData\\Local\\Temp\\ipykernel_18512\\1980772507.py:2: SettingWithCopyWarning: \n",
      "A value is trying to be set on a copy of a slice from a DataFrame.\n",
      "Try using .loc[row_indexer,col_indexer] = value instead\n",
      "\n",
      "See the caveats in the documentation: https://pandas.pydata.org/pandas-docs/stable/user_guide/indexing.html#returning-a-view-versus-a-copy\n",
      "  cat_data[i] = le.fit_transform(cat_data[i])\n",
      "C:\\Users\\Mo\\AppData\\Local\\Temp\\ipykernel_18512\\1980772507.py:2: SettingWithCopyWarning: \n",
      "A value is trying to be set on a copy of a slice from a DataFrame.\n",
      "Try using .loc[row_indexer,col_indexer] = value instead\n",
      "\n",
      "See the caveats in the documentation: https://pandas.pydata.org/pandas-docs/stable/user_guide/indexing.html#returning-a-view-versus-a-copy\n",
      "  cat_data[i] = le.fit_transform(cat_data[i])\n"
     ]
    },
    {
     "data": {
      "text/plain": "   Credit_History  Dependents  Education  Married  Property_Area  Loan_Status\n0               1           0          0        1              1            0\n1               1           0          0        0              0            0\n2               1           3          0        1              0            1\n3               1           2          0        1              1            1\n4               0           0          1        1              1            0",
      "text/html": "<div>\n<style scoped>\n    .dataframe tbody tr th:only-of-type {\n        vertical-align: middle;\n    }\n\n    .dataframe tbody tr th {\n        vertical-align: top;\n    }\n\n    .dataframe thead th {\n        text-align: right;\n    }\n</style>\n<table border=\"1\" class=\"dataframe\">\n  <thead>\n    <tr style=\"text-align: right;\">\n      <th></th>\n      <th>Credit_History</th>\n      <th>Dependents</th>\n      <th>Education</th>\n      <th>Married</th>\n      <th>Property_Area</th>\n      <th>Loan_Status</th>\n    </tr>\n  </thead>\n  <tbody>\n    <tr>\n      <th>0</th>\n      <td>1</td>\n      <td>0</td>\n      <td>0</td>\n      <td>1</td>\n      <td>1</td>\n      <td>0</td>\n    </tr>\n    <tr>\n      <th>1</th>\n      <td>1</td>\n      <td>0</td>\n      <td>0</td>\n      <td>0</td>\n      <td>0</td>\n      <td>0</td>\n    </tr>\n    <tr>\n      <th>2</th>\n      <td>1</td>\n      <td>3</td>\n      <td>0</td>\n      <td>1</td>\n      <td>0</td>\n      <td>1</td>\n    </tr>\n    <tr>\n      <th>3</th>\n      <td>1</td>\n      <td>2</td>\n      <td>0</td>\n      <td>1</td>\n      <td>1</td>\n      <td>1</td>\n    </tr>\n    <tr>\n      <th>4</th>\n      <td>0</td>\n      <td>0</td>\n      <td>1</td>\n      <td>1</td>\n      <td>1</td>\n      <td>0</td>\n    </tr>\n  </tbody>\n</table>\n</div>"
     },
     "execution_count": 22,
     "metadata": {},
     "output_type": "execute_result"
    }
   ]
  },
  {
   "cell_type": "markdown",
   "metadata": {
    "id": "T1jU9d28K-m4"
   },
   "source": [
    "## Combine both cat_data and numerical_data"
   ]
  },
  {
   "cell_type": "code",
   "metadata": {
    "id": "8Dl3xeaLK-m5",
    "ExecuteTime": {
     "end_time": "2024-01-03T22:54:02.814844700Z",
     "start_time": "2024-01-03T22:54:02.804612200Z"
    }
   },
   "source": [
    "df = pd.concat([cat_data, num_data], axis=1)\n",
    "df.head()"
   ],
   "execution_count": 23,
   "outputs": [
    {
     "data": {
      "text/plain": "   Credit_History  Dependents  Education  Married  Property_Area  Loan_Status  \\\n0               1           0          0        1              1            0   \n1               1           0          0        0              0            0   \n2               1           3          0        1              0            1   \n3               1           2          0        1              1            1   \n4               0           0          1        1              1            0   \n\n   CoapplicantIncome  \n0             6666.0  \n1             3666.0  \n2             3428.0  \n3             1632.0  \n4             1800.0  ",
      "text/html": "<div>\n<style scoped>\n    .dataframe tbody tr th:only-of-type {\n        vertical-align: middle;\n    }\n\n    .dataframe tbody tr th {\n        vertical-align: top;\n    }\n\n    .dataframe thead th {\n        text-align: right;\n    }\n</style>\n<table border=\"1\" class=\"dataframe\">\n  <thead>\n    <tr style=\"text-align: right;\">\n      <th></th>\n      <th>Credit_History</th>\n      <th>Dependents</th>\n      <th>Education</th>\n      <th>Married</th>\n      <th>Property_Area</th>\n      <th>Loan_Status</th>\n      <th>CoapplicantIncome</th>\n    </tr>\n  </thead>\n  <tbody>\n    <tr>\n      <th>0</th>\n      <td>1</td>\n      <td>0</td>\n      <td>0</td>\n      <td>1</td>\n      <td>1</td>\n      <td>0</td>\n      <td>6666.0</td>\n    </tr>\n    <tr>\n      <th>1</th>\n      <td>1</td>\n      <td>0</td>\n      <td>0</td>\n      <td>0</td>\n      <td>0</td>\n      <td>0</td>\n      <td>3666.0</td>\n    </tr>\n    <tr>\n      <th>2</th>\n      <td>1</td>\n      <td>3</td>\n      <td>0</td>\n      <td>1</td>\n      <td>0</td>\n      <td>1</td>\n      <td>3428.0</td>\n    </tr>\n    <tr>\n      <th>3</th>\n      <td>1</td>\n      <td>2</td>\n      <td>0</td>\n      <td>1</td>\n      <td>1</td>\n      <td>1</td>\n      <td>1632.0</td>\n    </tr>\n    <tr>\n      <th>4</th>\n      <td>0</td>\n      <td>0</td>\n      <td>1</td>\n      <td>1</td>\n      <td>1</td>\n      <td>0</td>\n      <td>1800.0</td>\n    </tr>\n  </tbody>\n</table>\n</div>"
     },
     "execution_count": 23,
     "metadata": {},
     "output_type": "execute_result"
    }
   ]
  },
  {
   "cell_type": "markdown",
   "metadata": {
    "id": "qjg5n5OfK-m8"
   },
   "source": [
    "## Normalization"
   ]
  },
  {
   "cell_type": "markdown",
   "metadata": {
    "id": "Luz-HezAucAx"
   },
   "source": [
    "**Question 9:** Normalize data ranges for all features (e.g., between 0 and 1)"
   ]
  },
  {
   "cell_type": "code",
   "metadata": {
    "id": "0b-_jm55K-m8",
    "ExecuteTime": {
     "end_time": "2024-01-03T22:54:07.204920800Z",
     "start_time": "2024-01-03T22:54:07.195810Z"
    }
   },
   "source": [
    "df_max = df.max()\n",
    "\n",
    "df_normalized = df.divide(df_max)\n",
    "df_normalized.describe()"
   ],
   "execution_count": 24,
   "outputs": [
    {
     "data": {
      "text/plain": "       Credit_History  Dependents   Education     Married  Property_Area  \\\ncount      614.000000  614.000000  614.000000  614.000000     614.000000   \nmean         0.855049    0.248100    0.218241    0.653094       0.518730   \nstd          0.352339    0.336541    0.413389    0.476373       0.393741   \nmin          0.000000    0.000000    0.000000    0.000000       0.000000   \n25%          1.000000    0.000000    0.000000    0.000000       0.000000   \n50%          1.000000    0.000000    0.000000    1.000000       0.500000   \n75%          1.000000    0.333333    0.000000    1.000000       1.000000   \nmax          1.000000    1.000000    1.000000    1.000000       1.000000   \n\n       Loan_Status  CoapplicantIncome  \ncount   614.000000         614.000000  \nmean      0.687296           0.038910  \nstd       0.463973           0.070229  \nmin       0.000000           0.000000  \n25%       0.000000           0.000000  \n50%       1.000000           0.028524  \n75%       1.000000           0.055134  \nmax       1.000000           1.000000  ",
      "text/html": "<div>\n<style scoped>\n    .dataframe tbody tr th:only-of-type {\n        vertical-align: middle;\n    }\n\n    .dataframe tbody tr th {\n        vertical-align: top;\n    }\n\n    .dataframe thead th {\n        text-align: right;\n    }\n</style>\n<table border=\"1\" class=\"dataframe\">\n  <thead>\n    <tr style=\"text-align: right;\">\n      <th></th>\n      <th>Credit_History</th>\n      <th>Dependents</th>\n      <th>Education</th>\n      <th>Married</th>\n      <th>Property_Area</th>\n      <th>Loan_Status</th>\n      <th>CoapplicantIncome</th>\n    </tr>\n  </thead>\n  <tbody>\n    <tr>\n      <th>count</th>\n      <td>614.000000</td>\n      <td>614.000000</td>\n      <td>614.000000</td>\n      <td>614.000000</td>\n      <td>614.000000</td>\n      <td>614.000000</td>\n      <td>614.000000</td>\n    </tr>\n    <tr>\n      <th>mean</th>\n      <td>0.855049</td>\n      <td>0.248100</td>\n      <td>0.218241</td>\n      <td>0.653094</td>\n      <td>0.518730</td>\n      <td>0.687296</td>\n      <td>0.038910</td>\n    </tr>\n    <tr>\n      <th>std</th>\n      <td>0.352339</td>\n      <td>0.336541</td>\n      <td>0.413389</td>\n      <td>0.476373</td>\n      <td>0.393741</td>\n      <td>0.463973</td>\n      <td>0.070229</td>\n    </tr>\n    <tr>\n      <th>min</th>\n      <td>0.000000</td>\n      <td>0.000000</td>\n      <td>0.000000</td>\n      <td>0.000000</td>\n      <td>0.000000</td>\n      <td>0.000000</td>\n      <td>0.000000</td>\n    </tr>\n    <tr>\n      <th>25%</th>\n      <td>1.000000</td>\n      <td>0.000000</td>\n      <td>0.000000</td>\n      <td>0.000000</td>\n      <td>0.000000</td>\n      <td>0.000000</td>\n      <td>0.000000</td>\n    </tr>\n    <tr>\n      <th>50%</th>\n      <td>1.000000</td>\n      <td>0.000000</td>\n      <td>0.000000</td>\n      <td>1.000000</td>\n      <td>0.500000</td>\n      <td>1.000000</td>\n      <td>0.028524</td>\n    </tr>\n    <tr>\n      <th>75%</th>\n      <td>1.000000</td>\n      <td>0.333333</td>\n      <td>0.000000</td>\n      <td>1.000000</td>\n      <td>1.000000</td>\n      <td>1.000000</td>\n      <td>0.055134</td>\n    </tr>\n    <tr>\n      <th>max</th>\n      <td>1.000000</td>\n      <td>1.000000</td>\n      <td>1.000000</td>\n      <td>1.000000</td>\n      <td>1.000000</td>\n      <td>1.000000</td>\n      <td>1.000000</td>\n    </tr>\n  </tbody>\n</table>\n</div>"
     },
     "execution_count": 24,
     "metadata": {},
     "output_type": "execute_result"
    }
   ]
  },
  {
   "cell_type": "markdown",
   "metadata": {
    "id": "rW7e-IqSK-nA"
   },
   "source": [
    "# 6. Training & Validating"
   ]
  },
  {
   "cell_type": "markdown",
   "metadata": {
    "id": "a1R3upjnRVks"
   },
   "source": [
    "We split the data between training and testing.\n",
    "Then, we train a model to predict the loan status"
   ]
  },
  {
   "cell_type": "code",
   "metadata": {
    "id": "IfUvvKFTK-nA",
    "ExecuteTime": {
     "end_time": "2024-01-03T22:55:41.139163300Z",
     "start_time": "2024-01-03T22:55:41.125119100Z"
    }
   },
   "source": [
    "input_variables = ['Credit_History','Dependents','Education','Married','Property_Area','CoapplicantIncome']\n",
    "x = df[input_variables]\n",
    "y = df['Loan_Status']\n",
    "\n",
    "x_train, x_test, y_train, y_test = train_test_split(x, y, test_size =0.3, random_state=12)"
   ],
   "execution_count": 28,
   "outputs": []
  },
  {
   "cell_type": "markdown",
   "metadata": {
    "id": "5qIDedqKTtfN"
   },
   "source": [
    "##Creating & Fitting the model"
   ]
  },
  {
   "cell_type": "code",
   "metadata": {
    "id": "Ejo6DMwoSTbV",
    "ExecuteTime": {
     "end_time": "2024-01-03T22:55:41.863188200Z",
     "start_time": "2024-01-03T22:55:41.855474500Z"
    }
   },
   "source": [
    "model=LogisticRegression()\n",
    "model.fit(x_train, y_train)"
   ],
   "execution_count": 29,
   "outputs": [
    {
     "name": "stderr",
     "output_type": "stream",
     "text": [
      "D:\\projects\\python\\jupyter\\.venv\\Lib\\site-packages\\sklearn\\linear_model\\_logistic.py:460: ConvergenceWarning: lbfgs failed to converge (status=1):\n",
      "STOP: TOTAL NO. of ITERATIONS REACHED LIMIT.\n",
      "\n",
      "Increase the number of iterations (max_iter) or scale the data as shown in:\n",
      "    https://scikit-learn.org/stable/modules/preprocessing.html\n",
      "Please also refer to the documentation for alternative solver options:\n",
      "    https://scikit-learn.org/stable/modules/linear_model.html#logistic-regression\n",
      "  n_iter_i = _check_optimize_result(\n"
     ]
    },
    {
     "data": {
      "text/plain": "LogisticRegression()",
      "text/html": "<style>#sk-container-id-2 {color: black;}#sk-container-id-2 pre{padding: 0;}#sk-container-id-2 div.sk-toggleable {background-color: white;}#sk-container-id-2 label.sk-toggleable__label {cursor: pointer;display: block;width: 100%;margin-bottom: 0;padding: 0.3em;box-sizing: border-box;text-align: center;}#sk-container-id-2 label.sk-toggleable__label-arrow:before {content: \"▸\";float: left;margin-right: 0.25em;color: #696969;}#sk-container-id-2 label.sk-toggleable__label-arrow:hover:before {color: black;}#sk-container-id-2 div.sk-estimator:hover label.sk-toggleable__label-arrow:before {color: black;}#sk-container-id-2 div.sk-toggleable__content {max-height: 0;max-width: 0;overflow: hidden;text-align: left;background-color: #f0f8ff;}#sk-container-id-2 div.sk-toggleable__content pre {margin: 0.2em;color: black;border-radius: 0.25em;background-color: #f0f8ff;}#sk-container-id-2 input.sk-toggleable__control:checked~div.sk-toggleable__content {max-height: 200px;max-width: 100%;overflow: auto;}#sk-container-id-2 input.sk-toggleable__control:checked~label.sk-toggleable__label-arrow:before {content: \"▾\";}#sk-container-id-2 div.sk-estimator input.sk-toggleable__control:checked~label.sk-toggleable__label {background-color: #d4ebff;}#sk-container-id-2 div.sk-label input.sk-toggleable__control:checked~label.sk-toggleable__label {background-color: #d4ebff;}#sk-container-id-2 input.sk-hidden--visually {border: 0;clip: rect(1px 1px 1px 1px);clip: rect(1px, 1px, 1px, 1px);height: 1px;margin: -1px;overflow: hidden;padding: 0;position: absolute;width: 1px;}#sk-container-id-2 div.sk-estimator {font-family: monospace;background-color: #f0f8ff;border: 1px dotted black;border-radius: 0.25em;box-sizing: border-box;margin-bottom: 0.5em;}#sk-container-id-2 div.sk-estimator:hover {background-color: #d4ebff;}#sk-container-id-2 div.sk-parallel-item::after {content: \"\";width: 100%;border-bottom: 1px solid gray;flex-grow: 1;}#sk-container-id-2 div.sk-label:hover label.sk-toggleable__label {background-color: #d4ebff;}#sk-container-id-2 div.sk-serial::before {content: \"\";position: absolute;border-left: 1px solid gray;box-sizing: border-box;top: 0;bottom: 0;left: 50%;z-index: 0;}#sk-container-id-2 div.sk-serial {display: flex;flex-direction: column;align-items: center;background-color: white;padding-right: 0.2em;padding-left: 0.2em;position: relative;}#sk-container-id-2 div.sk-item {position: relative;z-index: 1;}#sk-container-id-2 div.sk-parallel {display: flex;align-items: stretch;justify-content: center;background-color: white;position: relative;}#sk-container-id-2 div.sk-item::before, #sk-container-id-2 div.sk-parallel-item::before {content: \"\";position: absolute;border-left: 1px solid gray;box-sizing: border-box;top: 0;bottom: 0;left: 50%;z-index: -1;}#sk-container-id-2 div.sk-parallel-item {display: flex;flex-direction: column;z-index: 1;position: relative;background-color: white;}#sk-container-id-2 div.sk-parallel-item:first-child::after {align-self: flex-end;width: 50%;}#sk-container-id-2 div.sk-parallel-item:last-child::after {align-self: flex-start;width: 50%;}#sk-container-id-2 div.sk-parallel-item:only-child::after {width: 0;}#sk-container-id-2 div.sk-dashed-wrapped {border: 1px dashed gray;margin: 0 0.4em 0.5em 0.4em;box-sizing: border-box;padding-bottom: 0.4em;background-color: white;}#sk-container-id-2 div.sk-label label {font-family: monospace;font-weight: bold;display: inline-block;line-height: 1.2em;}#sk-container-id-2 div.sk-label-container {text-align: center;}#sk-container-id-2 div.sk-container {/* jupyter's `normalize.less` sets `[hidden] { display: none; }` but bootstrap.min.css set `[hidden] { display: none !important; }` so we also need the `!important` here to be able to override the default hidden behavior on the sphinx rendered scikit-learn.org. See: https://github.com/scikit-learn/scikit-learn/issues/21755 */display: inline-block !important;position: relative;}#sk-container-id-2 div.sk-text-repr-fallback {display: none;}</style><div id=\"sk-container-id-2\" class=\"sk-top-container\"><div class=\"sk-text-repr-fallback\"><pre>LogisticRegression()</pre><b>In a Jupyter environment, please rerun this cell to show the HTML representation or trust the notebook. <br />On GitHub, the HTML representation is unable to render, please try loading this page with nbviewer.org.</b></div><div class=\"sk-container\" hidden><div class=\"sk-item\"><div class=\"sk-estimator sk-toggleable\"><input class=\"sk-toggleable__control sk-hidden--visually\" id=\"sk-estimator-id-2\" type=\"checkbox\" checked><label for=\"sk-estimator-id-2\" class=\"sk-toggleable__label sk-toggleable__label-arrow\">LogisticRegression</label><div class=\"sk-toggleable__content\"><pre>LogisticRegression()</pre></div></div></div></div></div>"
     },
     "execution_count": 29,
     "metadata": {},
     "output_type": "execute_result"
    }
   ]
  },
  {
   "cell_type": "markdown",
   "metadata": {
    "id": "xTy8UkrEUNLM"
   },
   "source": [
    "##Validating the model"
   ]
  },
  {
   "cell_type": "code",
   "metadata": {
    "id": "GWFaCCnWUB2y",
    "ExecuteTime": {
     "end_time": "2024-01-03T22:55:43.043610400Z",
     "start_time": "2024-01-03T22:55:43.039587800Z"
    }
   },
   "source": [
    "predict_val = model.predict(x_test)\n",
    "accuracy_score(y_test,predict_val)"
   ],
   "execution_count": 30,
   "outputs": [
    {
     "data": {
      "text/plain": "0.8216216216216217"
     },
     "execution_count": 30,
     "metadata": {},
     "output_type": "execute_result"
    }
   ]
  },
  {
   "cell_type": "code",
   "outputs": [],
   "source": [],
   "metadata": {
    "collapsed": false
   }
  }
 ]
}
