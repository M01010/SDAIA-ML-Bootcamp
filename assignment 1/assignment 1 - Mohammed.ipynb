{
 "nbformat": 4,
 "nbformat_minor": 0,
 "metadata": {
  "kernelspec": {
   "display_name": "Python 3",
   "language": "python",
   "name": "python3"
  },
  "language_info": {
   "codemirror_mode": {
    "name": "ipython",
    "version": 3
   },
   "file_extension": ".py",
   "mimetype": "text/x-python",
   "name": "python",
   "nbconvert_exporter": "python",
   "pygments_lexer": "ipython3",
   "version": "3.7.0"
  },
  "colab": {
   "provenance": [],
   "toc_visible": true
  }
 },
 "cells": [
  {
   "cell_type": "markdown",
   "metadata": {
    "id": "lAF4GfsbNi1m"
   },
   "source": [
    "# Hotel Booking Data\n",
    "\n",
    "\n",
    "---\n",
    "**Objective:**\n",
    "\n",
    "In this notebook, we are going to create some visualizations to better explore our dataset and clean it as a next step.\n",
    "\n",
    "## Dataset Explanation\n",
    "- **hotelHotel:** (H1 = Resort Hotel or H2 = City Hotel)\n",
    "- **is_canceled:** Value indicating if the booking was canceled (1) or not (0)\n",
    "- **lead_time:** Number of days that elapsed between the entering date of the booking into the PMS and the arrival date\n",
    "- **arrival_date_year:** Year of arrival date\n",
    "- **arrival_date_month:** Month of arrival date\n",
    "- **arrival_date_week_number:** Week number of year for arrival date\n",
    "- **arrival_date_day_of_month:** Day of arrival date\n",
    "- **stays_in_weekend_nights:** Number of weekend nights (Saturday or Sunday) the guest stayed or booked to stay at the hotel\n",
    "- **stays_in_week_nights:** Number of week nights (Monday to Friday) the guest stayed or booked to stay at the hotel\n",
    "- **adults:** Number of adults\n",
    "- **children:** Number of children\n",
    "- **babies:** Number of babies\n",
    "- **meal:** Type of meal booked. Categories are presented in standard hospitality meal packages: Undefined/SC – no meal package; BB – Bed & Breakfast; HB – Half board (breakfast and one other meal – usually dinner); FB – Full board (breakfast, lunch and dinner)\n",
    "- **country:** Country of origin. Categories are represented in the ISO 3155–3:2013 format\n",
    "- **market_segment:** Market segment designation. In categories, the term “TA” means “Travel Agents” and “TO” means “Tour Operators”\n",
    "- **distribution_channel:** Booking distribution channel. The term “TA” means “Travel Agents” and “TO” means “Tour Operators”\n",
    "- **is_repeated_gues:t** Value indicating if the booking name was from a repeated guest (1) or not (0)\n",
    "- **previous_cancellations:**  Number of previous bookings that were cancelled by the customer prior to the current booking\n",
    "- **previous_bookings_not_canceled:** Number of previous bookings not cancelled by the customer prior to the current booking\n",
    "- **reserved_room_type:** Code of room type reserved. Code is presented instead of designation for anonymity reasons.\n",
    "- **assigned_room_type:** Code for the type of room assigned to the booking. Sometimes the assigned room type differs from the reserved room type due to hotel operation reasons (e.g. overbooking) or by customer request. Code is presented instead of designation for anonymity reasons.\n",
    "- **booking_changes:**  Number of changes/amendments made to the booking from the moment the booking was entered on the PMS until the moment of check-in or cancellation\n",
    "- **deposit_type:** Indication on if the customer made a deposit to guarantee the booking. This variable can assume three categories: No Deposit – no deposit was made; Non Refund – a deposit was made in the value of the total stay cost; Refundable – a deposit was made with a value under the total cost of stay.\n",
    "- **agent:** ID of the travel agency that made the booking\n",
    "- **company:** ID of the company/entity that made the booking or responsible for paying the booking. ID is presented instead of designation for anonymity reasons\n",
    "- **days_in_waiting_list:** Number of days the booking was in the waiting list before it was confirmed to the customer\n",
    "- **customer_type:** Type of booking, assuming one of four categories: Contract - when the booking has an allotment or other type of contract associated to it; Group – when the booking is associated to a group; Transient – when the booking is not part of a group or contract, and is not associated to other transient booking; Transient-party – when the booking is transient, but is associated to at least other transient booking\n",
    "- **adr:** Average Daily Rate as defined by dividing the sum of all lodging transactions by the total number of staying nights\n",
    "- **required_car_parking_spaces:** Number of car parking spaces required by the customer\n",
    "- **total_of_special_requests:** Number of special requests made by the customer (e.g. twin bed or high floor)\n",
    "- **reservation_status:** Reservation last status, assuming one of three categories: Canceled – booking was canceled by the customer; Check-Out – customer has checked in but already departed; No-Show – customer did not check-in and did inform the hotel of the reason why\n",
    "- **reservation_status_date:** Date at which the last status was set. This variable can be used in conjunction with the Reservation Status to understand when was the booking canceled or when did the customer checked-out of the hotel"
   ]
  },
  {
   "cell_type": "markdown",
   "metadata": {
    "id": "CeNQp4N2Ni1y"
   },
   "source": [
    "# Import Libraries"
   ]
  },
  {
   "cell_type": "code",
   "metadata": {
    "id": "wD4a1PLmNi1z",
    "ExecuteTime": {
     "end_time": "2024-01-01T12:54:16.881113100Z",
     "start_time": "2024-01-01T12:54:16.410969900Z"
    }
   },
   "source": [
    "import pandas as pd\n",
    "import numpy as np\n",
    "import matplotlib.pyplot as plt"
   ],
   "execution_count": 1,
   "outputs": []
  },
  {
   "cell_type": "markdown",
   "metadata": {
    "id": "nOKlj2e4Ni11"
   },
   "source": [
    "# Load Dataset"
   ]
  },
  {
   "cell_type": "markdown",
   "metadata": {
    "id": "Q_HBhm5w7zv4"
   },
   "source": [
    "After you download the **hotel_bookings.csv** dataset file, upload it to your runtime so you can work with it."
   ]
  },
  {
   "cell_type": "code",
   "metadata": {
    "id": "xySm4OVyNi11",
    "ExecuteTime": {
     "end_time": "2024-01-01T12:55:04.284952300Z",
     "start_time": "2024-01-01T12:55:04.149059300Z"
    }
   },
   "source": [
    "df = pd.read_csv('hotel_bookings.csv')\n"
   ],
   "execution_count": 2,
   "outputs": []
  },
  {
   "cell_type": "markdown",
   "metadata": {
    "id": "mLfkKUmQNi13"
   },
   "source": [
    "# 1. Exploring your data / Diagnosis phase"
   ]
  },
  {
   "cell_type": "markdown",
   "metadata": {
    "id": "4rKJxGj0Ni15"
   },
   "source": [
    "## 1.1 Question 1: Diagnose data for cleaning"
   ]
  },
  {
   "cell_type": "markdown",
   "metadata": {
    "id": "BtV9JXgVNi15"
   },
   "source": [
    "When you get a new DataFrame to work with, the first thing you need to do is explore it and see what it contains. There are several useful methods and attributes for this.\n",
    "\n",
    "- .head() returns the first few rows (the “head” of the DataFrame).\n",
    "- .tail() returns the first few rows (the “tail” of the DataFrame).\n",
    "- .info() shows information on each of the columns, such as the data type and number of missing values.\n",
    "- .shape returns the number of rows and columns of the DataFrame.\n",
    "- .columns: An index of columns: the column names.\n"
   ]
  },
  {
   "cell_type": "code",
   "metadata": {
    "id": "SUqLn9usNi16",
    "ExecuteTime": {
     "end_time": "2024-01-01T12:55:11.433772300Z",
     "start_time": "2024-01-01T12:55:11.423785500Z"
    }
   },
   "source": [
    "df.head()\n"
   ],
   "execution_count": 3,
   "outputs": [
    {
     "data": {
      "text/plain": "          hotel  is_canceled  lead_time  arrival_date_year arrival_date_month  \\\n0  Resort Hotel            0        342               2015               July   \n1  Resort Hotel            0        737               2015               July   \n2  Resort Hotel            0          7               2015               July   \n3  Resort Hotel            0         13               2015               July   \n4  Resort Hotel            0         14               2015               July   \n\n   arrival_date_week_number  arrival_date_day_of_month  \\\n0                        27                          1   \n1                        27                          1   \n2                        27                          1   \n3                        27                          1   \n4                        27                          1   \n\n   stays_in_weekend_nights  stays_in_week_nights  adults  ...  deposit_type  \\\n0                        0                     0       2  ...    No Deposit   \n1                        0                     0       2  ...    No Deposit   \n2                        0                     1       1  ...    No Deposit   \n3                        0                     1       1  ...    No Deposit   \n4                        0                     2       2  ...    No Deposit   \n\n   agent company days_in_waiting_list customer_type   adr  \\\n0    NaN     NaN                    0     Transient   0.0   \n1    NaN     NaN                    0     Transient   0.0   \n2    NaN     NaN                    0     Transient  75.0   \n3  304.0     NaN                    0     Transient  75.0   \n4  240.0     NaN                    0     Transient  98.0   \n\n   required_car_parking_spaces  total_of_special_requests  reservation_status  \\\n0                            0                          0           Check-Out   \n1                            0                          0           Check-Out   \n2                            0                          0           Check-Out   \n3                            0                          0           Check-Out   \n4                            0                          1           Check-Out   \n\n  reservation_status_date  \n0              2015-07-01  \n1              2015-07-01  \n2              2015-07-02  \n3              2015-07-02  \n4              2015-07-03  \n\n[5 rows x 32 columns]",
      "text/html": "<div>\n<style scoped>\n    .dataframe tbody tr th:only-of-type {\n        vertical-align: middle;\n    }\n\n    .dataframe tbody tr th {\n        vertical-align: top;\n    }\n\n    .dataframe thead th {\n        text-align: right;\n    }\n</style>\n<table border=\"1\" class=\"dataframe\">\n  <thead>\n    <tr style=\"text-align: right;\">\n      <th></th>\n      <th>hotel</th>\n      <th>is_canceled</th>\n      <th>lead_time</th>\n      <th>arrival_date_year</th>\n      <th>arrival_date_month</th>\n      <th>arrival_date_week_number</th>\n      <th>arrival_date_day_of_month</th>\n      <th>stays_in_weekend_nights</th>\n      <th>stays_in_week_nights</th>\n      <th>adults</th>\n      <th>...</th>\n      <th>deposit_type</th>\n      <th>agent</th>\n      <th>company</th>\n      <th>days_in_waiting_list</th>\n      <th>customer_type</th>\n      <th>adr</th>\n      <th>required_car_parking_spaces</th>\n      <th>total_of_special_requests</th>\n      <th>reservation_status</th>\n      <th>reservation_status_date</th>\n    </tr>\n  </thead>\n  <tbody>\n    <tr>\n      <th>0</th>\n      <td>Resort Hotel</td>\n      <td>0</td>\n      <td>342</td>\n      <td>2015</td>\n      <td>July</td>\n      <td>27</td>\n      <td>1</td>\n      <td>0</td>\n      <td>0</td>\n      <td>2</td>\n      <td>...</td>\n      <td>No Deposit</td>\n      <td>NaN</td>\n      <td>NaN</td>\n      <td>0</td>\n      <td>Transient</td>\n      <td>0.0</td>\n      <td>0</td>\n      <td>0</td>\n      <td>Check-Out</td>\n      <td>2015-07-01</td>\n    </tr>\n    <tr>\n      <th>1</th>\n      <td>Resort Hotel</td>\n      <td>0</td>\n      <td>737</td>\n      <td>2015</td>\n      <td>July</td>\n      <td>27</td>\n      <td>1</td>\n      <td>0</td>\n      <td>0</td>\n      <td>2</td>\n      <td>...</td>\n      <td>No Deposit</td>\n      <td>NaN</td>\n      <td>NaN</td>\n      <td>0</td>\n      <td>Transient</td>\n      <td>0.0</td>\n      <td>0</td>\n      <td>0</td>\n      <td>Check-Out</td>\n      <td>2015-07-01</td>\n    </tr>\n    <tr>\n      <th>2</th>\n      <td>Resort Hotel</td>\n      <td>0</td>\n      <td>7</td>\n      <td>2015</td>\n      <td>July</td>\n      <td>27</td>\n      <td>1</td>\n      <td>0</td>\n      <td>1</td>\n      <td>1</td>\n      <td>...</td>\n      <td>No Deposit</td>\n      <td>NaN</td>\n      <td>NaN</td>\n      <td>0</td>\n      <td>Transient</td>\n      <td>75.0</td>\n      <td>0</td>\n      <td>0</td>\n      <td>Check-Out</td>\n      <td>2015-07-02</td>\n    </tr>\n    <tr>\n      <th>3</th>\n      <td>Resort Hotel</td>\n      <td>0</td>\n      <td>13</td>\n      <td>2015</td>\n      <td>July</td>\n      <td>27</td>\n      <td>1</td>\n      <td>0</td>\n      <td>1</td>\n      <td>1</td>\n      <td>...</td>\n      <td>No Deposit</td>\n      <td>304.0</td>\n      <td>NaN</td>\n      <td>0</td>\n      <td>Transient</td>\n      <td>75.0</td>\n      <td>0</td>\n      <td>0</td>\n      <td>Check-Out</td>\n      <td>2015-07-02</td>\n    </tr>\n    <tr>\n      <th>4</th>\n      <td>Resort Hotel</td>\n      <td>0</td>\n      <td>14</td>\n      <td>2015</td>\n      <td>July</td>\n      <td>27</td>\n      <td>1</td>\n      <td>0</td>\n      <td>2</td>\n      <td>2</td>\n      <td>...</td>\n      <td>No Deposit</td>\n      <td>240.0</td>\n      <td>NaN</td>\n      <td>0</td>\n      <td>Transient</td>\n      <td>98.0</td>\n      <td>0</td>\n      <td>1</td>\n      <td>Check-Out</td>\n      <td>2015-07-03</td>\n    </tr>\n  </tbody>\n</table>\n<p>5 rows × 32 columns</p>\n</div>"
     },
     "execution_count": 3,
     "metadata": {},
     "output_type": "execute_result"
    }
   ]
  },
  {
   "cell_type": "code",
   "metadata": {
    "id": "9yCS5wxuNi19",
    "ExecuteTime": {
     "end_time": "2024-01-01T12:55:15.727903400Z",
     "start_time": "2024-01-01T12:55:15.720394300Z"
    }
   },
   "source": [
    "df.tail()\n"
   ],
   "execution_count": 4,
   "outputs": [
    {
     "data": {
      "text/plain": "             hotel  is_canceled  lead_time  arrival_date_year  \\\n119385  City Hotel            0         23               2017   \n119386  City Hotel            0        102               2017   \n119387  City Hotel            0         34               2017   \n119388  City Hotel            0        109               2017   \n119389  City Hotel            0        205               2017   \n\n       arrival_date_month  arrival_date_week_number  \\\n119385             August                        35   \n119386             August                        35   \n119387             August                        35   \n119388             August                        35   \n119389             August                        35   \n\n        arrival_date_day_of_month  stays_in_weekend_nights  \\\n119385                         30                        2   \n119386                         31                        2   \n119387                         31                        2   \n119388                         31                        2   \n119389                         29                        2   \n\n        stays_in_week_nights  adults  ...  deposit_type  agent company  \\\n119385                     5       2  ...    No Deposit  394.0     NaN   \n119386                     5       3  ...    No Deposit    9.0     NaN   \n119387                     5       2  ...    No Deposit    9.0     NaN   \n119388                     5       2  ...    No Deposit   89.0     NaN   \n119389                     7       2  ...    No Deposit    9.0     NaN   \n\n       days_in_waiting_list customer_type     adr  \\\n119385                    0     Transient   96.14   \n119386                    0     Transient  225.43   \n119387                    0     Transient  157.71   \n119388                    0     Transient  104.40   \n119389                    0     Transient  151.20   \n\n        required_car_parking_spaces  total_of_special_requests  \\\n119385                            0                          0   \n119386                            0                          2   \n119387                            0                          4   \n119388                            0                          0   \n119389                            0                          2   \n\n        reservation_status reservation_status_date  \n119385           Check-Out              2017-09-06  \n119386           Check-Out              2017-09-07  \n119387           Check-Out              2017-09-07  \n119388           Check-Out              2017-09-07  \n119389           Check-Out              2017-09-07  \n\n[5 rows x 32 columns]",
      "text/html": "<div>\n<style scoped>\n    .dataframe tbody tr th:only-of-type {\n        vertical-align: middle;\n    }\n\n    .dataframe tbody tr th {\n        vertical-align: top;\n    }\n\n    .dataframe thead th {\n        text-align: right;\n    }\n</style>\n<table border=\"1\" class=\"dataframe\">\n  <thead>\n    <tr style=\"text-align: right;\">\n      <th></th>\n      <th>hotel</th>\n      <th>is_canceled</th>\n      <th>lead_time</th>\n      <th>arrival_date_year</th>\n      <th>arrival_date_month</th>\n      <th>arrival_date_week_number</th>\n      <th>arrival_date_day_of_month</th>\n      <th>stays_in_weekend_nights</th>\n      <th>stays_in_week_nights</th>\n      <th>adults</th>\n      <th>...</th>\n      <th>deposit_type</th>\n      <th>agent</th>\n      <th>company</th>\n      <th>days_in_waiting_list</th>\n      <th>customer_type</th>\n      <th>adr</th>\n      <th>required_car_parking_spaces</th>\n      <th>total_of_special_requests</th>\n      <th>reservation_status</th>\n      <th>reservation_status_date</th>\n    </tr>\n  </thead>\n  <tbody>\n    <tr>\n      <th>119385</th>\n      <td>City Hotel</td>\n      <td>0</td>\n      <td>23</td>\n      <td>2017</td>\n      <td>August</td>\n      <td>35</td>\n      <td>30</td>\n      <td>2</td>\n      <td>5</td>\n      <td>2</td>\n      <td>...</td>\n      <td>No Deposit</td>\n      <td>394.0</td>\n      <td>NaN</td>\n      <td>0</td>\n      <td>Transient</td>\n      <td>96.14</td>\n      <td>0</td>\n      <td>0</td>\n      <td>Check-Out</td>\n      <td>2017-09-06</td>\n    </tr>\n    <tr>\n      <th>119386</th>\n      <td>City Hotel</td>\n      <td>0</td>\n      <td>102</td>\n      <td>2017</td>\n      <td>August</td>\n      <td>35</td>\n      <td>31</td>\n      <td>2</td>\n      <td>5</td>\n      <td>3</td>\n      <td>...</td>\n      <td>No Deposit</td>\n      <td>9.0</td>\n      <td>NaN</td>\n      <td>0</td>\n      <td>Transient</td>\n      <td>225.43</td>\n      <td>0</td>\n      <td>2</td>\n      <td>Check-Out</td>\n      <td>2017-09-07</td>\n    </tr>\n    <tr>\n      <th>119387</th>\n      <td>City Hotel</td>\n      <td>0</td>\n      <td>34</td>\n      <td>2017</td>\n      <td>August</td>\n      <td>35</td>\n      <td>31</td>\n      <td>2</td>\n      <td>5</td>\n      <td>2</td>\n      <td>...</td>\n      <td>No Deposit</td>\n      <td>9.0</td>\n      <td>NaN</td>\n      <td>0</td>\n      <td>Transient</td>\n      <td>157.71</td>\n      <td>0</td>\n      <td>4</td>\n      <td>Check-Out</td>\n      <td>2017-09-07</td>\n    </tr>\n    <tr>\n      <th>119388</th>\n      <td>City Hotel</td>\n      <td>0</td>\n      <td>109</td>\n      <td>2017</td>\n      <td>August</td>\n      <td>35</td>\n      <td>31</td>\n      <td>2</td>\n      <td>5</td>\n      <td>2</td>\n      <td>...</td>\n      <td>No Deposit</td>\n      <td>89.0</td>\n      <td>NaN</td>\n      <td>0</td>\n      <td>Transient</td>\n      <td>104.40</td>\n      <td>0</td>\n      <td>0</td>\n      <td>Check-Out</td>\n      <td>2017-09-07</td>\n    </tr>\n    <tr>\n      <th>119389</th>\n      <td>City Hotel</td>\n      <td>0</td>\n      <td>205</td>\n      <td>2017</td>\n      <td>August</td>\n      <td>35</td>\n      <td>29</td>\n      <td>2</td>\n      <td>7</td>\n      <td>2</td>\n      <td>...</td>\n      <td>No Deposit</td>\n      <td>9.0</td>\n      <td>NaN</td>\n      <td>0</td>\n      <td>Transient</td>\n      <td>151.20</td>\n      <td>0</td>\n      <td>2</td>\n      <td>Check-Out</td>\n      <td>2017-09-07</td>\n    </tr>\n  </tbody>\n</table>\n<p>5 rows × 32 columns</p>\n</div>"
     },
     "execution_count": 4,
     "metadata": {},
     "output_type": "execute_result"
    }
   ]
  },
  {
   "cell_type": "code",
   "metadata": {
    "id": "wg2F5FcaNi1-",
    "ExecuteTime": {
     "end_time": "2024-01-01T12:55:19.928343800Z",
     "start_time": "2024-01-01T12:55:19.885093600Z"
    }
   },
   "source": [
    "df.info()\n"
   ],
   "execution_count": 5,
   "outputs": [
    {
     "name": "stdout",
     "output_type": "stream",
     "text": [
      "<class 'pandas.core.frame.DataFrame'>\n",
      "RangeIndex: 119390 entries, 0 to 119389\n",
      "Data columns (total 32 columns):\n",
      " #   Column                          Non-Null Count   Dtype  \n",
      "---  ------                          --------------   -----  \n",
      " 0   hotel                           119390 non-null  object \n",
      " 1   is_canceled                     119390 non-null  int64  \n",
      " 2   lead_time                       119390 non-null  int64  \n",
      " 3   arrival_date_year               119390 non-null  int64  \n",
      " 4   arrival_date_month              119390 non-null  object \n",
      " 5   arrival_date_week_number        119390 non-null  int64  \n",
      " 6   arrival_date_day_of_month       119390 non-null  int64  \n",
      " 7   stays_in_weekend_nights         119390 non-null  int64  \n",
      " 8   stays_in_week_nights            119390 non-null  int64  \n",
      " 9   adults                          119390 non-null  int64  \n",
      " 10  children                        119386 non-null  float64\n",
      " 11  babies                          119390 non-null  int64  \n",
      " 12  meal                            119390 non-null  object \n",
      " 13  country                         118902 non-null  object \n",
      " 14  market_segment                  119390 non-null  object \n",
      " 15  distribution_channel            119390 non-null  object \n",
      " 16  is_repeated_guest               119390 non-null  int64  \n",
      " 17  previous_cancellations          119390 non-null  int64  \n",
      " 18  previous_bookings_not_canceled  119390 non-null  int64  \n",
      " 19  reserved_room_type              119390 non-null  object \n",
      " 20  assigned_room_type              119390 non-null  object \n",
      " 21  booking_changes                 119390 non-null  int64  \n",
      " 22  deposit_type                    119390 non-null  object \n",
      " 23  agent                           103050 non-null  float64\n",
      " 24  company                         6797 non-null    float64\n",
      " 25  days_in_waiting_list            119390 non-null  int64  \n",
      " 26  customer_type                   119390 non-null  object \n",
      " 27  adr                             119390 non-null  float64\n",
      " 28  required_car_parking_spaces     119390 non-null  int64  \n",
      " 29  total_of_special_requests       119390 non-null  int64  \n",
      " 30  reservation_status              119390 non-null  object \n",
      " 31  reservation_status_date         119390 non-null  object \n",
      "dtypes: float64(4), int64(16), object(12)\n",
      "memory usage: 29.1+ MB\n"
     ]
    }
   ]
  },
  {
   "cell_type": "code",
   "metadata": {
    "id": "uBPOHXoiNi1_",
    "ExecuteTime": {
     "end_time": "2024-01-01T12:55:27.604472200Z",
     "start_time": "2024-01-01T12:55:27.592462400Z"
    }
   },
   "source": [
    "df.shape\n"
   ],
   "execution_count": 6,
   "outputs": [
    {
     "data": {
      "text/plain": "(119390, 32)"
     },
     "execution_count": 6,
     "metadata": {},
     "output_type": "execute_result"
    }
   ]
  },
  {
   "cell_type": "code",
   "metadata": {
    "id": "ttktNlvMNi1_",
    "ExecuteTime": {
     "end_time": "2024-01-01T12:55:30.177585700Z",
     "start_time": "2024-01-01T12:55:30.166534500Z"
    }
   },
   "source": [
    "df.columns\n"
   ],
   "execution_count": 7,
   "outputs": [
    {
     "data": {
      "text/plain": "Index(['hotel', 'is_canceled', 'lead_time', 'arrival_date_year',\n       'arrival_date_month', 'arrival_date_week_number',\n       'arrival_date_day_of_month', 'stays_in_weekend_nights',\n       'stays_in_week_nights', 'adults', 'children', 'babies', 'meal',\n       'country', 'market_segment', 'distribution_channel',\n       'is_repeated_guest', 'previous_cancellations',\n       'previous_bookings_not_canceled', 'reserved_room_type',\n       'assigned_room_type', 'booking_changes', 'deposit_type', 'agent',\n       'company', 'days_in_waiting_list', 'customer_type', 'adr',\n       'required_car_parking_spaces', 'total_of_special_requests',\n       'reservation_status', 'reservation_status_date'],\n      dtype='object')"
     },
     "execution_count": 7,
     "metadata": {},
     "output_type": "execute_result"
    }
   ]
  },
  {
   "cell_type": "markdown",
   "metadata": {
    "id": "BJsq9LWBNi2A"
   },
   "source": [
    "- Missing values in agent, children, country and company columns (We can see that from the non null count)"
   ]
  },
  {
   "cell_type": "markdown",
   "metadata": {
    "id": "nXeR1-qjNi2B"
   },
   "source": [
    "## 1.2 Exploratory data analysis"
   ]
  },
  {
   "cell_type": "markdown",
   "source": [
    "### Question 2: Check for missing Values\n",
    "\n",
    " Missing data can affect your analysis and models. Determine if any columns have missing values and decide how to handle them."
   ],
   "metadata": {
    "id": "5IJdch6he9IT"
   }
  },
  {
   "cell_type": "code",
   "source": [
    "df.isnull().sum()\n",
    "# Count of missing values in each column\n"
   ],
   "metadata": {
    "id": "c8KLsL1OfLbB",
    "ExecuteTime": {
     "end_time": "2024-01-01T12:56:11.554136300Z",
     "start_time": "2024-01-01T12:56:11.508939600Z"
    }
   },
   "execution_count": 10,
   "outputs": [
    {
     "data": {
      "text/plain": "hotel                                  0\nis_canceled                            0\nlead_time                              0\narrival_date_year                      0\narrival_date_month                     0\narrival_date_week_number               0\narrival_date_day_of_month              0\nstays_in_weekend_nights                0\nstays_in_week_nights                   0\nadults                                 0\nchildren                               4\nbabies                                 0\nmeal                                   0\ncountry                              488\nmarket_segment                         0\ndistribution_channel                   0\nis_repeated_guest                      0\nprevious_cancellations                 0\nprevious_bookings_not_canceled         0\nreserved_room_type                     0\nassigned_room_type                     0\nbooking_changes                        0\ndeposit_type                           0\nagent                              16340\ncompany                           112593\ndays_in_waiting_list                   0\ncustomer_type                          0\nadr                                    0\nrequired_car_parking_spaces            0\ntotal_of_special_requests              0\nreservation_status                     0\nreservation_status_date                0\ndtype: int64"
     },
     "execution_count": 10,
     "metadata": {},
     "output_type": "execute_result"
    }
   ]
  },
  {
   "cell_type": "markdown",
   "source": [
    "[children, country, agent, company] have nulls"
   ],
   "metadata": {
    "collapsed": false
   }
  },
  {
   "cell_type": "markdown",
   "source": [
    "### Question 3: Explore descriptive statistics"
   ],
   "metadata": {
    "id": "ZM89hqPIfR6e"
   }
  },
  {
   "cell_type": "code",
   "source": [
    " # Summary statistics for numerical columns\n",
    "df.describe()"
   ],
   "metadata": {
    "id": "znf0BOUafUoE",
    "ExecuteTime": {
     "end_time": "2024-01-01T12:57:43.037007200Z",
     "start_time": "2024-01-01T12:57:42.990211Z"
    }
   },
   "execution_count": 12,
   "outputs": [
    {
     "data": {
      "text/plain": "         is_canceled      lead_time  arrival_date_year  \\\ncount  119390.000000  119390.000000      119390.000000   \nmean        0.370416     104.011416        2016.156554   \nstd         0.482918     106.863097           0.707476   \nmin         0.000000       0.000000        2015.000000   \n25%         0.000000      18.000000        2016.000000   \n50%         0.000000      69.000000        2016.000000   \n75%         1.000000     160.000000        2017.000000   \nmax         1.000000     737.000000        2017.000000   \n\n       arrival_date_week_number  arrival_date_day_of_month  \\\ncount             119390.000000              119390.000000   \nmean                  27.165173                  15.798241   \nstd                   13.605138                   8.780829   \nmin                    1.000000                   1.000000   \n25%                   16.000000                   8.000000   \n50%                   28.000000                  16.000000   \n75%                   38.000000                  23.000000   \nmax                   53.000000                  31.000000   \n\n       stays_in_weekend_nights  stays_in_week_nights         adults  \\\ncount            119390.000000         119390.000000  119390.000000   \nmean                  0.927599              2.500302       1.856403   \nstd                   0.998613              1.908286       0.579261   \nmin                   0.000000              0.000000       0.000000   \n25%                   0.000000              1.000000       2.000000   \n50%                   1.000000              2.000000       2.000000   \n75%                   2.000000              3.000000       2.000000   \nmax                  19.000000             50.000000      55.000000   \n\n            children         babies  is_repeated_guest  \\\ncount  119386.000000  119390.000000      119390.000000   \nmean        0.103890       0.007949           0.031912   \nstd         0.398561       0.097436           0.175767   \nmin         0.000000       0.000000           0.000000   \n25%         0.000000       0.000000           0.000000   \n50%         0.000000       0.000000           0.000000   \n75%         0.000000       0.000000           0.000000   \nmax        10.000000      10.000000           1.000000   \n\n       previous_cancellations  previous_bookings_not_canceled  \\\ncount           119390.000000                   119390.000000   \nmean                 0.087118                        0.137097   \nstd                  0.844336                        1.497437   \nmin                  0.000000                        0.000000   \n25%                  0.000000                        0.000000   \n50%                  0.000000                        0.000000   \n75%                  0.000000                        0.000000   \nmax                 26.000000                       72.000000   \n\n       booking_changes          agent      company  days_in_waiting_list  \\\ncount    119390.000000  103050.000000  6797.000000         119390.000000   \nmean          0.221124      86.693382   189.266735              2.321149   \nstd           0.652306     110.774548   131.655015             17.594721   \nmin           0.000000       1.000000     6.000000              0.000000   \n25%           0.000000       9.000000    62.000000              0.000000   \n50%           0.000000      14.000000   179.000000              0.000000   \n75%           0.000000     229.000000   270.000000              0.000000   \nmax          21.000000     535.000000   543.000000            391.000000   \n\n                 adr  required_car_parking_spaces  total_of_special_requests  \ncount  119390.000000                119390.000000              119390.000000  \nmean      101.831122                     0.062518                   0.571363  \nstd        50.535790                     0.245291                   0.792798  \nmin        -6.380000                     0.000000                   0.000000  \n25%        69.290000                     0.000000                   0.000000  \n50%        94.575000                     0.000000                   0.000000  \n75%       126.000000                     0.000000                   1.000000  \nmax      5400.000000                     8.000000                   5.000000  ",
      "text/html": "<div>\n<style scoped>\n    .dataframe tbody tr th:only-of-type {\n        vertical-align: middle;\n    }\n\n    .dataframe tbody tr th {\n        vertical-align: top;\n    }\n\n    .dataframe thead th {\n        text-align: right;\n    }\n</style>\n<table border=\"1\" class=\"dataframe\">\n  <thead>\n    <tr style=\"text-align: right;\">\n      <th></th>\n      <th>is_canceled</th>\n      <th>lead_time</th>\n      <th>arrival_date_year</th>\n      <th>arrival_date_week_number</th>\n      <th>arrival_date_day_of_month</th>\n      <th>stays_in_weekend_nights</th>\n      <th>stays_in_week_nights</th>\n      <th>adults</th>\n      <th>children</th>\n      <th>babies</th>\n      <th>is_repeated_guest</th>\n      <th>previous_cancellations</th>\n      <th>previous_bookings_not_canceled</th>\n      <th>booking_changes</th>\n      <th>agent</th>\n      <th>company</th>\n      <th>days_in_waiting_list</th>\n      <th>adr</th>\n      <th>required_car_parking_spaces</th>\n      <th>total_of_special_requests</th>\n    </tr>\n  </thead>\n  <tbody>\n    <tr>\n      <th>count</th>\n      <td>119390.000000</td>\n      <td>119390.000000</td>\n      <td>119390.000000</td>\n      <td>119390.000000</td>\n      <td>119390.000000</td>\n      <td>119390.000000</td>\n      <td>119390.000000</td>\n      <td>119390.000000</td>\n      <td>119386.000000</td>\n      <td>119390.000000</td>\n      <td>119390.000000</td>\n      <td>119390.000000</td>\n      <td>119390.000000</td>\n      <td>119390.000000</td>\n      <td>103050.000000</td>\n      <td>6797.000000</td>\n      <td>119390.000000</td>\n      <td>119390.000000</td>\n      <td>119390.000000</td>\n      <td>119390.000000</td>\n    </tr>\n    <tr>\n      <th>mean</th>\n      <td>0.370416</td>\n      <td>104.011416</td>\n      <td>2016.156554</td>\n      <td>27.165173</td>\n      <td>15.798241</td>\n      <td>0.927599</td>\n      <td>2.500302</td>\n      <td>1.856403</td>\n      <td>0.103890</td>\n      <td>0.007949</td>\n      <td>0.031912</td>\n      <td>0.087118</td>\n      <td>0.137097</td>\n      <td>0.221124</td>\n      <td>86.693382</td>\n      <td>189.266735</td>\n      <td>2.321149</td>\n      <td>101.831122</td>\n      <td>0.062518</td>\n      <td>0.571363</td>\n    </tr>\n    <tr>\n      <th>std</th>\n      <td>0.482918</td>\n      <td>106.863097</td>\n      <td>0.707476</td>\n      <td>13.605138</td>\n      <td>8.780829</td>\n      <td>0.998613</td>\n      <td>1.908286</td>\n      <td>0.579261</td>\n      <td>0.398561</td>\n      <td>0.097436</td>\n      <td>0.175767</td>\n      <td>0.844336</td>\n      <td>1.497437</td>\n      <td>0.652306</td>\n      <td>110.774548</td>\n      <td>131.655015</td>\n      <td>17.594721</td>\n      <td>50.535790</td>\n      <td>0.245291</td>\n      <td>0.792798</td>\n    </tr>\n    <tr>\n      <th>min</th>\n      <td>0.000000</td>\n      <td>0.000000</td>\n      <td>2015.000000</td>\n      <td>1.000000</td>\n      <td>1.000000</td>\n      <td>0.000000</td>\n      <td>0.000000</td>\n      <td>0.000000</td>\n      <td>0.000000</td>\n      <td>0.000000</td>\n      <td>0.000000</td>\n      <td>0.000000</td>\n      <td>0.000000</td>\n      <td>0.000000</td>\n      <td>1.000000</td>\n      <td>6.000000</td>\n      <td>0.000000</td>\n      <td>-6.380000</td>\n      <td>0.000000</td>\n      <td>0.000000</td>\n    </tr>\n    <tr>\n      <th>25%</th>\n      <td>0.000000</td>\n      <td>18.000000</td>\n      <td>2016.000000</td>\n      <td>16.000000</td>\n      <td>8.000000</td>\n      <td>0.000000</td>\n      <td>1.000000</td>\n      <td>2.000000</td>\n      <td>0.000000</td>\n      <td>0.000000</td>\n      <td>0.000000</td>\n      <td>0.000000</td>\n      <td>0.000000</td>\n      <td>0.000000</td>\n      <td>9.000000</td>\n      <td>62.000000</td>\n      <td>0.000000</td>\n      <td>69.290000</td>\n      <td>0.000000</td>\n      <td>0.000000</td>\n    </tr>\n    <tr>\n      <th>50%</th>\n      <td>0.000000</td>\n      <td>69.000000</td>\n      <td>2016.000000</td>\n      <td>28.000000</td>\n      <td>16.000000</td>\n      <td>1.000000</td>\n      <td>2.000000</td>\n      <td>2.000000</td>\n      <td>0.000000</td>\n      <td>0.000000</td>\n      <td>0.000000</td>\n      <td>0.000000</td>\n      <td>0.000000</td>\n      <td>0.000000</td>\n      <td>14.000000</td>\n      <td>179.000000</td>\n      <td>0.000000</td>\n      <td>94.575000</td>\n      <td>0.000000</td>\n      <td>0.000000</td>\n    </tr>\n    <tr>\n      <th>75%</th>\n      <td>1.000000</td>\n      <td>160.000000</td>\n      <td>2017.000000</td>\n      <td>38.000000</td>\n      <td>23.000000</td>\n      <td>2.000000</td>\n      <td>3.000000</td>\n      <td>2.000000</td>\n      <td>0.000000</td>\n      <td>0.000000</td>\n      <td>0.000000</td>\n      <td>0.000000</td>\n      <td>0.000000</td>\n      <td>0.000000</td>\n      <td>229.000000</td>\n      <td>270.000000</td>\n      <td>0.000000</td>\n      <td>126.000000</td>\n      <td>0.000000</td>\n      <td>1.000000</td>\n    </tr>\n    <tr>\n      <th>max</th>\n      <td>1.000000</td>\n      <td>737.000000</td>\n      <td>2017.000000</td>\n      <td>53.000000</td>\n      <td>31.000000</td>\n      <td>19.000000</td>\n      <td>50.000000</td>\n      <td>55.000000</td>\n      <td>10.000000</td>\n      <td>10.000000</td>\n      <td>1.000000</td>\n      <td>26.000000</td>\n      <td>72.000000</td>\n      <td>21.000000</td>\n      <td>535.000000</td>\n      <td>543.000000</td>\n      <td>391.000000</td>\n      <td>5400.000000</td>\n      <td>8.000000</td>\n      <td>5.000000</td>\n    </tr>\n  </tbody>\n</table>\n</div>"
     },
     "execution_count": 12,
     "metadata": {},
     "output_type": "execute_result"
    }
   ]
  },
  {
   "cell_type": "markdown",
   "source": [
    "### Question 4: Data Visualization"
   ],
   "metadata": {
    "id": "m0FrovnZfbtT"
   }
  },
  {
   "cell_type": "code",
   "source": [
    "import matplotlib.pyplot as plt\n",
    "\n",
    "# Histogram for \"required_car_parking_spaces\" column\n",
    "plt.hist(df['required_car_parking_spaces'], bins=20)\n",
    "plt.xlabel('Number of required car parking spaces')\n",
    "plt.ylabel('Count')\n",
    "plt.title('Distribution of required car parking spaces')\n",
    "plt.show()\n",
    "\n",
    "\n",
    "\n",
    "\n",
    "# Bar plot for \"is_canceled\" column\n",
    "canceled_counts = df['is_canceled'].value_counts()\n",
    "labels = ['Not Canceled', 'Canceled']\n",
    "plt.bar(labels, canceled_counts)\n",
    "plt.xlabel('Canceled')\n",
    "plt.ylabel('Count')\n",
    "plt.title('Count of Canceled bookings')\n",
    "plt.show()\n",
    "\n",
    "\n",
    "\n"
   ],
   "metadata": {
    "id": "0CUreXf1mqeg",
    "ExecuteTime": {
     "end_time": "2024-01-01T13:06:20.728260600Z",
     "start_time": "2024-01-01T13:06:20.614376900Z"
    }
   },
   "execution_count": 34,
   "outputs": [
    {
     "data": {
      "text/plain": "<Figure size 640x480 with 1 Axes>",
      "image/png": "[encoded data removed]"
     },
     "metadata": {},
     "output_type": "display_data"
    },
    {
     "data": {
      "text/plain": "<Figure size 640x480 with 1 Axes>",
      "image/png": "[encoded data removed]"
     },
     "metadata": {},
     "output_type": "display_data"
    }
   ]
  },
  {
   "cell_type": "markdown",
   "source": [
    "## 1.3 Cleaning"
   ],
   "metadata": {
    "id": "aew0aHNCf_4k"
   }
  },
  {
   "cell_type": "markdown",
   "source": [
    "### Question 5: Handling Missing Values"
   ],
   "metadata": {
    "id": "5GMF3ltFgwvm"
   }
  },
  {
   "cell_type": "code",
   "source": [
    "# Create a copy of the DataFrame\n",
    "df_copy = df.copy()\n",
    "\n",
    "# Option 1: Remove rows with missing values\n",
    "\n",
    "df_copy_dropped = df_copy.dropna()\n",
    "\n",
    "\n",
    "# Option 2: Impute missing values\n",
    "# Fill missing values with a specific value\n",
    "\n",
    "df_copy_filled = df_copy.fillna(0)\n",
    "\n",
    "\n",
    "# Fill missing values with the mean value of the column\n",
    "\n",
    "df_copy_mean = df_copy.fillna(df.mean)\n",
    "\n",
    "\n",
    "# Option 3: Drop columns with excessive missing data\n",
    "# Set a threshold for the percentage of missing values in a column\n",
    "threshold = 0.5  # Example threshold of 50%\n",
    "df_copy_dropped_cols = df_copy.dropna(thresh=threshold*len(df_copy), axis=1)\n",
    "\n",
    "# Print the modified DataFrames\n",
    "print(\"DataFrame with dropped rows:\\n\", df_copy_dropped)\n",
    "print(\"DataFrame with filled missing values:\\n\", df_copy_filled)\n",
    "print(\"DataFrame with filled missing values using mean:\\n\", df_copy_mean)\n"
   ],
   "metadata": {
    "id": "pe8JZOfPghj_",
    "ExecuteTime": {
     "end_time": "2024-01-01T13:10:18.065111500Z",
     "start_time": "2024-01-01T13:10:17.600423900Z"
    }
   },
   "execution_count": 41,
   "outputs": [
    {
     "name": "stdout",
     "output_type": "stream",
     "text": [
      "DataFrame with dropped rows:\n",
      "                hotel  is_canceled  lead_time  arrival_date_year  \\\n",
      "2392    Resort Hotel            0          6               2015   \n",
      "2697    Resort Hotel            0         24               2015   \n",
      "2867    Resort Hotel            0         24               2015   \n",
      "2877    Resort Hotel            0         24               2015   \n",
      "2878    Resort Hotel            0         24               2015   \n",
      "...              ...          ...        ...                ...   \n",
      "112499    City Hotel            0         13               2017   \n",
      "113046    City Hotel            0         13               2017   \n",
      "113082    City Hotel            0         13               2017   \n",
      "113627    City Hotel            0        210               2017   \n",
      "116451    City Hotel            0        191               2017   \n",
      "\n",
      "       arrival_date_month  arrival_date_week_number  \\\n",
      "2392              October                        42   \n",
      "2697              October                        44   \n",
      "2867             November                        45   \n",
      "2877             November                        45   \n",
      "2878             November                        45   \n",
      "...                   ...                       ...   \n",
      "112499                May                        21   \n",
      "113046                May                        22   \n",
      "113082                May                        22   \n",
      "113627               June                        23   \n",
      "116451               July                        29   \n",
      "\n",
      "        arrival_date_day_of_month  stays_in_weekend_nights  \\\n",
      "2392                           11                        2   \n",
      "2697                           26                        7   \n",
      "2867                            3                        0   \n",
      "2877                            3                        2   \n",
      "2878                            3                        3   \n",
      "...                           ...                      ...   \n",
      "112499                         24                        0   \n",
      "113046                         29                        1   \n",
      "113082                         29                        1   \n",
      "113627                          9                        0   \n",
      "116451                         16                        2   \n",
      "\n",
      "        stays_in_week_nights  adults  ...  deposit_type  agent company  \\\n",
      "2392                       0       2  ...    No Deposit  240.0   113.0   \n",
      "2697                      15       1  ...    No Deposit  185.0   281.0   \n",
      "2867                       3       2  ...    No Deposit  334.0   281.0   \n",
      "2877                      10       1  ...    No Deposit  328.0   281.0   \n",
      "2878                      10       2  ...    No Deposit  326.0   281.0   \n",
      "...                      ...     ...  ...           ...    ...     ...   \n",
      "112499                     1       2  ...    No Deposit    9.0   478.0   \n",
      "113046                     3       1  ...    No Deposit  290.0   148.0   \n",
      "113082                     3       2  ...    No Deposit  290.0   148.0   \n",
      "113627                     1       2  ...    No Deposit   14.0   229.0   \n",
      "116451                     2       2  ...    No Deposit    9.0   421.0   \n",
      "\n",
      "       days_in_waiting_list    customer_type    adr  \\\n",
      "2392                      0        Transient   82.0   \n",
      "2697                      0  Transient-Party   52.2   \n",
      "2867                      0  Transient-Party   48.0   \n",
      "2877                      0  Transient-Party   40.0   \n",
      "2878                      0  Transient-Party   48.0   \n",
      "...                     ...              ...    ...   \n",
      "112499                    0  Transient-Party  150.0   \n",
      "113046                    0        Transient   95.0   \n",
      "113082                    0        Transient  110.0   \n",
      "113627                    0        Transient  135.0   \n",
      "116451                    0        Transient  120.6   \n",
      "\n",
      "        required_car_parking_spaces  total_of_special_requests  \\\n",
      "2392                              1                          1   \n",
      "2697                              0                          0   \n",
      "2867                              0                          0   \n",
      "2877                              0                          0   \n",
      "2878                              0                          0   \n",
      "...                             ...                        ...   \n",
      "112499                            0                          1   \n",
      "113046                            0                          0   \n",
      "113082                            0                          0   \n",
      "113627                            0                          0   \n",
      "116451                            0                          2   \n",
      "\n",
      "        reservation_status reservation_status_date  \n",
      "2392             Check-Out              2015-10-13  \n",
      "2697             Check-Out              2015-11-17  \n",
      "2867             Check-Out              2015-11-06  \n",
      "2877             Check-Out              2015-11-15  \n",
      "2878             Check-Out              2015-11-16  \n",
      "...                    ...                     ...  \n",
      "112499           Check-Out              2017-05-25  \n",
      "113046           Check-Out              2017-06-02  \n",
      "113082           Check-Out              2017-06-02  \n",
      "113627           Check-Out              2017-06-10  \n",
      "116451           Check-Out              2017-07-20  \n",
      "\n",
      "[217 rows x 32 columns]\n",
      "DataFrame with filled missing values:\n",
      "                hotel  is_canceled  lead_time  arrival_date_year  \\\n",
      "0       Resort Hotel            0        342               2015   \n",
      "1       Resort Hotel            0        737               2015   \n",
      "2       Resort Hotel            0          7               2015   \n",
      "3       Resort Hotel            0         13               2015   \n",
      "4       Resort Hotel            0         14               2015   \n",
      "...              ...          ...        ...                ...   \n",
      "119385    City Hotel            0         23               2017   \n",
      "119386    City Hotel            0        102               2017   \n",
      "119387    City Hotel            0         34               2017   \n",
      "119388    City Hotel            0        109               2017   \n",
      "119389    City Hotel            0        205               2017   \n",
      "\n",
      "       arrival_date_month  arrival_date_week_number  \\\n",
      "0                    July                        27   \n",
      "1                    July                        27   \n",
      "2                    July                        27   \n",
      "3                    July                        27   \n",
      "4                    July                        27   \n",
      "...                   ...                       ...   \n",
      "119385             August                        35   \n",
      "119386             August                        35   \n",
      "119387             August                        35   \n",
      "119388             August                        35   \n",
      "119389             August                        35   \n",
      "\n",
      "        arrival_date_day_of_month  stays_in_weekend_nights  \\\n",
      "0                               1                        0   \n",
      "1                               1                        0   \n",
      "2                               1                        0   \n",
      "3                               1                        0   \n",
      "4                               1                        0   \n",
      "...                           ...                      ...   \n",
      "119385                         30                        2   \n",
      "119386                         31                        2   \n",
      "119387                         31                        2   \n",
      "119388                         31                        2   \n",
      "119389                         29                        2   \n",
      "\n",
      "        stays_in_week_nights  adults  ...  deposit_type  agent company  \\\n",
      "0                          0       2  ...    No Deposit    0.0     0.0   \n",
      "1                          0       2  ...    No Deposit    0.0     0.0   \n",
      "2                          1       1  ...    No Deposit    0.0     0.0   \n",
      "3                          1       1  ...    No Deposit  304.0     0.0   \n",
      "4                          2       2  ...    No Deposit  240.0     0.0   \n",
      "...                      ...     ...  ...           ...    ...     ...   \n",
      "119385                     5       2  ...    No Deposit  394.0     0.0   \n",
      "119386                     5       3  ...    No Deposit    9.0     0.0   \n",
      "119387                     5       2  ...    No Deposit    9.0     0.0   \n",
      "119388                     5       2  ...    No Deposit   89.0     0.0   \n",
      "119389                     7       2  ...    No Deposit    9.0     0.0   \n",
      "\n",
      "       days_in_waiting_list customer_type     adr  \\\n",
      "0                         0     Transient    0.00   \n",
      "1                         0     Transient    0.00   \n",
      "2                         0     Transient   75.00   \n",
      "3                         0     Transient   75.00   \n",
      "4                         0     Transient   98.00   \n",
      "...                     ...           ...     ...   \n",
      "119385                    0     Transient   96.14   \n",
      "119386                    0     Transient  225.43   \n",
      "119387                    0     Transient  157.71   \n",
      "119388                    0     Transient  104.40   \n",
      "119389                    0     Transient  151.20   \n",
      "\n",
      "        required_car_parking_spaces  total_of_special_requests  \\\n",
      "0                                 0                          0   \n",
      "1                                 0                          0   \n",
      "2                                 0                          0   \n",
      "3                                 0                          0   \n",
      "4                                 0                          1   \n",
      "...                             ...                        ...   \n",
      "119385                            0                          0   \n",
      "119386                            0                          2   \n",
      "119387                            0                          4   \n",
      "119388                            0                          0   \n",
      "119389                            0                          2   \n",
      "\n",
      "        reservation_status reservation_status_date  \n",
      "0                Check-Out              2015-07-01  \n",
      "1                Check-Out              2015-07-01  \n",
      "2                Check-Out              2015-07-02  \n",
      "3                Check-Out              2015-07-02  \n",
      "4                Check-Out              2015-07-03  \n",
      "...                    ...                     ...  \n",
      "119385           Check-Out              2017-09-06  \n",
      "119386           Check-Out              2017-09-07  \n",
      "119387           Check-Out              2017-09-07  \n",
      "119388           Check-Out              2017-09-07  \n",
      "119389           Check-Out              2017-09-07  \n",
      "\n",
      "[119390 rows x 32 columns]\n",
      "DataFrame with filled missing values using mean:\n",
      "                hotel  is_canceled  lead_time  arrival_date_year  \\\n",
      "0       Resort Hotel            0        342               2015   \n",
      "1       Resort Hotel            0        737               2015   \n",
      "2       Resort Hotel            0          7               2015   \n",
      "3       Resort Hotel            0         13               2015   \n",
      "4       Resort Hotel            0         14               2015   \n",
      "...              ...          ...        ...                ...   \n",
      "119385    City Hotel            0         23               2017   \n",
      "119386    City Hotel            0        102               2017   \n",
      "119387    City Hotel            0         34               2017   \n",
      "119388    City Hotel            0        109               2017   \n",
      "119389    City Hotel            0        205               2017   \n",
      "\n",
      "       arrival_date_month  arrival_date_week_number  \\\n",
      "0                    July                        27   \n",
      "1                    July                        27   \n",
      "2                    July                        27   \n",
      "3                    July                        27   \n",
      "4                    July                        27   \n",
      "...                   ...                       ...   \n",
      "119385             August                        35   \n",
      "119386             August                        35   \n",
      "119387             August                        35   \n",
      "119388             August                        35   \n",
      "119389             August                        35   \n",
      "\n",
      "        arrival_date_day_of_month  stays_in_weekend_nights  \\\n",
      "0                               1                        0   \n",
      "1                               1                        0   \n",
      "2                               1                        0   \n",
      "3                               1                        0   \n",
      "4                               1                        0   \n",
      "...                           ...                      ...   \n",
      "119385                         30                        2   \n",
      "119386                         31                        2   \n",
      "119387                         31                        2   \n",
      "119388                         31                        2   \n",
      "119389                         29                        2   \n",
      "\n",
      "        stays_in_week_nights  adults  ... deposit_type  \\\n",
      "0                          0       2  ...   No Deposit   \n",
      "1                          0       2  ...   No Deposit   \n",
      "2                          1       1  ...   No Deposit   \n",
      "3                          1       1  ...   No Deposit   \n",
      "4                          2       2  ...   No Deposit   \n",
      "...                      ...     ...  ...          ...   \n",
      "119385                     5       2  ...   No Deposit   \n",
      "119386                     5       3  ...   No Deposit   \n",
      "119387                     5       2  ...   No Deposit   \n",
      "119388                     5       2  ...   No Deposit   \n",
      "119389                     7       2  ...   No Deposit   \n",
      "\n",
      "                                                    agent  \\\n",
      "0       <bound method DataFrame.mean of               ...   \n",
      "1       <bound method DataFrame.mean of               ...   \n",
      "2       <bound method DataFrame.mean of               ...   \n",
      "3                                                   304.0   \n",
      "4                                                   240.0   \n",
      "...                                                   ...   \n",
      "119385                                              394.0   \n",
      "119386                                                9.0   \n",
      "119387                                                9.0   \n",
      "119388                                               89.0   \n",
      "119389                                                9.0   \n",
      "\n",
      "                                                  company  \\\n",
      "0       <bound method DataFrame.mean of               ...   \n",
      "1       <bound method DataFrame.mean of               ...   \n",
      "2       <bound method DataFrame.mean of               ...   \n",
      "3       <bound method DataFrame.mean of               ...   \n",
      "4       <bound method DataFrame.mean of               ...   \n",
      "...                                                   ...   \n",
      "119385  <bound method DataFrame.mean of               ...   \n",
      "119386  <bound method DataFrame.mean of               ...   \n",
      "119387  <bound method DataFrame.mean of               ...   \n",
      "119388  <bound method DataFrame.mean of               ...   \n",
      "119389  <bound method DataFrame.mean of               ...   \n",
      "\n",
      "       days_in_waiting_list customer_type     adr  \\\n",
      "0                         0     Transient    0.00   \n",
      "1                         0     Transient    0.00   \n",
      "2                         0     Transient   75.00   \n",
      "3                         0     Transient   75.00   \n",
      "4                         0     Transient   98.00   \n",
      "...                     ...           ...     ...   \n",
      "119385                    0     Transient   96.14   \n",
      "119386                    0     Transient  225.43   \n",
      "119387                    0     Transient  157.71   \n",
      "119388                    0     Transient  104.40   \n",
      "119389                    0     Transient  151.20   \n",
      "\n",
      "        required_car_parking_spaces  total_of_special_requests  \\\n",
      "0                                 0                          0   \n",
      "1                                 0                          0   \n",
      "2                                 0                          0   \n",
      "3                                 0                          0   \n",
      "4                                 0                          1   \n",
      "...                             ...                        ...   \n",
      "119385                            0                          0   \n",
      "119386                            0                          2   \n",
      "119387                            0                          4   \n",
      "119388                            0                          0   \n",
      "119389                            0                          2   \n",
      "\n",
      "        reservation_status reservation_status_date  \n",
      "0                Check-Out              2015-07-01  \n",
      "1                Check-Out              2015-07-01  \n",
      "2                Check-Out              2015-07-02  \n",
      "3                Check-Out              2015-07-02  \n",
      "4                Check-Out              2015-07-03  \n",
      "...                    ...                     ...  \n",
      "119385           Check-Out              2017-09-06  \n",
      "119386           Check-Out              2017-09-07  \n",
      "119387           Check-Out              2017-09-07  \n",
      "119388           Check-Out              2017-09-07  \n",
      "119389           Check-Out              2017-09-07  \n",
      "\n",
      "[119390 rows x 32 columns]\n"
     ]
    }
   ]
  },
  {
   "cell_type": "markdown",
   "source": [
    "### Data Types"
   ],
   "metadata": {
    "id": "1_ybKxh1gzoG"
   }
  },
  {
   "cell_type": "markdown",
   "metadata": {
    "id": "Q__DS0hHNi2B"
   },
   "source": [
    "Check Unique Values for df column to know whether column type is correct or not"
   ]
  },
  {
   "cell_type": "code",
   "metadata": {
    "id": "9K1TiRcANi2C",
    "ExecuteTime": {
     "end_time": "2024-01-01T13:16:30.355241600Z",
     "start_time": "2024-01-01T13:16:30.313468300Z"
    }
   },
   "source": [
    "for i in df.columns:\n",
    "    x = df[i].value_counts()\n",
    "    print(\"Column name \",i,\" has different values of:\",len(x))"
   ],
   "execution_count": 44,
   "outputs": [
    {
     "name": "stdout",
     "output_type": "stream",
     "text": [
      "Column name  hotel  has different values of: 2\n",
      "Column name  is_canceled  has different values of: 2\n",
      "Column name  lead_time  has different values of: 479\n",
      "Column name  arrival_date_year  has different values of: 3\n",
      "Column name  arrival_date_month  has different values of: 12\n",
      "Column name  arrival_date_week_number  has different values of: 53\n",
      "Column name  arrival_date_day_of_month  has different values of: 31\n",
      "Column name  stays_in_weekend_nights  has different values of: 17\n",
      "Column name  stays_in_week_nights  has different values of: 35\n",
      "Column name  adults  has different values of: 14\n",
      "Column name  children  has different values of: 5\n",
      "Column name  babies  has different values of: 5\n",
      "Column name  meal  has different values of: 5\n",
      "Column name  country  has different values of: 177\n",
      "Column name  market_segment  has different values of: 8\n",
      "Column name  distribution_channel  has different values of: 5\n",
      "Column name  is_repeated_guest  has different values of: 2\n",
      "Column name  previous_cancellations  has different values of: 15\n",
      "Column name  previous_bookings_not_canceled  has different values of: 73\n",
      "Column name  reserved_room_type  has different values of: 10\n",
      "Column name  assigned_room_type  has different values of: 12\n",
      "Column name  booking_changes  has different values of: 21\n",
      "Column name  deposit_type  has different values of: 3\n",
      "Column name  agent  has different values of: 333\n",
      "Column name  company  has different values of: 352\n",
      "Column name  days_in_waiting_list  has different values of: 128\n",
      "Column name  customer_type  has different values of: 4\n",
      "Column name  adr  has different values of: 8879\n",
      "Column name  required_car_parking_spaces  has different values of: 5\n",
      "Column name  total_of_special_requests  has different values of: 6\n",
      "Column name  reservation_status  has different values of: 3\n",
      "Column name  reservation_status_date  has different values of: 926\n"
     ]
    }
   ]
  },
  {
   "cell_type": "markdown",
   "metadata": {
    "id": "ebqaxRJkNi2C"
   },
   "source": [
    "According to the unqiue values per each column the following columns should be change to\n",
    "1. **categorical columns:**   mealType, country,market_segment,distribution_channel,reserved_room_type, assigned_room_type, customer_type,reservation_status,arrival_date_month, hotel, arrival_date_year\n",
    "2. **boolean:** is_canceled, is_repeated_guest\n",
    "3. **int:** children, agent, company, ...\n",
    "4. **date:** reservation_status_date"
   ]
  },
  {
   "cell_type": "markdown",
   "metadata": {
    "id": "bUy8rIqVNi2C"
   },
   "source": [
    "After knowing which columns represent categorical data, let's see the counts of each value in these columns"
   ]
  },
  {
   "cell_type": "code",
   "metadata": {
    "id": "GLUzbb0SNi2E",
    "ExecuteTime": {
     "end_time": "2024-01-01T13:23:30.161293700Z",
     "start_time": "2024-01-01T13:23:30.115436800Z"
    }
   },
   "source": [
    "df_cat=df[['hotel','is_canceled','arrival_date_month','meal','country','market_segment','distribution_channel','is_repeated_guest','reserved_room_type','assigned_room_type','deposit_type','customer_type','reservation_status']]\n",
    "\n",
    "for i in df_cat.columns:\n",
    "    x = df_cat[i].value_counts()\n",
    "    print(\"Column name is:\",i,\"and its value counts are:\")\n",
    "    print(x)\n",
    "    print()"
   ],
   "execution_count": 54,
   "outputs": [
    {
     "name": "stdout",
     "output_type": "stream",
     "text": [
      "Column name is: hotel and its value counts are:\n",
      "hotel\n",
      "City Hotel      79330\n",
      "Resort Hotel    40060\n",
      "Name: count, dtype: int64\n",
      "\n",
      "Column name is: is_canceled and its value counts are:\n",
      "is_canceled\n",
      "0    75166\n",
      "1    44224\n",
      "Name: count, dtype: int64\n",
      "\n",
      "Column name is: arrival_date_month and its value counts are:\n",
      "arrival_date_month\n",
      "August       13877\n",
      "July         12661\n",
      "May          11791\n",
      "October      11160\n",
      "April        11089\n",
      "June         10939\n",
      "September    10508\n",
      "March         9794\n",
      "February      8068\n",
      "November      6794\n",
      "December      6780\n",
      "January       5929\n",
      "Name: count, dtype: int64\n",
      "\n",
      "Column name is: meal and its value counts are:\n",
      "meal\n",
      "BB           92310\n",
      "HB           14463\n",
      "SC           10650\n",
      "Undefined     1169\n",
      "FB             798\n",
      "Name: count, dtype: int64\n",
      "\n",
      "Column name is: country and its value counts are:\n",
      "country\n",
      "PRT    48590\n",
      "GBR    12129\n",
      "FRA    10415\n",
      "ESP     8568\n",
      "DEU     7287\n",
      "       ...  \n",
      "DJI        1\n",
      "BWA        1\n",
      "HND        1\n",
      "VGB        1\n",
      "NAM        1\n",
      "Name: count, Length: 177, dtype: int64\n",
      "\n",
      "Column name is: market_segment and its value counts are:\n",
      "market_segment\n",
      "Online TA        56477\n",
      "Offline TA/TO    24219\n",
      "Groups           19811\n",
      "Direct           12606\n",
      "Corporate         5295\n",
      "Complementary      743\n",
      "Aviation           237\n",
      "Undefined            2\n",
      "Name: count, dtype: int64\n",
      "\n",
      "Column name is: distribution_channel and its value counts are:\n",
      "distribution_channel\n",
      "TA/TO        97870\n",
      "Direct       14645\n",
      "Corporate     6677\n",
      "GDS            193\n",
      "Undefined        5\n",
      "Name: count, dtype: int64\n",
      "\n",
      "Column name is: is_repeated_guest and its value counts are:\n",
      "is_repeated_guest\n",
      "0    115580\n",
      "1      3810\n",
      "Name: count, dtype: int64\n",
      "\n",
      "Column name is: reserved_room_type and its value counts are:\n",
      "reserved_room_type\n",
      "A    85994\n",
      "D    19201\n",
      "E     6535\n",
      "F     2897\n",
      "G     2094\n",
      "B     1118\n",
      "C      932\n",
      "H      601\n",
      "P       12\n",
      "L        6\n",
      "Name: count, dtype: int64\n",
      "\n",
      "Column name is: assigned_room_type and its value counts are:\n",
      "assigned_room_type\n",
      "A    74053\n",
      "D    25322\n",
      "E     7806\n",
      "F     3751\n",
      "G     2553\n",
      "C     2375\n",
      "B     2163\n",
      "H      712\n",
      "I      363\n",
      "K      279\n",
      "P       12\n",
      "L        1\n",
      "Name: count, dtype: int64\n",
      "\n",
      "Column name is: deposit_type and its value counts are:\n",
      "deposit_type\n",
      "No Deposit    104641\n",
      "Non Refund     14587\n",
      "Refundable       162\n",
      "Name: count, dtype: int64\n",
      "\n",
      "Column name is: customer_type and its value counts are:\n",
      "customer_type\n",
      "Transient          89613\n",
      "Transient-Party    25124\n",
      "Contract            4076\n",
      "Group                577\n",
      "Name: count, dtype: int64\n",
      "\n",
      "Column name is: reservation_status and its value counts are:\n",
      "reservation_status\n",
      "Check-Out    75166\n",
      "Canceled     43017\n",
      "No-Show       1207\n",
      "Name: count, dtype: int64\n"
     ]
    }
   ]
  },
  {
   "cell_type": "markdown",
   "metadata": {
    "id": "bLoAvQaitY4u"
   },
   "source": [
    "The *category data type* in Python will continue to look like a string character to us and in many places will behave like a string (or object) type; however, it is internally being represented by integer values, unique to each category.\n",
    "\n",
    "Question 6: Here's how we change to the category dtype"
   ]
  },
  {
   "cell_type": "code",
   "metadata": {
    "id": "ik66kS2YNi2K",
    "ExecuteTime": {
     "end_time": "2024-01-01T13:26:28.057419200Z",
     "start_time": "2024-01-01T13:26:28.010012Z"
    }
   },
   "source": [
    "df_cat_copy = df_cat.copy()\n",
    "for col in df_cat_copy.columns:\n",
    "    df_cat_copy[col] = df_cat[col].astype('category')\n",
    "df_cat_copy['is_canceled'] = df_cat_copy['is_canceled'].astype(bool)\n",
    "df_cat_copy['is_repeated_guest'] = df_cat_copy['is_repeated_guest'].astype(bool)"
   ],
   "execution_count": 58,
   "outputs": []
  },
  {
   "cell_type": "markdown",
   "metadata": {
    "id": "3PHVGIXTQEdQ"
   },
   "source": [
    "Below, we confirm that the dtype has changed to category:"
   ]
  },
  {
   "cell_type": "code",
   "metadata": {
    "id": "Lu6HzkeYNi2K",
    "ExecuteTime": {
     "end_time": "2024-01-01T13:26:30.234201400Z",
     "start_time": "2024-01-01T13:26:30.225126300Z"
    }
   },
   "source": [
    "df_cat_copy.info()"
   ],
   "execution_count": 59,
   "outputs": [
    {
     "name": "stdout",
     "output_type": "stream",
     "text": [
      "<class 'pandas.core.frame.DataFrame'>\n",
      "RangeIndex: 119390 entries, 0 to 119389\n",
      "Data columns (total 13 columns):\n",
      " #   Column                Non-Null Count   Dtype   \n",
      "---  ------                --------------   -----   \n",
      " 0   hotel                 119390 non-null  category\n",
      " 1   is_canceled           119390 non-null  bool    \n",
      " 2   arrival_date_month    119390 non-null  category\n",
      " 3   meal                  119390 non-null  category\n",
      " 4   country               118902 non-null  category\n",
      " 5   market_segment        119390 non-null  category\n",
      " 6   distribution_channel  119390 non-null  category\n",
      " 7   is_repeated_guest     119390 non-null  bool    \n",
      " 8   reserved_room_type    119390 non-null  category\n",
      " 9   assigned_room_type    119390 non-null  category\n",
      " 10  deposit_type          119390 non-null  category\n",
      " 11  customer_type         119390 non-null  category\n",
      " 12  reservation_status    119390 non-null  category\n",
      "dtypes: bool(2), category(11)\n",
      "memory usage: 1.6 MB\n"
     ]
    }
   ]
  },
  {
   "cell_type": "markdown",
   "source": [
    "## 1.4 Question 7: Feature Correlation"
   ],
   "metadata": {
    "id": "i3h1z12shBLI"
   }
  },
  {
   "cell_type": "code",
   "source": [
    "import matplotlib.pyplot as plt\n",
    "\n",
    "# Select the columns of interest\n",
    "columns_of_interest = ['lead_time', 'adr', 'required_car_parking_spaces']\n",
    "\n",
    "# Scatter plots\n",
    "plt.figure()\n",
    "for i, col in enumerate(columns_of_interest):\n",
    "    plt.subplot(2, 2, i+1)\n",
    "    plt.scatter(df[col], df['is_canceled'])\n",
    "    plt.xlabel(col)\n",
    "    plt.ylabel('Canceled')\n",
    "plt.tight_layout()\n",
    "plt.show()\n",
    "\n",
    "\n",
    "\n",
    "# Correlation heatmap\n",
    "\n",
    "correlation_matrix = df[columns_of_interest].corr()\n",
    "plt.figure(figsize=(8, 6))\n",
    "plt.imshow(correlation_matrix, cmap='coolwarm', interpolation='nearest')\n",
    "plt.colorbar()\n",
    "tick_marks = range(len(columns_of_interest))\n",
    "plt.xticks(tick_marks, columns_of_interest, rotation=45)\n",
    "plt.yticks(tick_marks, columns_of_interest)\n",
    "plt.title('Correlation Heatmap')\n",
    "plt.show()"
   ],
   "metadata": {
    "id": "wBFgTIp_t530",
    "ExecuteTime": {
     "end_time": "2024-01-01T13:33:38.689637500Z",
     "start_time": "2024-01-01T13:33:37.996116500Z"
    }
   },
   "execution_count": 68,
   "outputs": [
    {
     "data": {
      "text/plain": "<Figure size 640x480 with 3 Axes>",
      "image/png": "[encoded data removed]"
     },
     "metadata": {},
     "output_type": "display_data"
    },
    {
     "data": {
      "text/plain": "<Figure size 800x600 with 2 Axes>",
      "image/png": "[encoded data removed]"
     },
     "metadata": {},
     "output_type": "display_data"
    }
   ]
  },
  {
   "cell_type": "code",
   "outputs": [],
   "source": [],
   "metadata": {
    "collapsed": false
   }
  }
 ]
}
