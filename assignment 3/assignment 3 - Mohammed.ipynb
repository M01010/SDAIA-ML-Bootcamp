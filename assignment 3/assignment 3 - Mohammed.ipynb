{
 "nbformat": 4,
 "nbformat_minor": 0,
 "metadata": {
  "colab": {
   "provenance": [],
   "authorship_tag": "ABX9TyOooD11K9ZCx0cawSkRx9+o"
  },
  "kernelspec": {
   "name": "python3",
   "language": "python",
   "display_name": "Python 3 (ipykernel)"
  },
  "language_info": {
   "name": "python"
  }
 },
 "cells": [
  {
   "cell_type": "markdown",
   "source": [
    "# Linear Regression for Diabetes Prediction"
   ],
   "metadata": {
    "id": "fiLLIF-BYvN-"
   }
  },
  {
   "cell_type": "markdown",
   "source": [
    "## Data Description\n",
    "The \"Diabetes\" dataset is a built-in dataset in scikit-learn that consists of physiological and diagnostic measurements related to diabetes disease. It comprises ten numerical features, including:\n",
    "\n",
    "- Age: Age in years.\n",
    "- Sex: Male (1) or female (0).\n",
    "- Body Mass Index (BMI): Body mass index, which relates weight to height.\n",
    "- Average Blood Pressure (BP): Mean arterial blood pressure.\n",
    "- S1 to S6: Six blood serum measurements. These are numerical features representing various biochemical markers."
   ],
   "metadata": {
    "id": "c2F1zCm-YzvA"
   }
  },
  {
   "cell_type": "code",
   "execution_count": 1,
   "metadata": {
    "id": "94-j7NdSULxD",
    "ExecuteTime": {
     "end_time": "2024-01-08T15:35:09.519890600Z",
     "start_time": "2024-01-08T15:35:09.448157200Z"
    }
   },
   "outputs": [],
   "source": [
    "import pandas as pd\n",
    "from sklearn.datasets import load_diabetes\n",
    "\n",
    "# Load the Diabetes dataset\n",
    "data = load_diabetes()\n"
   ]
  },
  {
   "cell_type": "code",
   "outputs": [],
   "source": [
    "import numpy as np"
   ],
   "metadata": {
    "collapsed": false,
    "ExecuteTime": {
     "end_time": "2024-01-08T15:35:09.527629300Z",
     "start_time": "2024-01-08T15:35:09.521123Z"
    }
   },
   "execution_count": 2
  },
  {
   "cell_type": "markdown",
   "source": [
    "The target variable is a quantitative measure of disease progression one year after the baseline measurements were taken. It represents a numerical value indicating the severity or progression of diabetes disease."
   ],
   "metadata": {
    "id": "0d2MQIDEZHcN"
   }
  },
  {
   "cell_type": "code",
   "source": [
    "# Create a DataFrame from the dataset\n",
    "df = pd.DataFrame(data=np.c_[data['data'], data['target']],\n",
    "                  columns=data['feature_names'] + ['target'])\n",
    "\n",
    "df"
   ],
   "metadata": {
    "id": "N4ri_wo3ZE0i",
    "ExecuteTime": {
     "end_time": "2024-01-08T15:38:34.894928500Z",
     "start_time": "2024-01-08T15:38:34.887896500Z"
    }
   },
   "execution_count": 11,
   "outputs": [
    {
     "data": {
      "text/plain": "          age       sex       bmi        bp        s1        s2        s3  \\\n0    0.038076  0.050680  0.061696  0.021872 -0.044223 -0.034821 -0.043401   \n1   -0.001882 -0.044642 -0.051474 -0.026328 -0.008449 -0.019163  0.074412   \n2    0.085299  0.050680  0.044451 -0.005670 -0.045599 -0.034194 -0.032356   \n3   -0.089063 -0.044642 -0.011595 -0.036656  0.012191  0.024991 -0.036038   \n4    0.005383 -0.044642 -0.036385  0.021872  0.003935  0.015596  0.008142   \n..        ...       ...       ...       ...       ...       ...       ...   \n437  0.041708  0.050680  0.019662  0.059744 -0.005697 -0.002566 -0.028674   \n438 -0.005515  0.050680 -0.015906 -0.067642  0.049341  0.079165 -0.028674   \n439  0.041708  0.050680 -0.015906  0.017293 -0.037344 -0.013840 -0.024993   \n440 -0.045472 -0.044642  0.039062  0.001215  0.016318  0.015283 -0.028674   \n441 -0.045472 -0.044642 -0.073030 -0.081413  0.083740  0.027809  0.173816   \n\n           s4        s5        s6  target  \n0   -0.002592  0.019907 -0.017646   151.0  \n1   -0.039493 -0.068332 -0.092204    75.0  \n2   -0.002592  0.002861 -0.025930   141.0  \n3    0.034309  0.022688 -0.009362   206.0  \n4   -0.002592 -0.031988 -0.046641   135.0  \n..        ...       ...       ...     ...  \n437 -0.002592  0.031193  0.007207   178.0  \n438  0.034309 -0.018114  0.044485   104.0  \n439 -0.011080 -0.046883  0.015491   132.0  \n440  0.026560  0.044529 -0.025930   220.0  \n441 -0.039493 -0.004222  0.003064    57.0  \n\n[442 rows x 11 columns]",
      "text/html": "<div>\n<style scoped>\n    .dataframe tbody tr th:only-of-type {\n        vertical-align: middle;\n    }\n\n    .dataframe tbody tr th {\n        vertical-align: top;\n    }\n\n    .dataframe thead th {\n        text-align: right;\n    }\n</style>\n<table border=\"1\" class=\"dataframe\">\n  <thead>\n    <tr style=\"text-align: right;\">\n      <th></th>\n      <th>age</th>\n      <th>sex</th>\n      <th>bmi</th>\n      <th>bp</th>\n      <th>s1</th>\n      <th>s2</th>\n      <th>s3</th>\n      <th>s4</th>\n      <th>s5</th>\n      <th>s6</th>\n      <th>target</th>\n    </tr>\n  </thead>\n  <tbody>\n    <tr>\n      <th>0</th>\n      <td>0.038076</td>\n      <td>0.050680</td>\n      <td>0.061696</td>\n      <td>0.021872</td>\n      <td>-0.044223</td>\n      <td>-0.034821</td>\n      <td>-0.043401</td>\n      <td>-0.002592</td>\n      <td>0.019907</td>\n      <td>-0.017646</td>\n      <td>151.0</td>\n    </tr>\n    <tr>\n      <th>1</th>\n      <td>-0.001882</td>\n      <td>-0.044642</td>\n      <td>-0.051474</td>\n      <td>-0.026328</td>\n      <td>-0.008449</td>\n      <td>-0.019163</td>\n      <td>0.074412</td>\n      <td>-0.039493</td>\n      <td>-0.068332</td>\n      <td>-0.092204</td>\n      <td>75.0</td>\n    </tr>\n    <tr>\n      <th>2</th>\n      <td>0.085299</td>\n      <td>0.050680</td>\n      <td>0.044451</td>\n      <td>-0.005670</td>\n      <td>-0.045599</td>\n      <td>-0.034194</td>\n      <td>-0.032356</td>\n      <td>-0.002592</td>\n      <td>0.002861</td>\n      <td>-0.025930</td>\n      <td>141.0</td>\n    </tr>\n    <tr>\n      <th>3</th>\n      <td>-0.089063</td>\n      <td>-0.044642</td>\n      <td>-0.011595</td>\n      <td>-0.036656</td>\n      <td>0.012191</td>\n      <td>0.024991</td>\n      <td>-0.036038</td>\n      <td>0.034309</td>\n      <td>0.022688</td>\n      <td>-0.009362</td>\n      <td>206.0</td>\n    </tr>\n    <tr>\n      <th>4</th>\n      <td>0.005383</td>\n      <td>-0.044642</td>\n      <td>-0.036385</td>\n      <td>0.021872</td>\n      <td>0.003935</td>\n      <td>0.015596</td>\n      <td>0.008142</td>\n      <td>-0.002592</td>\n      <td>-0.031988</td>\n      <td>-0.046641</td>\n      <td>135.0</td>\n    </tr>\n    <tr>\n      <th>...</th>\n      <td>...</td>\n      <td>...</td>\n      <td>...</td>\n      <td>...</td>\n      <td>...</td>\n      <td>...</td>\n      <td>...</td>\n      <td>...</td>\n      <td>...</td>\n      <td>...</td>\n      <td>...</td>\n    </tr>\n    <tr>\n      <th>437</th>\n      <td>0.041708</td>\n      <td>0.050680</td>\n      <td>0.019662</td>\n      <td>0.059744</td>\n      <td>-0.005697</td>\n      <td>-0.002566</td>\n      <td>-0.028674</td>\n      <td>-0.002592</td>\n      <td>0.031193</td>\n      <td>0.007207</td>\n      <td>178.0</td>\n    </tr>\n    <tr>\n      <th>438</th>\n      <td>-0.005515</td>\n      <td>0.050680</td>\n      <td>-0.015906</td>\n      <td>-0.067642</td>\n      <td>0.049341</td>\n      <td>0.079165</td>\n      <td>-0.028674</td>\n      <td>0.034309</td>\n      <td>-0.018114</td>\n      <td>0.044485</td>\n      <td>104.0</td>\n    </tr>\n    <tr>\n      <th>439</th>\n      <td>0.041708</td>\n      <td>0.050680</td>\n      <td>-0.015906</td>\n      <td>0.017293</td>\n      <td>-0.037344</td>\n      <td>-0.013840</td>\n      <td>-0.024993</td>\n      <td>-0.011080</td>\n      <td>-0.046883</td>\n      <td>0.015491</td>\n      <td>132.0</td>\n    </tr>\n    <tr>\n      <th>440</th>\n      <td>-0.045472</td>\n      <td>-0.044642</td>\n      <td>0.039062</td>\n      <td>0.001215</td>\n      <td>0.016318</td>\n      <td>0.015283</td>\n      <td>-0.028674</td>\n      <td>0.026560</td>\n      <td>0.044529</td>\n      <td>-0.025930</td>\n      <td>220.0</td>\n    </tr>\n    <tr>\n      <th>441</th>\n      <td>-0.045472</td>\n      <td>-0.044642</td>\n      <td>-0.073030</td>\n      <td>-0.081413</td>\n      <td>0.083740</td>\n      <td>0.027809</td>\n      <td>0.173816</td>\n      <td>-0.039493</td>\n      <td>-0.004222</td>\n      <td>0.003064</td>\n      <td>57.0</td>\n    </tr>\n  </tbody>\n</table>\n<p>442 rows × 11 columns</p>\n</div>"
     },
     "execution_count": 11,
     "metadata": {},
     "output_type": "execute_result"
    }
   ]
  },
  {
   "cell_type": "markdown",
   "source": [
    "**Question 1:** Why is the prediction of target output, disease progression, a regression task?\n",
    "\n"
   ],
   "metadata": {
    "id": "R5TIpX8iZLu-"
   }
  },
  {
   "cell_type": "markdown",
   "source": [
    "Write your answer here\n",
    "they're all numeric values and we want to estimate the target as a numeric value"
   ],
   "metadata": {
    "id": "_qKnz_QFobvU"
   }
  },
  {
   "cell_type": "markdown",
   "source": [
    "## Split Data"
   ],
   "metadata": {
    "id": "x8uPHuEOZwxR"
   }
  },
  {
   "cell_type": "code",
   "source": [
    "from sklearn.linear_model import LinearRegression\n",
    "from sklearn.model_selection import train_test_split"
   ],
   "metadata": {
    "id": "iXA_yc3sZuwi",
    "ExecuteTime": {
     "end_time": "2024-01-08T15:35:09.586776900Z",
     "start_time": "2024-01-08T15:35:09.534278400Z"
    }
   },
   "execution_count": 4,
   "outputs": []
  },
  {
   "cell_type": "markdown",
   "source": [
    "**Question 2:**\n",
    "- Split the data into features (X) and target (y)\n",
    "\n",
    "- Split the data between training and testing with a ratio of 80/20"
   ],
   "metadata": {
    "id": "P5lVe1n5ZuPt"
   }
  },
  {
   "cell_type": "code",
   "source": [
    "# Split the data into features (X) and target (y)\n",
    "x = df.drop('target', axis=1)\n",
    "y = df['target']\n",
    "# Split the data into training and test\n",
    "x_train, x_test, y_train, y_test = train_test_split(x, y, test_size=0.2, random_state=0)"
   ],
   "metadata": {
    "id": "XYj-CMxJY-Li",
    "ExecuteTime": {
     "end_time": "2024-01-08T15:35:09.587780200Z",
     "start_time": "2024-01-08T15:35:09.578430900Z"
    }
   },
   "execution_count": 5,
   "outputs": []
  },
  {
   "cell_type": "markdown",
   "source": [
    "**Question 3:**\n",
    "- Is the model you aim to train linear or multi-linear?\n",
    "- Train a linear regression model"
   ],
   "metadata": {
    "id": "5fiTEYApaB-X"
   }
  },
  {
   "cell_type": "markdown",
   "source": [
    "**Analysis**\n",
    "multi linear because we have more than one feature and one target"
   ],
   "metadata": {
    "id": "IuTSzzCaaREI"
   }
  },
  {
   "cell_type": "markdown",
   "source": [],
   "metadata": {
    "collapsed": false
   }
  },
  {
   "cell_type": "code",
   "source": [
    "\n",
    "# Fit a linear regression model\n",
    "model = LinearRegression()\n",
    "model.fit(x_train, y_train)"
   ],
   "metadata": {
    "id": "WTzil5HaaBhP",
    "ExecuteTime": {
     "end_time": "2024-01-08T15:35:09.587780200Z",
     "start_time": "2024-01-08T15:35:09.582595200Z"
    }
   },
   "execution_count": 6,
   "outputs": [
    {
     "data": {
      "text/plain": "LinearRegression()",
      "text/html": "<style>#sk-container-id-1 {color: black;}#sk-container-id-1 pre{padding: 0;}#sk-container-id-1 div.sk-toggleable {background-color: white;}#sk-container-id-1 label.sk-toggleable__label {cursor: pointer;display: block;width: 100%;margin-bottom: 0;padding: 0.3em;box-sizing: border-box;text-align: center;}#sk-container-id-1 label.sk-toggleable__label-arrow:before {content: \"▸\";float: left;margin-right: 0.25em;color: #696969;}#sk-container-id-1 label.sk-toggleable__label-arrow:hover:before {color: black;}#sk-container-id-1 div.sk-estimator:hover label.sk-toggleable__label-arrow:before {color: black;}#sk-container-id-1 div.sk-toggleable__content {max-height: 0;max-width: 0;overflow: hidden;text-align: left;background-color: #f0f8ff;}#sk-container-id-1 div.sk-toggleable__content pre {margin: 0.2em;color: black;border-radius: 0.25em;background-color: #f0f8ff;}#sk-container-id-1 input.sk-toggleable__control:checked~div.sk-toggleable__content {max-height: 200px;max-width: 100%;overflow: auto;}#sk-container-id-1 input.sk-toggleable__control:checked~label.sk-toggleable__label-arrow:before {content: \"▾\";}#sk-container-id-1 div.sk-estimator input.sk-toggleable__control:checked~label.sk-toggleable__label {background-color: #d4ebff;}#sk-container-id-1 div.sk-label input.sk-toggleable__control:checked~label.sk-toggleable__label {background-color: #d4ebff;}#sk-container-id-1 input.sk-hidden--visually {border: 0;clip: rect(1px 1px 1px 1px);clip: rect(1px, 1px, 1px, 1px);height: 1px;margin: -1px;overflow: hidden;padding: 0;position: absolute;width: 1px;}#sk-container-id-1 div.sk-estimator {font-family: monospace;background-color: #f0f8ff;border: 1px dotted black;border-radius: 0.25em;box-sizing: border-box;margin-bottom: 0.5em;}#sk-container-id-1 div.sk-estimator:hover {background-color: #d4ebff;}#sk-container-id-1 div.sk-parallel-item::after {content: \"\";width: 100%;border-bottom: 1px solid gray;flex-grow: 1;}#sk-container-id-1 div.sk-label:hover label.sk-toggleable__label {background-color: #d4ebff;}#sk-container-id-1 div.sk-serial::before {content: \"\";position: absolute;border-left: 1px solid gray;box-sizing: border-box;top: 0;bottom: 0;left: 50%;z-index: 0;}#sk-container-id-1 div.sk-serial {display: flex;flex-direction: column;align-items: center;background-color: white;padding-right: 0.2em;padding-left: 0.2em;position: relative;}#sk-container-id-1 div.sk-item {position: relative;z-index: 1;}#sk-container-id-1 div.sk-parallel {display: flex;align-items: stretch;justify-content: center;background-color: white;position: relative;}#sk-container-id-1 div.sk-item::before, #sk-container-id-1 div.sk-parallel-item::before {content: \"\";position: absolute;border-left: 1px solid gray;box-sizing: border-box;top: 0;bottom: 0;left: 50%;z-index: -1;}#sk-container-id-1 div.sk-parallel-item {display: flex;flex-direction: column;z-index: 1;position: relative;background-color: white;}#sk-container-id-1 div.sk-parallel-item:first-child::after {align-self: flex-end;width: 50%;}#sk-container-id-1 div.sk-parallel-item:last-child::after {align-self: flex-start;width: 50%;}#sk-container-id-1 div.sk-parallel-item:only-child::after {width: 0;}#sk-container-id-1 div.sk-dashed-wrapped {border: 1px dashed gray;margin: 0 0.4em 0.5em 0.4em;box-sizing: border-box;padding-bottom: 0.4em;background-color: white;}#sk-container-id-1 div.sk-label label {font-family: monospace;font-weight: bold;display: inline-block;line-height: 1.2em;}#sk-container-id-1 div.sk-label-container {text-align: center;}#sk-container-id-1 div.sk-container {/* jupyter's `normalize.less` sets `[hidden] { display: none; }` but bootstrap.min.css set `[hidden] { display: none !important; }` so we also need the `!important` here to be able to override the default hidden behavior on the sphinx rendered scikit-learn.org. See: https://github.com/scikit-learn/scikit-learn/issues/21755 */display: inline-block !important;position: relative;}#sk-container-id-1 div.sk-text-repr-fallback {display: none;}</style><div id=\"sk-container-id-1\" class=\"sk-top-container\"><div class=\"sk-text-repr-fallback\"><pre>LinearRegression()</pre><b>In a Jupyter environment, please rerun this cell to show the HTML representation or trust the notebook. <br />On GitHub, the HTML representation is unable to render, please try loading this page with nbviewer.org.</b></div><div class=\"sk-container\" hidden><div class=\"sk-item\"><div class=\"sk-estimator sk-toggleable\"><input class=\"sk-toggleable__control sk-hidden--visually\" id=\"sk-estimator-id-1\" type=\"checkbox\" checked><label for=\"sk-estimator-id-1\" class=\"sk-toggleable__label sk-toggleable__label-arrow\">LinearRegression</label><div class=\"sk-toggleable__content\"><pre>LinearRegression()</pre></div></div></div></div></div>"
     },
     "execution_count": 6,
     "metadata": {},
     "output_type": "execute_result"
    }
   ]
  },
  {
   "cell_type": "markdown",
   "source": [
    "**Question 4:**\n",
    "- Make prediction on the test set\n",
    "- Calculate a metric known as r2-score"
   ],
   "metadata": {
    "id": "2Fho3CTIaZt4"
   }
  },
  {
   "cell_type": "code",
   "source": [
    "# Make predictions on the test set\n",
    "y_predict = model.predict(x_test)\n",
    "\n",
    "# Calculate the R-squared score\n",
    "from sklearn.metrics import r2_score\n",
    "\n",
    "r2_score(y_test, y_predict)\n",
    "\n"
   ],
   "metadata": {
    "id": "6Qn4i5RMaYq_",
    "ExecuteTime": {
     "end_time": "2024-01-08T15:35:09.605646100Z",
     "start_time": "2024-01-08T15:35:09.589780100Z"
    }
   },
   "execution_count": 7,
   "outputs": [
    {
     "data": {
      "text/plain": "0.33223321731061806"
     },
     "execution_count": 7,
     "metadata": {},
     "output_type": "execute_result"
    }
   ]
  },
  {
   "cell_type": "code",
   "outputs": [],
   "source": [],
   "metadata": {
    "collapsed": false,
    "ExecuteTime": {
     "end_time": "2024-01-08T15:35:09.606646400Z",
     "start_time": "2024-01-08T15:35:09.593135600Z"
    }
   },
   "execution_count": 7
  }
 ]
}
