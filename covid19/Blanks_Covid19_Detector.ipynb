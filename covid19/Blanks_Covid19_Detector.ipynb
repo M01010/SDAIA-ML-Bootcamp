{
 "nbformat": 4,
 "nbformat_minor": 0,
 "metadata": {
  "colab": {
   "provenance": []
  },
  "kernelspec": {
   "name": "python3",
   "language": "python",
   "display_name": "Python 3 (ipykernel)"
  },
  "language_info": {
   "name": "python"
  }
 },
 "cells": [
  {
   "cell_type": "markdown",
   "source": [
    "# COVID 19 Detection using Logistic Regression"
   ],
   "metadata": {
    "id": "f9UhuIfIkJ1m"
   }
  },
  {
   "cell_type": "markdown",
   "source": [
    "## Data Description\n",
    "The covid_dataset we'll use is fake generated data that comprises the following features:\n",
    "\n",
    "- Age: Represents the age of the patients in years. It ranges from 18 to 89.\n",
    "\n",
    "- Temperature: Indicates the body temperature of the patients. The values are normally distributed around 37.5 with a standard deviation of 0.5.\n",
    "\n",
    "- Cough: Indicates whether the patients have a cough. It is a categorical feature with two options: \"Yes\" or \"No\".\n",
    "\n",
    "- Sore Throat: Indicates whether the patients have a sore throat. It is a categorical feature with two options: \"Yes\" or \"No\".\n",
    "\n",
    "- Fatigue: Indicates whether the patients experience fatigue. It is a categorical feature with two options: \"Yes\" or \"No\".\n",
    "\n",
    "- Daily Vitamin D Intake: Represents the daily intake of vitamin D in International Units (IU). The values range from 400 to 2000 and are randomly generated.\n",
    "\n",
    "- COVID-19 Positive: Indicates whether the patients are COVID-19 positive. It is a categorical target variable with two options: \"Yes\" or \"No\"."
   ],
   "metadata": {
    "id": "J6UNLJWyhGnM"
   }
  },
  {
   "cell_type": "code",
   "source": [
    "import pandas as pd\n",
    "df = pd.read_csv('covid_dataset.csv')\n",
    "df"
   ],
   "metadata": {
    "id": "_F-wFolfhjIA",
    "ExecuteTime": {
     "end_time": "2024-01-15T14:35:19.062281400Z",
     "start_time": "2024-01-15T14:35:19.048157700Z"
    }
   },
   "execution_count": 1,
   "outputs": [
    {
     "data": {
      "text/plain": "     Age  Temperature Cough Sore Throat Fatigue  Daily Vitamin D Intake  \\\n0     69    37.371591    No         Yes     Yes                     542   \n1     32    38.012143    No         Yes      No                    1624   \n2     89    36.688738   Yes          No      No                    1603   \n3     78    37.670494   Yes         Yes     Yes                    1113   \n4     38    37.512786   Yes          No      No                    1787   \n..   ...          ...   ...         ...     ...                     ...   \n995   27    37.580782   Yes         Yes     Yes                    1952   \n996   51    37.200816    No         Yes     Yes                    1974   \n997   72    38.320523   Yes          No      No                     703   \n998   49    37.624599    No          No     Yes                    1341   \n999   67    37.710737    No          No      No                    1462   \n\n    COVID-19 Positive  \n0                 Yes  \n1                  No  \n2                  No  \n3                 Yes  \n4                  No  \n..                ...  \n995                No  \n996                No  \n997                No  \n998                No  \n999                No  \n\n[1000 rows x 7 columns]",
      "text/html": "<div>\n<style scoped>\n    .dataframe tbody tr th:only-of-type {\n        vertical-align: middle;\n    }\n\n    .dataframe tbody tr th {\n        vertical-align: top;\n    }\n\n    .dataframe thead th {\n        text-align: right;\n    }\n</style>\n<table border=\"1\" class=\"dataframe\">\n  <thead>\n    <tr style=\"text-align: right;\">\n      <th></th>\n      <th>Age</th>\n      <th>Temperature</th>\n      <th>Cough</th>\n      <th>Sore Throat</th>\n      <th>Fatigue</th>\n      <th>Daily Vitamin D Intake</th>\n      <th>COVID-19 Positive</th>\n    </tr>\n  </thead>\n  <tbody>\n    <tr>\n      <th>0</th>\n      <td>69</td>\n      <td>37.371591</td>\n      <td>No</td>\n      <td>Yes</td>\n      <td>Yes</td>\n      <td>542</td>\n      <td>Yes</td>\n    </tr>\n    <tr>\n      <th>1</th>\n      <td>32</td>\n      <td>38.012143</td>\n      <td>No</td>\n      <td>Yes</td>\n      <td>No</td>\n      <td>1624</td>\n      <td>No</td>\n    </tr>\n    <tr>\n      <th>2</th>\n      <td>89</td>\n      <td>36.688738</td>\n      <td>Yes</td>\n      <td>No</td>\n      <td>No</td>\n      <td>1603</td>\n      <td>No</td>\n    </tr>\n    <tr>\n      <th>3</th>\n      <td>78</td>\n      <td>37.670494</td>\n      <td>Yes</td>\n      <td>Yes</td>\n      <td>Yes</td>\n      <td>1113</td>\n      <td>Yes</td>\n    </tr>\n    <tr>\n      <th>4</th>\n      <td>38</td>\n      <td>37.512786</td>\n      <td>Yes</td>\n      <td>No</td>\n      <td>No</td>\n      <td>1787</td>\n      <td>No</td>\n    </tr>\n    <tr>\n      <th>...</th>\n      <td>...</td>\n      <td>...</td>\n      <td>...</td>\n      <td>...</td>\n      <td>...</td>\n      <td>...</td>\n      <td>...</td>\n    </tr>\n    <tr>\n      <th>995</th>\n      <td>27</td>\n      <td>37.580782</td>\n      <td>Yes</td>\n      <td>Yes</td>\n      <td>Yes</td>\n      <td>1952</td>\n      <td>No</td>\n    </tr>\n    <tr>\n      <th>996</th>\n      <td>51</td>\n      <td>37.200816</td>\n      <td>No</td>\n      <td>Yes</td>\n      <td>Yes</td>\n      <td>1974</td>\n      <td>No</td>\n    </tr>\n    <tr>\n      <th>997</th>\n      <td>72</td>\n      <td>38.320523</td>\n      <td>Yes</td>\n      <td>No</td>\n      <td>No</td>\n      <td>703</td>\n      <td>No</td>\n    </tr>\n    <tr>\n      <th>998</th>\n      <td>49</td>\n      <td>37.624599</td>\n      <td>No</td>\n      <td>No</td>\n      <td>Yes</td>\n      <td>1341</td>\n      <td>No</td>\n    </tr>\n    <tr>\n      <th>999</th>\n      <td>67</td>\n      <td>37.710737</td>\n      <td>No</td>\n      <td>No</td>\n      <td>No</td>\n      <td>1462</td>\n      <td>No</td>\n    </tr>\n  </tbody>\n</table>\n<p>1000 rows × 7 columns</p>\n</div>"
     },
     "execution_count": 1,
     "metadata": {},
     "output_type": "execute_result"
    }
   ]
  },
  {
   "cell_type": "markdown",
   "source": [
    "## Data Exploration"
   ],
   "metadata": {
    "id": "A0tVemaIhwXS"
   }
  },
  {
   "cell_type": "code",
   "source": [
    "import matplotlib.pyplot as plt\n",
    "\n",
    "# Check for missing values\n",
    "df.isnull().sum()"
   ],
   "metadata": {
    "id": "iRNVHJbPitRE",
    "ExecuteTime": {
     "end_time": "2024-01-15T14:35:19.072529700Z",
     "start_time": "2024-01-15T14:35:19.062281400Z"
    }
   },
   "execution_count": 2,
   "outputs": [
    {
     "data": {
      "text/plain": "Age                       0\nTemperature               0\nCough                     0\nSore Throat               0\nFatigue                   0\nDaily Vitamin D Intake    0\nCOVID-19 Positive         0\ndtype: int64"
     },
     "execution_count": 2,
     "metadata": {},
     "output_type": "execute_result"
    }
   ]
  },
  {
   "cell_type": "code",
   "outputs": [
    {
     "data": {
      "text/plain": "(1000, 7)"
     },
     "execution_count": 3,
     "metadata": {},
     "output_type": "execute_result"
    }
   ],
   "source": [
    "df.shape"
   ],
   "metadata": {
    "collapsed": false,
    "ExecuteTime": {
     "end_time": "2024-01-15T14:35:21.338969Z",
     "start_time": "2024-01-15T14:35:21.327866100Z"
    }
   },
   "execution_count": 3
  },
  {
   "cell_type": "code",
   "outputs": [
    {
     "data": {
      "text/plain": "               Age  Temperature  Daily Vitamin D Intake\ncount  1000.000000  1000.000000             1000.000000\nmean     52.881000    37.531243             1200.279000\nstd      20.958915     0.510427              459.931364\nmin      18.000000    35.824195              403.000000\n25%      34.750000    37.191691              814.000000\n50%      52.500000    37.526769             1199.000000\n75%      71.000000    37.880216             1612.250000\nmax      89.000000    39.083686             1999.000000",
      "text/html": "<div>\n<style scoped>\n    .dataframe tbody tr th:only-of-type {\n        vertical-align: middle;\n    }\n\n    .dataframe tbody tr th {\n        vertical-align: top;\n    }\n\n    .dataframe thead th {\n        text-align: right;\n    }\n</style>\n<table border=\"1\" class=\"dataframe\">\n  <thead>\n    <tr style=\"text-align: right;\">\n      <th></th>\n      <th>Age</th>\n      <th>Temperature</th>\n      <th>Daily Vitamin D Intake</th>\n    </tr>\n  </thead>\n  <tbody>\n    <tr>\n      <th>count</th>\n      <td>1000.000000</td>\n      <td>1000.000000</td>\n      <td>1000.000000</td>\n    </tr>\n    <tr>\n      <th>mean</th>\n      <td>52.881000</td>\n      <td>37.531243</td>\n      <td>1200.279000</td>\n    </tr>\n    <tr>\n      <th>std</th>\n      <td>20.958915</td>\n      <td>0.510427</td>\n      <td>459.931364</td>\n    </tr>\n    <tr>\n      <th>min</th>\n      <td>18.000000</td>\n      <td>35.824195</td>\n      <td>403.000000</td>\n    </tr>\n    <tr>\n      <th>25%</th>\n      <td>34.750000</td>\n      <td>37.191691</td>\n      <td>814.000000</td>\n    </tr>\n    <tr>\n      <th>50%</th>\n      <td>52.500000</td>\n      <td>37.526769</td>\n      <td>1199.000000</td>\n    </tr>\n    <tr>\n      <th>75%</th>\n      <td>71.000000</td>\n      <td>37.880216</td>\n      <td>1612.250000</td>\n    </tr>\n    <tr>\n      <th>max</th>\n      <td>89.000000</td>\n      <td>39.083686</td>\n      <td>1999.000000</td>\n    </tr>\n  </tbody>\n</table>\n</div>"
     },
     "execution_count": 4,
     "metadata": {},
     "output_type": "execute_result"
    }
   ],
   "source": [
    "# Calculate statistical measures\n",
    "df.describe()"
   ],
   "metadata": {
    "collapsed": false,
    "ExecuteTime": {
     "end_time": "2024-01-15T14:35:22.867061800Z",
     "start_time": "2024-01-15T14:35:22.855416800Z"
    }
   },
   "execution_count": 4
  },
  {
   "cell_type": "code",
   "outputs": [
    {
     "data": {
      "text/plain": "<Figure size 640x480 with 1 Axes>",
      "image/png": "[encoded data removed]"
     },
     "metadata": {},
     "output_type": "display_data"
    }
   ],
   "source": [
    "# Create a box plot for outlier detection\n",
    "df.boxplot(column=['Age', 'Temperature', 'Daily Vitamin D Intake'])\n",
    "plt.title('Box Plot')\n",
    "plt.ylabel('Values')\n",
    "plt.show()"
   ],
   "metadata": {
    "collapsed": false,
    "ExecuteTime": {
     "end_time": "2024-01-15T14:35:29.292794800Z",
     "start_time": "2024-01-15T14:35:29.199337800Z"
    }
   },
   "execution_count": 5
  },
  {
   "cell_type": "markdown",
   "source": [
    "Let's create a separate plot for temperature"
   ],
   "metadata": {
    "id": "GYGyZtOmi3G5"
   }
  },
  {
   "cell_type": "code",
   "source": [
    "df.boxplot(column=['Temperature'])\n",
    "plt.title('Box Plot')\n",
    "plt.ylabel('Values')\n",
    "plt.show()"
   ],
   "metadata": {
    "id": "f49nPKy4i9E1",
    "ExecuteTime": {
     "end_time": "2024-01-15T14:35:34.110792Z",
     "start_time": "2024-01-15T14:35:34.054812600Z"
    }
   },
   "execution_count": 6,
   "outputs": [
    {
     "data": {
      "text/plain": "<Figure size 640x480 with 1 Axes>",
      "image/png": "[encoded data removed]"
     },
     "metadata": {},
     "output_type": "display_data"
    }
   ]
  },
  {
   "cell_type": "markdown",
   "source": [
    "Temperature higher than the maximum or lower than the minimum might not always be outliers!"
   ],
   "metadata": {
    "id": "YCYf8hPwjCeZ"
   }
  },
  {
   "cell_type": "markdown",
   "source": [
    "## Fix Data Types"
   ],
   "metadata": {
    "id": "WMoMjrU2jlA7"
   }
  },
  {
   "cell_type": "code",
   "outputs": [
    {
     "data": {
      "text/plain": "   Age  Temperature Cough Sore Throat Fatigue  Daily Vitamin D Intake  \\\n0   69    37.371591    No         Yes     Yes                     542   \n1   32    38.012143    No         Yes      No                    1624   \n2   89    36.688738   Yes          No      No                    1603   \n3   78    37.670494   Yes         Yes     Yes                    1113   \n4   38    37.512786   Yes          No      No                    1787   \n\n  COVID-19 Positive  \n0               Yes  \n1                No  \n2                No  \n3               Yes  \n4                No  ",
      "text/html": "<div>\n<style scoped>\n    .dataframe tbody tr th:only-of-type {\n        vertical-align: middle;\n    }\n\n    .dataframe tbody tr th {\n        vertical-align: top;\n    }\n\n    .dataframe thead th {\n        text-align: right;\n    }\n</style>\n<table border=\"1\" class=\"dataframe\">\n  <thead>\n    <tr style=\"text-align: right;\">\n      <th></th>\n      <th>Age</th>\n      <th>Temperature</th>\n      <th>Cough</th>\n      <th>Sore Throat</th>\n      <th>Fatigue</th>\n      <th>Daily Vitamin D Intake</th>\n      <th>COVID-19 Positive</th>\n    </tr>\n  </thead>\n  <tbody>\n    <tr>\n      <th>0</th>\n      <td>69</td>\n      <td>37.371591</td>\n      <td>No</td>\n      <td>Yes</td>\n      <td>Yes</td>\n      <td>542</td>\n      <td>Yes</td>\n    </tr>\n    <tr>\n      <th>1</th>\n      <td>32</td>\n      <td>38.012143</td>\n      <td>No</td>\n      <td>Yes</td>\n      <td>No</td>\n      <td>1624</td>\n      <td>No</td>\n    </tr>\n    <tr>\n      <th>2</th>\n      <td>89</td>\n      <td>36.688738</td>\n      <td>Yes</td>\n      <td>No</td>\n      <td>No</td>\n      <td>1603</td>\n      <td>No</td>\n    </tr>\n    <tr>\n      <th>3</th>\n      <td>78</td>\n      <td>37.670494</td>\n      <td>Yes</td>\n      <td>Yes</td>\n      <td>Yes</td>\n      <td>1113</td>\n      <td>Yes</td>\n    </tr>\n    <tr>\n      <th>4</th>\n      <td>38</td>\n      <td>37.512786</td>\n      <td>Yes</td>\n      <td>No</td>\n      <td>No</td>\n      <td>1787</td>\n      <td>No</td>\n    </tr>\n  </tbody>\n</table>\n</div>"
     },
     "execution_count": 7,
     "metadata": {},
     "output_type": "execute_result"
    }
   ],
   "source": [
    "df.head()"
   ],
   "metadata": {
    "collapsed": false,
    "ExecuteTime": {
     "end_time": "2024-01-15T14:35:48.477844900Z",
     "start_time": "2024-01-15T14:35:48.473334900Z"
    }
   },
   "execution_count": 7
  },
  {
   "cell_type": "code",
   "source": [
    "# Define the encoding dictionary\n",
    "enc_dict = {\n",
    "    'Cough': {'Yes': 1, 'No': 0},\n",
    "    'Sore Throat': {'Yes': 1, 'No': 0},\n",
    "    'Fatigue': {'Yes': 1, 'No': 0},\n",
    "    'COVID-19 Positive': {'Yes': 1, 'No': 0},\n",
    "}\n",
    "\n",
    "# Apply encoding to the DataFrame\n",
    "df.replace(enc_dict, inplace=True)\n",
    "\n",
    "\n",
    "\n",
    "\n",
    "# Display the updated DataFrame\n",
    "df.head()"
   ],
   "metadata": {
    "id": "RZroUVk-jwbj",
    "ExecuteTime": {
     "end_time": "2024-01-15T14:35:59.789780700Z",
     "start_time": "2024-01-15T14:35:59.782156900Z"
    }
   },
   "execution_count": 8,
   "outputs": [
    {
     "data": {
      "text/plain": "   Age  Temperature  Cough  Sore Throat  Fatigue  Daily Vitamin D Intake  \\\n0   69    37.371591      0            1        1                     542   \n1   32    38.012143      0            1        0                    1624   \n2   89    36.688738      1            0        0                    1603   \n3   78    37.670494      1            1        1                    1113   \n4   38    37.512786      1            0        0                    1787   \n\n   COVID-19 Positive  \n0                  1  \n1                  0  \n2                  0  \n3                  1  \n4                  0  ",
      "text/html": "<div>\n<style scoped>\n    .dataframe tbody tr th:only-of-type {\n        vertical-align: middle;\n    }\n\n    .dataframe tbody tr th {\n        vertical-align: top;\n    }\n\n    .dataframe thead th {\n        text-align: right;\n    }\n</style>\n<table border=\"1\" class=\"dataframe\">\n  <thead>\n    <tr style=\"text-align: right;\">\n      <th></th>\n      <th>Age</th>\n      <th>Temperature</th>\n      <th>Cough</th>\n      <th>Sore Throat</th>\n      <th>Fatigue</th>\n      <th>Daily Vitamin D Intake</th>\n      <th>COVID-19 Positive</th>\n    </tr>\n  </thead>\n  <tbody>\n    <tr>\n      <th>0</th>\n      <td>69</td>\n      <td>37.371591</td>\n      <td>0</td>\n      <td>1</td>\n      <td>1</td>\n      <td>542</td>\n      <td>1</td>\n    </tr>\n    <tr>\n      <th>1</th>\n      <td>32</td>\n      <td>38.012143</td>\n      <td>0</td>\n      <td>1</td>\n      <td>0</td>\n      <td>1624</td>\n      <td>0</td>\n    </tr>\n    <tr>\n      <th>2</th>\n      <td>89</td>\n      <td>36.688738</td>\n      <td>1</td>\n      <td>0</td>\n      <td>0</td>\n      <td>1603</td>\n      <td>0</td>\n    </tr>\n    <tr>\n      <th>3</th>\n      <td>78</td>\n      <td>37.670494</td>\n      <td>1</td>\n      <td>1</td>\n      <td>1</td>\n      <td>1113</td>\n      <td>1</td>\n    </tr>\n    <tr>\n      <th>4</th>\n      <td>38</td>\n      <td>37.512786</td>\n      <td>1</td>\n      <td>0</td>\n      <td>0</td>\n      <td>1787</td>\n      <td>0</td>\n    </tr>\n  </tbody>\n</table>\n</div>"
     },
     "execution_count": 8,
     "metadata": {},
     "output_type": "execute_result"
    }
   ]
  },
  {
   "cell_type": "markdown",
   "source": [
    "## Modeling"
   ],
   "metadata": {
    "id": "xrZG5urzjSG4"
   }
  },
  {
   "cell_type": "markdown",
   "source": [
    "### Split the Data"
   ],
   "metadata": {
    "id": "j6kuVmu1jXX5"
   }
  },
  {
   "cell_type": "code",
   "source": [
    "\n",
    "from sklearn.model_selection import train_test_split\n",
    "from sklearn.linear_model import LogisticRegression\n",
    "from sklearn.metrics import accuracy_score\n",
    "\n",
    "\n",
    "# Split the data into features (X) and target (y)\n",
    "x = df.drop('COVID-19 Positive', axis=1)\n",
    "y = df['COVID-19 Positive']\n",
    "\n",
    "# Split the data into training and test sets\n",
    "\n",
    "x_test, x_train, y_test, y_train = train_test_split(x, y, test_size=0.2, random_state=0)\n"
   ],
   "metadata": {
    "id": "ZaMAwVnOjUsp",
    "ExecuteTime": {
     "end_time": "2024-01-11T18:32:07.826621600Z",
     "start_time": "2024-01-11T18:32:07.704083800Z"
    }
   },
   "execution_count": 9,
   "outputs": []
  },
  {
   "cell_type": "markdown",
   "source": [
    "### Fit and evaluate the classifier"
   ],
   "metadata": {
    "id": "MGhayg7vjaK4"
   }
  },
  {
   "cell_type": "code",
   "source": [
    "\n",
    "# Create a logistic regression model\n",
    "model = LogisticRegression()\n",
    "\n",
    "\n",
    "# Fit the model on the training data\n",
    "model.fit(x_train, y_train)\n",
    "\n",
    "# Make predictions on the test set\n",
    "y_pred = model.predict(x_test)\n",
    "\n",
    "# Calculate the accuracy of the model\n",
    "accuracy = accuracy_score(y_test, y_pred)\n",
    "print(accuracy)"
   ],
   "metadata": {
    "id": "0ij6qxIgjcc5",
    "ExecuteTime": {
     "end_time": "2024-01-11T18:32:07.826621600Z",
     "start_time": "2024-01-11T18:32:07.801282500Z"
    }
   },
   "execution_count": 10,
   "outputs": [
    {
     "name": "stdout",
     "output_type": "stream",
     "text": [
      "0.91875\n"
     ]
    },
    {
     "name": "stderr",
     "output_type": "stream",
     "text": [
      "D:\\projects\\python\\jupyter\\.venv\\Lib\\site-packages\\sklearn\\linear_model\\_logistic.py:460: ConvergenceWarning: lbfgs failed to converge (status=1):\n",
      "STOP: TOTAL NO. of ITERATIONS REACHED LIMIT.\n",
      "\n",
      "Increase the number of iterations (max_iter) or scale the data as shown in:\n",
      "    https://scikit-learn.org/stable/modules/preprocessing.html\n",
      "Please also refer to the documentation for alternative solver options:\n",
      "    https://scikit-learn.org/stable/modules/linear_model.html#logistic-regression\n",
      "  n_iter_i = _check_optimize_result(\n"
     ]
    }
   ]
  },
  {
   "cell_type": "code",
   "outputs": [],
   "source": [],
   "metadata": {
    "collapsed": false,
    "ExecuteTime": {
     "end_time": "2024-01-11T18:32:07.827621900Z",
     "start_time": "2024-01-11T18:32:07.814113400Z"
    }
   },
   "execution_count": 10
  }
 ]
}
