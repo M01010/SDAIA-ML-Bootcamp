{
 "nbformat": 4,
 "nbformat_minor": 0,
 "metadata": {
  "kernelspec": {
   "display_name": "Python 3",
   "language": "python",
   "name": "python3"
  },
  "language_info": {
   "codemirror_mode": {
    "name": "ipython",
    "version": 3
   },
   "file_extension": ".py",
   "mimetype": "text/x-python",
   "name": "python",
   "nbconvert_exporter": "python",
   "pygments_lexer": "ipython3",
   "version": "3.7.0"
  },
  "colab": {
   "provenance": []
  }
 },
 "cells": [
  {
   "cell_type": "markdown",
   "metadata": {
    "id": "zpxntYymS8dN"
   },
   "source": [
    "# Data Manipulation\n",
    "\n",
    "---\n",
    "##Case Study: Hotel Bookings\n",
    "**Objective:**\n",
    "\n",
    "In this notebook, we are going to go through some data manipulation techniques, which are:\n",
    "- Sorting Pandas DataFrame\n",
    "- Subsetting columns\n",
    "- Subsetting rows\n",
    "- Adding a new column\n",
    "- Aggregating Data\n",
    "- Group by\n",
    "- Pivotting\n",
    "- Setting and Removing Index\n",
    "- Cross Tabbing\n",
    "\n",
    "## Dataset Explanation\n",
    "- **hotelHotel:** (H1 = Resort Hotel or H2 = City Hotel)\n",
    "- **is_canceled:** Value indicating if the booking was canceled (1) or not (0)\n",
    "- **lead_time:** Number of days that elapsed between the entering date of the booking into the PMS and the arrival date\n",
    "- **arrival_date_year:** Year of arrival date\n",
    "- **arrival_date_month:** Month of arrival date\n",
    "- **arrival_date_week_number:** Week number of year for arrival date\n",
    "- **arrival_date_day_of_month:** Day of arrival date\n",
    "- **stays_in_weekend_nights:** Number of weekend nights (Saturday or Sunday) the guest stayed or booked to stay at the hotel\n",
    "- **stays_in_week_nights:** Number of week nights (Monday to Friday) the guest stayed or booked to stay at the hotel\n",
    "- **adults:** Number of adults\n",
    "- **children:** Number of children\n",
    "- **babies:** Number of babies\n",
    "- **meal:** Type of meal booked. Categories are presented in standard hospitality meal packages: Undefined/SC – no meal package; BB – Bed & Breakfast; HB – Half board (breakfast and one other meal – usually dinner); FB – Full board (breakfast, lunch and dinner)\n",
    "- **country:** Country of origin. Categories are represented in the ISO 3155–3:2013 format\n",
    "- **market_segment:** Market segment designation. In categories, the term “TA” means “Travel Agents” and “TO” means “Tour Operators”\n",
    "- **distribution_channel:** Booking distribution channel. The term “TA” means “Travel Agents” and “TO” means “Tour Operators”\n",
    "- **is_repeated_gues:t** Value indicating if the booking name was from a repeated guest (1) or not (0)\n",
    "- **previous_cancellations:**  Number of previous bookings that were cancelled by the customer prior to the current booking\n",
    "- **previous_bookings_not_canceled:** Number of previous bookings not cancelled by the customer prior to the current booking\n",
    "- **reserved_room_type:** Code of room type reserved. Code is presented instead of designation for anonymity reasons.\n",
    "- **assigned_room_type:** Code for the type of room assigned to the booking. Sometimes the assigned room type differs from the reserved room type due to hotel operation reasons (e.g. overbooking) or by customer request. Code is presented instead of designation for anonymity reasons.\n",
    "- **booking_changes:**  Number of changes/amendments made to the booking from the moment the booking was entered on the PMS until the moment of check-in or cancellation\n",
    "- **deposit_type:** Indication on if the customer made a deposit to guarantee the booking. This variable can assume three categories: No Deposit – no deposit was made; Non Refund – a deposit was made in the value of the total stay cost; Refundable – a deposit was made with a value under the total cost of stay.\n",
    "- **agent:** ID of the travel agency that made the booking\n",
    "- **company:** ID of the company/entity that made the booking or responsible for paying the booking. ID is presented instead of designation for anonymity reasons\n",
    "- **days_in_waiting_list:** Number of days the booking was in the waiting list before it was confirmed to the customer\n",
    "- **customer_type:** Type of booking, assuming one of four categories: Contract - when the booking has an allotment or other type of contract associated to it; Group – when the booking is associated to a group; Transient – when the booking is not part of a group or contract, and is not associated to other transient booking; Transient-party – when the booking is transient, but is associated to at least other transient booking\n",
    "- **adr:** Average Daily Rate as defined by dividing the sum of all lodging transactions by the total number of staying nights\n",
    "- **required_car_parking_spaces:** Number of car parking spaces required by the customer\n",
    "- **total_of_special_requests:** Number of special requests made by the customer (e.g. twin bed or high floor)\n",
    "- **reservation_status:** Reservation last status, assuming one of three categories: Canceled – booking was canceled by the customer; Check-Out – customer has checked in but already departed; No-Show – customer did not check-in and did inform the hotel of the reason why\n",
    "- **reservation_status_date:** Date at which the last status was set. This variable can be used in conjunction with the Reservation Status to understand when was the booking canceled or when did the customer checked-out of the hotel"
   ]
  },
  {
   "cell_type": "markdown",
   "metadata": {
    "id": "jgPLwReHS8dZ"
   },
   "source": [
    "# Import Libraries"
   ]
  },
  {
   "cell_type": "code",
   "metadata": {
    "id": "GP4IWjsCS8db",
    "ExecuteTime": {
     "end_time": "2024-01-01T09:46:26.704774100Z",
     "start_time": "2024-01-01T09:46:26.041341Z"
    }
   },
   "source": [
    "import pandas as pd\n",
    "import numpy as np\n",
    "import matplotlib.pyplot as plt"
   ],
   "execution_count": 1,
   "outputs": []
  },
  {
   "cell_type": "markdown",
   "metadata": {
    "id": "7040l9-DS8db"
   },
   "source": [
    "# Load Dataset"
   ]
  },
  {
   "cell_type": "markdown",
   "metadata": {
    "id": "Q_HBhm5w7zv4"
   },
   "source": [
    "After you download the **hotel_bookings.csv** dataset file, upload it to your runtime so you can work with it."
   ]
  },
  {
   "cell_type": "code",
   "metadata": {
    "id": "xySm4OVyNi11",
    "ExecuteTime": {
     "end_time": "2024-01-01T09:46:26.855323100Z",
     "start_time": "2024-01-01T09:46:26.703773900Z"
    }
   },
   "source": [
    "df = pd.read_csv('hotel_bookings.csv')\n",
    "\n",
    "df.head()\n"
   ],
   "execution_count": 2,
   "outputs": [
    {
     "data": {
      "text/plain": "          hotel  is_canceled  lead_time  arrival_date_year arrival_date_month  \\\n0  Resort Hotel            0        342               2015               July   \n1  Resort Hotel            0        737               2015               July   \n2  Resort Hotel            0          7               2015               July   \n3  Resort Hotel            0         13               2015               July   \n4  Resort Hotel            0         14               2015               July   \n\n   arrival_date_week_number  arrival_date_day_of_month  \\\n0                        27                          1   \n1                        27                          1   \n2                        27                          1   \n3                        27                          1   \n4                        27                          1   \n\n   stays_in_weekend_nights  stays_in_week_nights  adults  ...  deposit_type  \\\n0                        0                     0       2  ...    No Deposit   \n1                        0                     0       2  ...    No Deposit   \n2                        0                     1       1  ...    No Deposit   \n3                        0                     1       1  ...    No Deposit   \n4                        0                     2       2  ...    No Deposit   \n\n   agent company days_in_waiting_list customer_type   adr  \\\n0    NaN     NaN                    0     Transient   0.0   \n1    NaN     NaN                    0     Transient   0.0   \n2    NaN     NaN                    0     Transient  75.0   \n3  304.0     NaN                    0     Transient  75.0   \n4  240.0     NaN                    0     Transient  98.0   \n\n   required_car_parking_spaces  total_of_special_requests  reservation_status  \\\n0                            0                          0           Check-Out   \n1                            0                          0           Check-Out   \n2                            0                          0           Check-Out   \n3                            0                          0           Check-Out   \n4                            0                          1           Check-Out   \n\n  reservation_status_date  \n0              2015-07-01  \n1              2015-07-01  \n2              2015-07-02  \n3              2015-07-02  \n4              2015-07-03  \n\n[5 rows x 32 columns]",
      "text/html": "<div>\n<style scoped>\n    .dataframe tbody tr th:only-of-type {\n        vertical-align: middle;\n    }\n\n    .dataframe tbody tr th {\n        vertical-align: top;\n    }\n\n    .dataframe thead th {\n        text-align: right;\n    }\n</style>\n<table border=\"1\" class=\"dataframe\">\n  <thead>\n    <tr style=\"text-align: right;\">\n      <th></th>\n      <th>hotel</th>\n      <th>is_canceled</th>\n      <th>lead_time</th>\n      <th>arrival_date_year</th>\n      <th>arrival_date_month</th>\n      <th>arrival_date_week_number</th>\n      <th>arrival_date_day_of_month</th>\n      <th>stays_in_weekend_nights</th>\n      <th>stays_in_week_nights</th>\n      <th>adults</th>\n      <th>...</th>\n      <th>deposit_type</th>\n      <th>agent</th>\n      <th>company</th>\n      <th>days_in_waiting_list</th>\n      <th>customer_type</th>\n      <th>adr</th>\n      <th>required_car_parking_spaces</th>\n      <th>total_of_special_requests</th>\n      <th>reservation_status</th>\n      <th>reservation_status_date</th>\n    </tr>\n  </thead>\n  <tbody>\n    <tr>\n      <th>0</th>\n      <td>Resort Hotel</td>\n      <td>0</td>\n      <td>342</td>\n      <td>2015</td>\n      <td>July</td>\n      <td>27</td>\n      <td>1</td>\n      <td>0</td>\n      <td>0</td>\n      <td>2</td>\n      <td>...</td>\n      <td>No Deposit</td>\n      <td>NaN</td>\n      <td>NaN</td>\n      <td>0</td>\n      <td>Transient</td>\n      <td>0.0</td>\n      <td>0</td>\n      <td>0</td>\n      <td>Check-Out</td>\n      <td>2015-07-01</td>\n    </tr>\n    <tr>\n      <th>1</th>\n      <td>Resort Hotel</td>\n      <td>0</td>\n      <td>737</td>\n      <td>2015</td>\n      <td>July</td>\n      <td>27</td>\n      <td>1</td>\n      <td>0</td>\n      <td>0</td>\n      <td>2</td>\n      <td>...</td>\n      <td>No Deposit</td>\n      <td>NaN</td>\n      <td>NaN</td>\n      <td>0</td>\n      <td>Transient</td>\n      <td>0.0</td>\n      <td>0</td>\n      <td>0</td>\n      <td>Check-Out</td>\n      <td>2015-07-01</td>\n    </tr>\n    <tr>\n      <th>2</th>\n      <td>Resort Hotel</td>\n      <td>0</td>\n      <td>7</td>\n      <td>2015</td>\n      <td>July</td>\n      <td>27</td>\n      <td>1</td>\n      <td>0</td>\n      <td>1</td>\n      <td>1</td>\n      <td>...</td>\n      <td>No Deposit</td>\n      <td>NaN</td>\n      <td>NaN</td>\n      <td>0</td>\n      <td>Transient</td>\n      <td>75.0</td>\n      <td>0</td>\n      <td>0</td>\n      <td>Check-Out</td>\n      <td>2015-07-02</td>\n    </tr>\n    <tr>\n      <th>3</th>\n      <td>Resort Hotel</td>\n      <td>0</td>\n      <td>13</td>\n      <td>2015</td>\n      <td>July</td>\n      <td>27</td>\n      <td>1</td>\n      <td>0</td>\n      <td>1</td>\n      <td>1</td>\n      <td>...</td>\n      <td>No Deposit</td>\n      <td>304.0</td>\n      <td>NaN</td>\n      <td>0</td>\n      <td>Transient</td>\n      <td>75.0</td>\n      <td>0</td>\n      <td>0</td>\n      <td>Check-Out</td>\n      <td>2015-07-02</td>\n    </tr>\n    <tr>\n      <th>4</th>\n      <td>Resort Hotel</td>\n      <td>0</td>\n      <td>14</td>\n      <td>2015</td>\n      <td>July</td>\n      <td>27</td>\n      <td>1</td>\n      <td>0</td>\n      <td>2</td>\n      <td>2</td>\n      <td>...</td>\n      <td>No Deposit</td>\n      <td>240.0</td>\n      <td>NaN</td>\n      <td>0</td>\n      <td>Transient</td>\n      <td>98.0</td>\n      <td>0</td>\n      <td>1</td>\n      <td>Check-Out</td>\n      <td>2015-07-03</td>\n    </tr>\n  </tbody>\n</table>\n<p>5 rows × 32 columns</p>\n</div>"
     },
     "execution_count": 2,
     "metadata": {},
     "output_type": "execute_result"
    }
   ]
  },
  {
   "cell_type": "markdown",
   "metadata": {
    "id": "J3DxY0C_S8di"
   },
   "source": [
    "# Sorting Pandas DataFrames"
   ]
  },
  {
   "cell_type": "markdown",
   "metadata": {
    "id": "EbTIUSVWS8di"
   },
   "source": [
    "## sort by one column desc order"
   ]
  },
  {
   "cell_type": "code",
   "metadata": {
    "id": "MLbIg9P6S8dl",
    "ExecuteTime": {
     "end_time": "2024-01-01T09:46:28.463267400Z",
     "start_time": "2024-01-01T09:46:28.431280700Z"
    }
   },
   "source": [
    "\n",
    "df_sorted = df.sort_values('stays_in_weekend_nights', ascending=False)\n",
    "\n",
    "df_sorted.head()"
   ],
   "execution_count": 3,
   "outputs": [
    {
     "data": {
      "text/plain": "               hotel  is_canceled  lead_time  arrival_date_year  \\\n14038   Resort Hotel            0        126               2016   \n14037   Resort Hotel            0        113               2015   \n9839    Resort Hotel            1        322               2017   \n101794    City Hotel            0        140               2016   \n33924   Resort Hotel            0         71               2017   \n\n       arrival_date_month  arrival_date_week_number  \\\n14038                July                        28   \n14037              August                        31   \n9839              January                         2   \n101794          September                        39   \n33924             January                         2   \n\n        arrival_date_day_of_month  stays_in_weekend_nights  \\\n14038                           5                       19   \n14037                           1                       18   \n9839                           10                       16   \n101794                         22                       16   \n33924                          10                       16   \n\n        stays_in_week_nights  adults  ...  deposit_type  agent company  \\\n14038                     50       1  ...    No Deposit    NaN     NaN   \n14037                     42       1  ...    No Deposit    NaN     NaN   \n9839                      40       2  ...    No Deposit    8.0     NaN   \n101794                    41       0  ...    No Deposit    9.0     NaN   \n33924                     40       2  ...    No Deposit  196.0     NaN   \n\n       days_in_waiting_list customer_type     adr  \\\n14038                     0     Transient  110.00   \n14037                     0     Transient  110.50   \n9839                      0     Transient   25.50   \n101794                    0     Transient    8.34   \n33924                     0     Transient   28.79   \n\n        required_car_parking_spaces  total_of_special_requests  \\\n14038                             0                          3   \n14037                             0                          3   \n9839                              0                          0   \n101794                            0                          2   \n33924                             0                          0   \n\n        reservation_status reservation_status_date  \n14038            Check-Out              2016-09-12  \n14037            Check-Out              2015-09-30  \n9839              Canceled              2016-10-31  \n101794           Check-Out              2016-11-18  \n33924            Check-Out              2017-03-07  \n\n[5 rows x 32 columns]",
      "text/html": "<div>\n<style scoped>\n    .dataframe tbody tr th:only-of-type {\n        vertical-align: middle;\n    }\n\n    .dataframe tbody tr th {\n        vertical-align: top;\n    }\n\n    .dataframe thead th {\n        text-align: right;\n    }\n</style>\n<table border=\"1\" class=\"dataframe\">\n  <thead>\n    <tr style=\"text-align: right;\">\n      <th></th>\n      <th>hotel</th>\n      <th>is_canceled</th>\n      <th>lead_time</th>\n      <th>arrival_date_year</th>\n      <th>arrival_date_month</th>\n      <th>arrival_date_week_number</th>\n      <th>arrival_date_day_of_month</th>\n      <th>stays_in_weekend_nights</th>\n      <th>stays_in_week_nights</th>\n      <th>adults</th>\n      <th>...</th>\n      <th>deposit_type</th>\n      <th>agent</th>\n      <th>company</th>\n      <th>days_in_waiting_list</th>\n      <th>customer_type</th>\n      <th>adr</th>\n      <th>required_car_parking_spaces</th>\n      <th>total_of_special_requests</th>\n      <th>reservation_status</th>\n      <th>reservation_status_date</th>\n    </tr>\n  </thead>\n  <tbody>\n    <tr>\n      <th>14038</th>\n      <td>Resort Hotel</td>\n      <td>0</td>\n      <td>126</td>\n      <td>2016</td>\n      <td>July</td>\n      <td>28</td>\n      <td>5</td>\n      <td>19</td>\n      <td>50</td>\n      <td>1</td>\n      <td>...</td>\n      <td>No Deposit</td>\n      <td>NaN</td>\n      <td>NaN</td>\n      <td>0</td>\n      <td>Transient</td>\n      <td>110.00</td>\n      <td>0</td>\n      <td>3</td>\n      <td>Check-Out</td>\n      <td>2016-09-12</td>\n    </tr>\n    <tr>\n      <th>14037</th>\n      <td>Resort Hotel</td>\n      <td>0</td>\n      <td>113</td>\n      <td>2015</td>\n      <td>August</td>\n      <td>31</td>\n      <td>1</td>\n      <td>18</td>\n      <td>42</td>\n      <td>1</td>\n      <td>...</td>\n      <td>No Deposit</td>\n      <td>NaN</td>\n      <td>NaN</td>\n      <td>0</td>\n      <td>Transient</td>\n      <td>110.50</td>\n      <td>0</td>\n      <td>3</td>\n      <td>Check-Out</td>\n      <td>2015-09-30</td>\n    </tr>\n    <tr>\n      <th>9839</th>\n      <td>Resort Hotel</td>\n      <td>1</td>\n      <td>322</td>\n      <td>2017</td>\n      <td>January</td>\n      <td>2</td>\n      <td>10</td>\n      <td>16</td>\n      <td>40</td>\n      <td>2</td>\n      <td>...</td>\n      <td>No Deposit</td>\n      <td>8.0</td>\n      <td>NaN</td>\n      <td>0</td>\n      <td>Transient</td>\n      <td>25.50</td>\n      <td>0</td>\n      <td>0</td>\n      <td>Canceled</td>\n      <td>2016-10-31</td>\n    </tr>\n    <tr>\n      <th>101794</th>\n      <td>City Hotel</td>\n      <td>0</td>\n      <td>140</td>\n      <td>2016</td>\n      <td>September</td>\n      <td>39</td>\n      <td>22</td>\n      <td>16</td>\n      <td>41</td>\n      <td>0</td>\n      <td>...</td>\n      <td>No Deposit</td>\n      <td>9.0</td>\n      <td>NaN</td>\n      <td>0</td>\n      <td>Transient</td>\n      <td>8.34</td>\n      <td>0</td>\n      <td>2</td>\n      <td>Check-Out</td>\n      <td>2016-11-18</td>\n    </tr>\n    <tr>\n      <th>33924</th>\n      <td>Resort Hotel</td>\n      <td>0</td>\n      <td>71</td>\n      <td>2017</td>\n      <td>January</td>\n      <td>2</td>\n      <td>10</td>\n      <td>16</td>\n      <td>40</td>\n      <td>2</td>\n      <td>...</td>\n      <td>No Deposit</td>\n      <td>196.0</td>\n      <td>NaN</td>\n      <td>0</td>\n      <td>Transient</td>\n      <td>28.79</td>\n      <td>0</td>\n      <td>0</td>\n      <td>Check-Out</td>\n      <td>2017-03-07</td>\n    </tr>\n  </tbody>\n</table>\n<p>5 rows × 32 columns</p>\n</div>"
     },
     "execution_count": 3,
     "metadata": {},
     "output_type": "execute_result"
    }
   ]
  },
  {
   "cell_type": "markdown",
   "metadata": {
    "id": "ZYqP1x7YS8dp"
   },
   "source": [
    "## sort by 2 columns in descending order"
   ]
  },
  {
   "cell_type": "code",
   "metadata": {
    "id": "saWc_JxES8dq",
    "ExecuteTime": {
     "end_time": "2024-01-01T09:46:30.629418600Z",
     "start_time": "2024-01-01T09:46:30.586395300Z"
    }
   },
   "source": [
    "\n",
    "df_sorted_2 = df.sort_values(['stays_in_weekend_nights', 'stays_in_week_nights'], ascending=False)\n",
    "df_sorted_2.head()\n",
    "\n",
    "\n"
   ],
   "execution_count": 4,
   "outputs": [
    {
     "data": {
      "text/plain": "               hotel  is_canceled  lead_time  arrival_date_year  \\\n14038   Resort Hotel            0        126               2016   \n14037   Resort Hotel            0        113               2015   \n101794    City Hotel            0        140               2016   \n9839    Resort Hotel            1        322               2017   \n33924   Resort Hotel            0         71               2017   \n\n       arrival_date_month  arrival_date_week_number  \\\n14038                July                        28   \n14037              August                        31   \n101794          September                        39   \n9839              January                         2   \n33924             January                         2   \n\n        arrival_date_day_of_month  stays_in_weekend_nights  \\\n14038                           5                       19   \n14037                           1                       18   \n101794                         22                       16   \n9839                           10                       16   \n33924                          10                       16   \n\n        stays_in_week_nights  adults  ...  deposit_type  agent company  \\\n14038                     50       1  ...    No Deposit    NaN     NaN   \n14037                     42       1  ...    No Deposit    NaN     NaN   \n101794                    41       0  ...    No Deposit    9.0     NaN   \n9839                      40       2  ...    No Deposit    8.0     NaN   \n33924                     40       2  ...    No Deposit  196.0     NaN   \n\n       days_in_waiting_list customer_type     adr  \\\n14038                     0     Transient  110.00   \n14037                     0     Transient  110.50   \n101794                    0     Transient    8.34   \n9839                      0     Transient   25.50   \n33924                     0     Transient   28.79   \n\n        required_car_parking_spaces  total_of_special_requests  \\\n14038                             0                          3   \n14037                             0                          3   \n101794                            0                          2   \n9839                              0                          0   \n33924                             0                          0   \n\n        reservation_status reservation_status_date  \n14038            Check-Out              2016-09-12  \n14037            Check-Out              2015-09-30  \n101794           Check-Out              2016-11-18  \n9839              Canceled              2016-10-31  \n33924            Check-Out              2017-03-07  \n\n[5 rows x 32 columns]",
      "text/html": "<div>\n<style scoped>\n    .dataframe tbody tr th:only-of-type {\n        vertical-align: middle;\n    }\n\n    .dataframe tbody tr th {\n        vertical-align: top;\n    }\n\n    .dataframe thead th {\n        text-align: right;\n    }\n</style>\n<table border=\"1\" class=\"dataframe\">\n  <thead>\n    <tr style=\"text-align: right;\">\n      <th></th>\n      <th>hotel</th>\n      <th>is_canceled</th>\n      <th>lead_time</th>\n      <th>arrival_date_year</th>\n      <th>arrival_date_month</th>\n      <th>arrival_date_week_number</th>\n      <th>arrival_date_day_of_month</th>\n      <th>stays_in_weekend_nights</th>\n      <th>stays_in_week_nights</th>\n      <th>adults</th>\n      <th>...</th>\n      <th>deposit_type</th>\n      <th>agent</th>\n      <th>company</th>\n      <th>days_in_waiting_list</th>\n      <th>customer_type</th>\n      <th>adr</th>\n      <th>required_car_parking_spaces</th>\n      <th>total_of_special_requests</th>\n      <th>reservation_status</th>\n      <th>reservation_status_date</th>\n    </tr>\n  </thead>\n  <tbody>\n    <tr>\n      <th>14038</th>\n      <td>Resort Hotel</td>\n      <td>0</td>\n      <td>126</td>\n      <td>2016</td>\n      <td>July</td>\n      <td>28</td>\n      <td>5</td>\n      <td>19</td>\n      <td>50</td>\n      <td>1</td>\n      <td>...</td>\n      <td>No Deposit</td>\n      <td>NaN</td>\n      <td>NaN</td>\n      <td>0</td>\n      <td>Transient</td>\n      <td>110.00</td>\n      <td>0</td>\n      <td>3</td>\n      <td>Check-Out</td>\n      <td>2016-09-12</td>\n    </tr>\n    <tr>\n      <th>14037</th>\n      <td>Resort Hotel</td>\n      <td>0</td>\n      <td>113</td>\n      <td>2015</td>\n      <td>August</td>\n      <td>31</td>\n      <td>1</td>\n      <td>18</td>\n      <td>42</td>\n      <td>1</td>\n      <td>...</td>\n      <td>No Deposit</td>\n      <td>NaN</td>\n      <td>NaN</td>\n      <td>0</td>\n      <td>Transient</td>\n      <td>110.50</td>\n      <td>0</td>\n      <td>3</td>\n      <td>Check-Out</td>\n      <td>2015-09-30</td>\n    </tr>\n    <tr>\n      <th>101794</th>\n      <td>City Hotel</td>\n      <td>0</td>\n      <td>140</td>\n      <td>2016</td>\n      <td>September</td>\n      <td>39</td>\n      <td>22</td>\n      <td>16</td>\n      <td>41</td>\n      <td>0</td>\n      <td>...</td>\n      <td>No Deposit</td>\n      <td>9.0</td>\n      <td>NaN</td>\n      <td>0</td>\n      <td>Transient</td>\n      <td>8.34</td>\n      <td>0</td>\n      <td>2</td>\n      <td>Check-Out</td>\n      <td>2016-11-18</td>\n    </tr>\n    <tr>\n      <th>9839</th>\n      <td>Resort Hotel</td>\n      <td>1</td>\n      <td>322</td>\n      <td>2017</td>\n      <td>January</td>\n      <td>2</td>\n      <td>10</td>\n      <td>16</td>\n      <td>40</td>\n      <td>2</td>\n      <td>...</td>\n      <td>No Deposit</td>\n      <td>8.0</td>\n      <td>NaN</td>\n      <td>0</td>\n      <td>Transient</td>\n      <td>25.50</td>\n      <td>0</td>\n      <td>0</td>\n      <td>Canceled</td>\n      <td>2016-10-31</td>\n    </tr>\n    <tr>\n      <th>33924</th>\n      <td>Resort Hotel</td>\n      <td>0</td>\n      <td>71</td>\n      <td>2017</td>\n      <td>January</td>\n      <td>2</td>\n      <td>10</td>\n      <td>16</td>\n      <td>40</td>\n      <td>2</td>\n      <td>...</td>\n      <td>No Deposit</td>\n      <td>196.0</td>\n      <td>NaN</td>\n      <td>0</td>\n      <td>Transient</td>\n      <td>28.79</td>\n      <td>0</td>\n      <td>0</td>\n      <td>Check-Out</td>\n      <td>2017-03-07</td>\n    </tr>\n  </tbody>\n</table>\n<p>5 rows × 32 columns</p>\n</div>"
     },
     "execution_count": 4,
     "metadata": {},
     "output_type": "execute_result"
    }
   ]
  },
  {
   "cell_type": "markdown",
   "metadata": {
    "id": "Wdb7W0SoS8dt"
   },
   "source": [
    "# Subsetting\n",
    "This is sometimes known as filtering or selecting."
   ]
  },
  {
   "cell_type": "markdown",
   "metadata": {
    "id": "gJqywGDXS8dt"
   },
   "source": [
    "## filter by one column"
   ]
  },
  {
   "cell_type": "markdown",
   "metadata": {
    "id": "UGNebdnXVoSs"
   },
   "source": [
    "Here, we take the condition to select rows were the column 'is_canceld' is equal to 1."
   ]
  },
  {
   "cell_type": "code",
   "metadata": {
    "id": "gJQwWBG4S8du",
    "ExecuteTime": {
     "end_time": "2024-01-01T09:46:37.046805500Z",
     "start_time": "2024-01-01T09:46:37.032226700Z"
    }
   },
   "source": [
    "\n",
    "df_is_canceled = df[df['is_canceled'] == 1]\n",
    "df_is_canceled.shape\n"
   ],
   "execution_count": 5,
   "outputs": [
    {
     "data": {
      "text/plain": "(44224, 32)"
     },
     "execution_count": 5,
     "metadata": {},
     "output_type": "execute_result"
    }
   ]
  },
  {
   "cell_type": "code",
   "outputs": [
    {
     "data": {
      "text/plain": "           hotel  is_canceled  lead_time  arrival_date_year  \\\n8   Resort Hotel            1         85               2015   \n9   Resort Hotel            1         75               2015   \n10  Resort Hotel            1         23               2015   \n27  Resort Hotel            1         60               2015   \n32  Resort Hotel            1         96               2015   \n\n   arrival_date_month  arrival_date_week_number  arrival_date_day_of_month  \\\n8                July                        27                          1   \n9                July                        27                          1   \n10               July                        27                          1   \n27               July                        27                          1   \n32               July                        27                          1   \n\n    stays_in_weekend_nights  stays_in_week_nights  adults  ...  deposit_type  \\\n8                         0                     3       2  ...    No Deposit   \n9                         0                     3       2  ...    No Deposit   \n10                        0                     4       2  ...    No Deposit   \n27                        2                     5       2  ...    No Deposit   \n32                        2                     8       2  ...    No Deposit   \n\n    agent company days_in_waiting_list customer_type    adr  \\\n8   240.0     NaN                    0     Transient   82.0   \n9    15.0     NaN                    0     Transient  105.5   \n10  240.0     NaN                    0     Transient  123.0   \n27  240.0     NaN                    0     Transient  107.0   \n32    NaN     NaN                    0     Transient  108.3   \n\n    required_car_parking_spaces  total_of_special_requests  \\\n8                             0                          1   \n9                             0                          0   \n10                            0                          0   \n27                            0                          2   \n32                            0                          2   \n\n    reservation_status reservation_status_date  \n8             Canceled              2015-05-06  \n9             Canceled              2015-04-22  \n10            Canceled              2015-06-23  \n27            Canceled              2015-05-11  \n32            Canceled              2015-05-29  \n\n[5 rows x 32 columns]",
      "text/html": "<div>\n<style scoped>\n    .dataframe tbody tr th:only-of-type {\n        vertical-align: middle;\n    }\n\n    .dataframe tbody tr th {\n        vertical-align: top;\n    }\n\n    .dataframe thead th {\n        text-align: right;\n    }\n</style>\n<table border=\"1\" class=\"dataframe\">\n  <thead>\n    <tr style=\"text-align: right;\">\n      <th></th>\n      <th>hotel</th>\n      <th>is_canceled</th>\n      <th>lead_time</th>\n      <th>arrival_date_year</th>\n      <th>arrival_date_month</th>\n      <th>arrival_date_week_number</th>\n      <th>arrival_date_day_of_month</th>\n      <th>stays_in_weekend_nights</th>\n      <th>stays_in_week_nights</th>\n      <th>adults</th>\n      <th>...</th>\n      <th>deposit_type</th>\n      <th>agent</th>\n      <th>company</th>\n      <th>days_in_waiting_list</th>\n      <th>customer_type</th>\n      <th>adr</th>\n      <th>required_car_parking_spaces</th>\n      <th>total_of_special_requests</th>\n      <th>reservation_status</th>\n      <th>reservation_status_date</th>\n    </tr>\n  </thead>\n  <tbody>\n    <tr>\n      <th>8</th>\n      <td>Resort Hotel</td>\n      <td>1</td>\n      <td>85</td>\n      <td>2015</td>\n      <td>July</td>\n      <td>27</td>\n      <td>1</td>\n      <td>0</td>\n      <td>3</td>\n      <td>2</td>\n      <td>...</td>\n      <td>No Deposit</td>\n      <td>240.0</td>\n      <td>NaN</td>\n      <td>0</td>\n      <td>Transient</td>\n      <td>82.0</td>\n      <td>0</td>\n      <td>1</td>\n      <td>Canceled</td>\n      <td>2015-05-06</td>\n    </tr>\n    <tr>\n      <th>9</th>\n      <td>Resort Hotel</td>\n      <td>1</td>\n      <td>75</td>\n      <td>2015</td>\n      <td>July</td>\n      <td>27</td>\n      <td>1</td>\n      <td>0</td>\n      <td>3</td>\n      <td>2</td>\n      <td>...</td>\n      <td>No Deposit</td>\n      <td>15.0</td>\n      <td>NaN</td>\n      <td>0</td>\n      <td>Transient</td>\n      <td>105.5</td>\n      <td>0</td>\n      <td>0</td>\n      <td>Canceled</td>\n      <td>2015-04-22</td>\n    </tr>\n    <tr>\n      <th>10</th>\n      <td>Resort Hotel</td>\n      <td>1</td>\n      <td>23</td>\n      <td>2015</td>\n      <td>July</td>\n      <td>27</td>\n      <td>1</td>\n      <td>0</td>\n      <td>4</td>\n      <td>2</td>\n      <td>...</td>\n      <td>No Deposit</td>\n      <td>240.0</td>\n      <td>NaN</td>\n      <td>0</td>\n      <td>Transient</td>\n      <td>123.0</td>\n      <td>0</td>\n      <td>0</td>\n      <td>Canceled</td>\n      <td>2015-06-23</td>\n    </tr>\n    <tr>\n      <th>27</th>\n      <td>Resort Hotel</td>\n      <td>1</td>\n      <td>60</td>\n      <td>2015</td>\n      <td>July</td>\n      <td>27</td>\n      <td>1</td>\n      <td>2</td>\n      <td>5</td>\n      <td>2</td>\n      <td>...</td>\n      <td>No Deposit</td>\n      <td>240.0</td>\n      <td>NaN</td>\n      <td>0</td>\n      <td>Transient</td>\n      <td>107.0</td>\n      <td>0</td>\n      <td>2</td>\n      <td>Canceled</td>\n      <td>2015-05-11</td>\n    </tr>\n    <tr>\n      <th>32</th>\n      <td>Resort Hotel</td>\n      <td>1</td>\n      <td>96</td>\n      <td>2015</td>\n      <td>July</td>\n      <td>27</td>\n      <td>1</td>\n      <td>2</td>\n      <td>8</td>\n      <td>2</td>\n      <td>...</td>\n      <td>No Deposit</td>\n      <td>NaN</td>\n      <td>NaN</td>\n      <td>0</td>\n      <td>Transient</td>\n      <td>108.3</td>\n      <td>0</td>\n      <td>2</td>\n      <td>Canceled</td>\n      <td>2015-05-29</td>\n    </tr>\n  </tbody>\n</table>\n<p>5 rows × 32 columns</p>\n</div>"
     },
     "execution_count": 6,
     "metadata": {},
     "output_type": "execute_result"
    }
   ],
   "source": [
    "df_is_canceled.head()"
   ],
   "metadata": {
    "collapsed": false,
    "ExecuteTime": {
     "end_time": "2024-01-01T09:46:42.141945800Z",
     "start_time": "2024-01-01T09:46:42.122198300Z"
    }
   },
   "execution_count": 6
  },
  {
   "cell_type": "markdown",
   "metadata": {
    "id": "Cc8q-mXiS8dw"
   },
   "source": [
    "## Subsetting rows by categorical variables"
   ]
  },
  {
   "cell_type": "markdown",
   "metadata": {
    "id": "7SFXUlquWZVb"
   },
   "source": [
    "Here's an example of how we can subset based on categorical variables. <br>\n",
    "We choose to capture the rows where the meals belong to specific categories.\n",
    "\n"
   ]
  },
  {
   "cell_type": "code",
   "metadata": {
    "id": "47tuNVFwS8dw",
    "ExecuteTime": {
     "end_time": "2024-01-01T09:46:49.016130900Z",
     "start_time": "2024-01-01T09:46:48.995025900Z"
    }
   },
   "source": [
    "meal = ['BB', 'HB', 'FB']\n",
    "condition = df[\"meal\"].isin(meal)\n",
    "df[condition].head()"
   ],
   "execution_count": 7,
   "outputs": [
    {
     "data": {
      "text/plain": "          hotel  is_canceled  lead_time  arrival_date_year arrival_date_month  \\\n0  Resort Hotel            0        342               2015               July   \n1  Resort Hotel            0        737               2015               July   \n2  Resort Hotel            0          7               2015               July   \n3  Resort Hotel            0         13               2015               July   \n4  Resort Hotel            0         14               2015               July   \n\n   arrival_date_week_number  arrival_date_day_of_month  \\\n0                        27                          1   \n1                        27                          1   \n2                        27                          1   \n3                        27                          1   \n4                        27                          1   \n\n   stays_in_weekend_nights  stays_in_week_nights  adults  ...  deposit_type  \\\n0                        0                     0       2  ...    No Deposit   \n1                        0                     0       2  ...    No Deposit   \n2                        0                     1       1  ...    No Deposit   \n3                        0                     1       1  ...    No Deposit   \n4                        0                     2       2  ...    No Deposit   \n\n   agent company days_in_waiting_list customer_type   adr  \\\n0    NaN     NaN                    0     Transient   0.0   \n1    NaN     NaN                    0     Transient   0.0   \n2    NaN     NaN                    0     Transient  75.0   \n3  304.0     NaN                    0     Transient  75.0   \n4  240.0     NaN                    0     Transient  98.0   \n\n   required_car_parking_spaces  total_of_special_requests  reservation_status  \\\n0                            0                          0           Check-Out   \n1                            0                          0           Check-Out   \n2                            0                          0           Check-Out   \n3                            0                          0           Check-Out   \n4                            0                          1           Check-Out   \n\n  reservation_status_date  \n0              2015-07-01  \n1              2015-07-01  \n2              2015-07-02  \n3              2015-07-02  \n4              2015-07-03  \n\n[5 rows x 32 columns]",
      "text/html": "<div>\n<style scoped>\n    .dataframe tbody tr th:only-of-type {\n        vertical-align: middle;\n    }\n\n    .dataframe tbody tr th {\n        vertical-align: top;\n    }\n\n    .dataframe thead th {\n        text-align: right;\n    }\n</style>\n<table border=\"1\" class=\"dataframe\">\n  <thead>\n    <tr style=\"text-align: right;\">\n      <th></th>\n      <th>hotel</th>\n      <th>is_canceled</th>\n      <th>lead_time</th>\n      <th>arrival_date_year</th>\n      <th>arrival_date_month</th>\n      <th>arrival_date_week_number</th>\n      <th>arrival_date_day_of_month</th>\n      <th>stays_in_weekend_nights</th>\n      <th>stays_in_week_nights</th>\n      <th>adults</th>\n      <th>...</th>\n      <th>deposit_type</th>\n      <th>agent</th>\n      <th>company</th>\n      <th>days_in_waiting_list</th>\n      <th>customer_type</th>\n      <th>adr</th>\n      <th>required_car_parking_spaces</th>\n      <th>total_of_special_requests</th>\n      <th>reservation_status</th>\n      <th>reservation_status_date</th>\n    </tr>\n  </thead>\n  <tbody>\n    <tr>\n      <th>0</th>\n      <td>Resort Hotel</td>\n      <td>0</td>\n      <td>342</td>\n      <td>2015</td>\n      <td>July</td>\n      <td>27</td>\n      <td>1</td>\n      <td>0</td>\n      <td>0</td>\n      <td>2</td>\n      <td>...</td>\n      <td>No Deposit</td>\n      <td>NaN</td>\n      <td>NaN</td>\n      <td>0</td>\n      <td>Transient</td>\n      <td>0.0</td>\n      <td>0</td>\n      <td>0</td>\n      <td>Check-Out</td>\n      <td>2015-07-01</td>\n    </tr>\n    <tr>\n      <th>1</th>\n      <td>Resort Hotel</td>\n      <td>0</td>\n      <td>737</td>\n      <td>2015</td>\n      <td>July</td>\n      <td>27</td>\n      <td>1</td>\n      <td>0</td>\n      <td>0</td>\n      <td>2</td>\n      <td>...</td>\n      <td>No Deposit</td>\n      <td>NaN</td>\n      <td>NaN</td>\n      <td>0</td>\n      <td>Transient</td>\n      <td>0.0</td>\n      <td>0</td>\n      <td>0</td>\n      <td>Check-Out</td>\n      <td>2015-07-01</td>\n    </tr>\n    <tr>\n      <th>2</th>\n      <td>Resort Hotel</td>\n      <td>0</td>\n      <td>7</td>\n      <td>2015</td>\n      <td>July</td>\n      <td>27</td>\n      <td>1</td>\n      <td>0</td>\n      <td>1</td>\n      <td>1</td>\n      <td>...</td>\n      <td>No Deposit</td>\n      <td>NaN</td>\n      <td>NaN</td>\n      <td>0</td>\n      <td>Transient</td>\n      <td>75.0</td>\n      <td>0</td>\n      <td>0</td>\n      <td>Check-Out</td>\n      <td>2015-07-02</td>\n    </tr>\n    <tr>\n      <th>3</th>\n      <td>Resort Hotel</td>\n      <td>0</td>\n      <td>13</td>\n      <td>2015</td>\n      <td>July</td>\n      <td>27</td>\n      <td>1</td>\n      <td>0</td>\n      <td>1</td>\n      <td>1</td>\n      <td>...</td>\n      <td>No Deposit</td>\n      <td>304.0</td>\n      <td>NaN</td>\n      <td>0</td>\n      <td>Transient</td>\n      <td>75.0</td>\n      <td>0</td>\n      <td>0</td>\n      <td>Check-Out</td>\n      <td>2015-07-02</td>\n    </tr>\n    <tr>\n      <th>4</th>\n      <td>Resort Hotel</td>\n      <td>0</td>\n      <td>14</td>\n      <td>2015</td>\n      <td>July</td>\n      <td>27</td>\n      <td>1</td>\n      <td>0</td>\n      <td>2</td>\n      <td>2</td>\n      <td>...</td>\n      <td>No Deposit</td>\n      <td>240.0</td>\n      <td>NaN</td>\n      <td>0</td>\n      <td>Transient</td>\n      <td>98.0</td>\n      <td>0</td>\n      <td>1</td>\n      <td>Check-Out</td>\n      <td>2015-07-03</td>\n    </tr>\n  </tbody>\n</table>\n<p>5 rows × 32 columns</p>\n</div>"
     },
     "execution_count": 7,
     "metadata": {},
     "output_type": "execute_result"
    }
   ]
  },
  {
   "cell_type": "code",
   "outputs": [
    {
     "data": {
      "text/plain": "meal\nBB    92310\nHB    14463\nFB      798\nName: count, dtype: int64"
     },
     "execution_count": 8,
     "metadata": {},
     "output_type": "execute_result"
    }
   ],
   "source": [
    "df[condition]['meal'].value_counts()"
   ],
   "metadata": {
    "collapsed": false,
    "ExecuteTime": {
     "end_time": "2024-01-01T09:46:56.508220200Z",
     "start_time": "2024-01-01T09:46:56.488307200Z"
    }
   },
   "execution_count": 8
  },
  {
   "cell_type": "markdown",
   "metadata": {
    "id": "D1aq9ccMS8d-"
   },
   "source": [
    "# Group by\n",
    "## What percent of *adr* we got at each meal type?\n"
   ]
  },
  {
   "cell_type": "markdown",
   "metadata": {
    "id": "chc7J5DlbsiE"
   },
   "source": [
    "Here we need to see how much *adr* each meal type gave. <br>\n",
    "\n",
    "**Recall:**\n",
    "\n",
    "*adr = average daily rate*, as defined by dividing the sum of all lodging transactions by the total number of staying nights"
   ]
  },
  {
   "cell_type": "markdown",
   "metadata": {
    "id": "DGcnzYwRS8eA"
   },
   "source": [
    "#### Using manual calculations"
   ]
  },
  {
   "cell_type": "markdown",
   "metadata": {
    "id": "pO4HDsRQcdkj"
   },
   "source": [
    "We calculate *adr* with respect to each type of meal, and then we divide by the *total adr*."
   ]
  },
  {
   "cell_type": "code",
   "metadata": {
    "id": "F1yUaV3SS8eA",
    "ExecuteTime": {
     "end_time": "2024-01-01T09:46:57.904384300Z",
     "start_time": "2024-01-01T09:46:57.872932Z"
    }
   },
   "source": [
    "# Calculate total adr\n",
    "\n",
    "adr_all = df['adr'].sum()\n",
    "\n",
    "\n",
    "# Subset for meal FB , calculate total adr\n",
    "\n",
    "\n",
    "meal_FB = df[df['meal'] == 'FB']['adr'].sum()\n",
    "\n",
    "\n",
    "# Subset for meal BB , calc total adr\n",
    "\n",
    "\n",
    "meal_BB = df[df['meal'] == 'BB']['adr'].sum()\n",
    "\n",
    "\n",
    "# Subset for meal HB, calc total adr\n",
    "\n",
    "\n",
    "meal_HB = df[df['meal'] == 'HB']['adr'].sum()\n",
    "\n",
    "\n",
    "# Get proportion for each meal\n",
    "adr_propn_by_meal = [meal_FB, meal_BB, meal_HB] / adr_all\n",
    "print(adr_propn_by_meal)"
   ],
   "execution_count": 9,
   "outputs": [
    {
     "name": "stdout",
     "output_type": "stream",
     "text": [
      "[0.00715718 0.75477485 0.14312021]\n"
     ]
    }
   ]
  },
  {
   "cell_type": "markdown",
   "metadata": {
    "id": "1i6ZIuOWS8eB"
   },
   "source": [
    "#### Using group by"
   ]
  },
  {
   "cell_type": "markdown",
   "metadata": {
    "id": "FUs2Haz3c8us"
   },
   "source": [
    "We group the dataframe by the variable \"meal\", and we take the sum of *adr* that each given meal, then divide by the *total adr*."
   ]
  },
  {
   "cell_type": "code",
   "metadata": {
    "id": "cl9YrNIfS8eD",
    "ExecuteTime": {
     "end_time": "2024-01-01T09:46:58.536448700Z",
     "start_time": "2024-01-01T09:46:58.528078100Z"
    }
   },
   "source": [
    "# Group by meal; calc total adr\n",
    "\n",
    "adr_by_meal = df.groupby('meal')['adr'].sum()\n",
    "\n",
    "\n",
    "# Get proportion for each type\n",
    "adr_propn_by_meal = adr_by_meal / sum(adr_by_meal)\n",
    "print(adr_propn_by_meal)"
   ],
   "execution_count": 10,
   "outputs": [
    {
     "name": "stdout",
     "output_type": "stream",
     "text": [
      "meal\n",
      "BB           0.754775\n",
      "FB           0.007157\n",
      "HB           0.143120\n",
      "SC           0.086107\n",
      "Undefined    0.008841\n",
      "Name: adr, dtype: float64\n"
     ]
    }
   ]
  },
  {
   "cell_type": "markdown",
   "metadata": {
    "id": "p52WgXT2S8eI"
   },
   "source": [
    "# Pivoting\n",
    "\n",
    "The pivot table takes simple data as input, and groups the entries into a two-dimensional table that provides a multidimensional summarization of the data.\n",
    "\n",
    "The difference between pivot tables and GroupBy can sometimes cause confusion; it helps to think of pivot tables as essentially a multidimensional version of the GroupBy aggregation."
   ]
  },
  {
   "cell_type": "markdown",
   "metadata": {
    "id": "iHbMJS5jS8eI"
   },
   "source": [
    "## Pivoting on one variable"
   ]
  },
  {
   "cell_type": "markdown",
   "metadata": {
    "id": "OrtyLEFufbft"
   },
   "source": [
    "Here we have one aggregate function (default: mean) for *adr* values ."
   ]
  },
  {
   "cell_type": "code",
   "metadata": {
    "id": "Wj-MzRoLS8eJ",
    "ExecuteTime": {
     "end_time": "2024-01-01T09:46:59.810566600Z",
     "start_time": "2024-01-01T09:46:59.793655400Z"
    }
   },
   "source": [
    "# Pivot for mean adr for each meal\n",
    "mean_adr_by_meal = df.pivot_table(values='adr', index='meal')\n",
    "\n",
    "\n",
    "\n",
    "# Print mean_adr_by_meal\n",
    "mean_adr_by_meal.head()"
   ],
   "execution_count": 11,
   "outputs": [
    {
     "data": {
      "text/plain": "                  adr\nmeal                 \nBB          99.407041\nFB         109.040476\nHB         120.307041\nSC          98.295869\nUndefined   91.948306",
      "text/html": "<div>\n<style scoped>\n    .dataframe tbody tr th:only-of-type {\n        vertical-align: middle;\n    }\n\n    .dataframe tbody tr th {\n        vertical-align: top;\n    }\n\n    .dataframe thead th {\n        text-align: right;\n    }\n</style>\n<table border=\"1\" class=\"dataframe\">\n  <thead>\n    <tr style=\"text-align: right;\">\n      <th></th>\n      <th>adr</th>\n    </tr>\n    <tr>\n      <th>meal</th>\n      <th></th>\n    </tr>\n  </thead>\n  <tbody>\n    <tr>\n      <th>BB</th>\n      <td>99.407041</td>\n    </tr>\n    <tr>\n      <th>FB</th>\n      <td>109.040476</td>\n    </tr>\n    <tr>\n      <th>HB</th>\n      <td>120.307041</td>\n    </tr>\n    <tr>\n      <th>SC</th>\n      <td>98.295869</td>\n    </tr>\n    <tr>\n      <th>Undefined</th>\n      <td>91.948306</td>\n    </tr>\n  </tbody>\n</table>\n</div>"
     },
     "execution_count": 11,
     "metadata": {},
     "output_type": "execute_result"
    }
   ]
  },
  {
   "cell_type": "markdown",
   "metadata": {
    "id": "37Kc_8wXfTYa"
   },
   "source": [
    "Here we have 2 aggregate functions (mean and median) for the *adr* values."
   ]
  },
  {
   "cell_type": "code",
   "metadata": {
    "id": "MJDe0uq-S8eJ",
    "ExecuteTime": {
     "end_time": "2024-01-01T09:47:02.556184Z",
     "start_time": "2024-01-01T09:47:02.528097Z"
    }
   },
   "source": [
    "# Pivot for mean and median adr for each meal\n",
    "mean_med_adr_by_meal = df.pivot_table(values=\"adr\", index=\"meal\", aggfunc=[np.mean, np.median])\n",
    "mean_med_adr_by_meal.head()"
   ],
   "execution_count": 12,
   "outputs": [
    {
     "name": "stderr",
     "output_type": "stream",
     "text": [
      "C:\\Users\\Mo\\AppData\\Local\\Temp\\ipykernel_11272\\3763857083.py:2: FutureWarning: The provided callable <function mean at 0x0000019A2F89CE00> is currently using DataFrameGroupBy.mean. In a future version of pandas, the provided callable will be used directly. To keep current behavior pass the string \"mean\" instead.\n",
      "  mean_med_adr_by_meal = df.pivot_table(values=\"adr\", index=\"meal\", aggfunc=[np.mean, np.median])\n",
      "C:\\Users\\Mo\\AppData\\Local\\Temp\\ipykernel_11272\\3763857083.py:2: FutureWarning: The provided callable <function median at 0x0000019A2F9C3E20> is currently using DataFrameGroupBy.median. In a future version of pandas, the provided callable will be used directly. To keep current behavior pass the string \"median\" instead.\n",
      "  mean_med_adr_by_meal = df.pivot_table(values=\"adr\", index=\"meal\", aggfunc=[np.mean, np.median])\n"
     ]
    },
    {
     "data": {
      "text/plain": "                 mean  median\n                  adr     adr\nmeal                         \nBB          99.407041   91.67\nFB         109.040476   84.00\nHB         120.307041  107.00\nSC          98.295869   96.00\nUndefined   91.948306   79.00",
      "text/html": "<div>\n<style scoped>\n    .dataframe tbody tr th:only-of-type {\n        vertical-align: middle;\n    }\n\n    .dataframe tbody tr th {\n        vertical-align: top;\n    }\n\n    .dataframe thead tr th {\n        text-align: left;\n    }\n\n    .dataframe thead tr:last-of-type th {\n        text-align: right;\n    }\n</style>\n<table border=\"1\" class=\"dataframe\">\n  <thead>\n    <tr>\n      <th></th>\n      <th>mean</th>\n      <th>median</th>\n    </tr>\n    <tr>\n      <th></th>\n      <th>adr</th>\n      <th>adr</th>\n    </tr>\n    <tr>\n      <th>meal</th>\n      <th></th>\n      <th></th>\n    </tr>\n  </thead>\n  <tbody>\n    <tr>\n      <th>BB</th>\n      <td>99.407041</td>\n      <td>91.67</td>\n    </tr>\n    <tr>\n      <th>FB</th>\n      <td>109.040476</td>\n      <td>84.00</td>\n    </tr>\n    <tr>\n      <th>HB</th>\n      <td>120.307041</td>\n      <td>107.00</td>\n    </tr>\n    <tr>\n      <th>SC</th>\n      <td>98.295869</td>\n      <td>96.00</td>\n    </tr>\n    <tr>\n      <th>Undefined</th>\n      <td>91.948306</td>\n      <td>79.00</td>\n    </tr>\n  </tbody>\n</table>\n</div>"
     },
     "execution_count": 12,
     "metadata": {},
     "output_type": "execute_result"
    }
   ]
  },
  {
   "cell_type": "markdown",
   "metadata": {
    "id": "d8Xx3-IkS8eK"
   },
   "source": [
    "# Indexing"
   ]
  },
  {
   "cell_type": "markdown",
   "metadata": {
    "id": "WAoZxeLEhGnt"
   },
   "source": [
    "How to set a column as an index for your dataset ?"
   ]
  },
  {
   "cell_type": "code",
   "metadata": {
    "id": "kVL9HfusS8eL",
    "ExecuteTime": {
     "end_time": "2024-01-01T09:47:04.914313800Z",
     "start_time": "2024-01-01T09:47:04.898118400Z"
    }
   },
   "source": [
    "# Index df by country\n",
    "\n",
    "country_ind = df.set_index('country')\n",
    "\n",
    "\n",
    "\n",
    "# Look at country_ind\n",
    "country_ind.head()"
   ],
   "execution_count": 13,
   "outputs": [
    {
     "data": {
      "text/plain": "                hotel  is_canceled  lead_time  arrival_date_year  \\\ncountry                                                            \nPRT      Resort Hotel            0        342               2015   \nPRT      Resort Hotel            0        737               2015   \nGBR      Resort Hotel            0          7               2015   \nGBR      Resort Hotel            0         13               2015   \nGBR      Resort Hotel            0         14               2015   \n\n        arrival_date_month  arrival_date_week_number  \\\ncountry                                                \nPRT                   July                        27   \nPRT                   July                        27   \nGBR                   July                        27   \nGBR                   July                        27   \nGBR                   July                        27   \n\n         arrival_date_day_of_month  stays_in_weekend_nights  \\\ncountry                                                       \nPRT                              1                        0   \nPRT                              1                        0   \nGBR                              1                        0   \nGBR                              1                        0   \nGBR                              1                        0   \n\n         stays_in_week_nights  adults  ...  deposit_type  agent company  \\\ncountry                                ...                                \nPRT                         0       2  ...    No Deposit    NaN     NaN   \nPRT                         0       2  ...    No Deposit    NaN     NaN   \nGBR                         1       1  ...    No Deposit    NaN     NaN   \nGBR                         1       1  ...    No Deposit  304.0     NaN   \nGBR                         2       2  ...    No Deposit  240.0     NaN   \n\n        days_in_waiting_list customer_type   adr  required_car_parking_spaces  \\\ncountry                                                                         \nPRT                        0     Transient   0.0                            0   \nPRT                        0     Transient   0.0                            0   \nGBR                        0     Transient  75.0                            0   \nGBR                        0     Transient  75.0                            0   \nGBR                        0     Transient  98.0                            0   \n\n         total_of_special_requests reservation_status reservation_status_date  \ncountry                                                                        \nPRT                              0          Check-Out              2015-07-01  \nPRT                              0          Check-Out              2015-07-01  \nGBR                              0          Check-Out              2015-07-02  \nGBR                              0          Check-Out              2015-07-02  \nGBR                              1          Check-Out              2015-07-03  \n\n[5 rows x 31 columns]",
      "text/html": "<div>\n<style scoped>\n    .dataframe tbody tr th:only-of-type {\n        vertical-align: middle;\n    }\n\n    .dataframe tbody tr th {\n        vertical-align: top;\n    }\n\n    .dataframe thead th {\n        text-align: right;\n    }\n</style>\n<table border=\"1\" class=\"dataframe\">\n  <thead>\n    <tr style=\"text-align: right;\">\n      <th></th>\n      <th>hotel</th>\n      <th>is_canceled</th>\n      <th>lead_time</th>\n      <th>arrival_date_year</th>\n      <th>arrival_date_month</th>\n      <th>arrival_date_week_number</th>\n      <th>arrival_date_day_of_month</th>\n      <th>stays_in_weekend_nights</th>\n      <th>stays_in_week_nights</th>\n      <th>adults</th>\n      <th>...</th>\n      <th>deposit_type</th>\n      <th>agent</th>\n      <th>company</th>\n      <th>days_in_waiting_list</th>\n      <th>customer_type</th>\n      <th>adr</th>\n      <th>required_car_parking_spaces</th>\n      <th>total_of_special_requests</th>\n      <th>reservation_status</th>\n      <th>reservation_status_date</th>\n    </tr>\n    <tr>\n      <th>country</th>\n      <th></th>\n      <th></th>\n      <th></th>\n      <th></th>\n      <th></th>\n      <th></th>\n      <th></th>\n      <th></th>\n      <th></th>\n      <th></th>\n      <th></th>\n      <th></th>\n      <th></th>\n      <th></th>\n      <th></th>\n      <th></th>\n      <th></th>\n      <th></th>\n      <th></th>\n      <th></th>\n      <th></th>\n    </tr>\n  </thead>\n  <tbody>\n    <tr>\n      <th>PRT</th>\n      <td>Resort Hotel</td>\n      <td>0</td>\n      <td>342</td>\n      <td>2015</td>\n      <td>July</td>\n      <td>27</td>\n      <td>1</td>\n      <td>0</td>\n      <td>0</td>\n      <td>2</td>\n      <td>...</td>\n      <td>No Deposit</td>\n      <td>NaN</td>\n      <td>NaN</td>\n      <td>0</td>\n      <td>Transient</td>\n      <td>0.0</td>\n      <td>0</td>\n      <td>0</td>\n      <td>Check-Out</td>\n      <td>2015-07-01</td>\n    </tr>\n    <tr>\n      <th>PRT</th>\n      <td>Resort Hotel</td>\n      <td>0</td>\n      <td>737</td>\n      <td>2015</td>\n      <td>July</td>\n      <td>27</td>\n      <td>1</td>\n      <td>0</td>\n      <td>0</td>\n      <td>2</td>\n      <td>...</td>\n      <td>No Deposit</td>\n      <td>NaN</td>\n      <td>NaN</td>\n      <td>0</td>\n      <td>Transient</td>\n      <td>0.0</td>\n      <td>0</td>\n      <td>0</td>\n      <td>Check-Out</td>\n      <td>2015-07-01</td>\n    </tr>\n    <tr>\n      <th>GBR</th>\n      <td>Resort Hotel</td>\n      <td>0</td>\n      <td>7</td>\n      <td>2015</td>\n      <td>July</td>\n      <td>27</td>\n      <td>1</td>\n      <td>0</td>\n      <td>1</td>\n      <td>1</td>\n      <td>...</td>\n      <td>No Deposit</td>\n      <td>NaN</td>\n      <td>NaN</td>\n      <td>0</td>\n      <td>Transient</td>\n      <td>75.0</td>\n      <td>0</td>\n      <td>0</td>\n      <td>Check-Out</td>\n      <td>2015-07-02</td>\n    </tr>\n    <tr>\n      <th>GBR</th>\n      <td>Resort Hotel</td>\n      <td>0</td>\n      <td>13</td>\n      <td>2015</td>\n      <td>July</td>\n      <td>27</td>\n      <td>1</td>\n      <td>0</td>\n      <td>1</td>\n      <td>1</td>\n      <td>...</td>\n      <td>No Deposit</td>\n      <td>304.0</td>\n      <td>NaN</td>\n      <td>0</td>\n      <td>Transient</td>\n      <td>75.0</td>\n      <td>0</td>\n      <td>0</td>\n      <td>Check-Out</td>\n      <td>2015-07-02</td>\n    </tr>\n    <tr>\n      <th>GBR</th>\n      <td>Resort Hotel</td>\n      <td>0</td>\n      <td>14</td>\n      <td>2015</td>\n      <td>July</td>\n      <td>27</td>\n      <td>1</td>\n      <td>0</td>\n      <td>2</td>\n      <td>2</td>\n      <td>...</td>\n      <td>No Deposit</td>\n      <td>240.0</td>\n      <td>NaN</td>\n      <td>0</td>\n      <td>Transient</td>\n      <td>98.0</td>\n      <td>0</td>\n      <td>1</td>\n      <td>Check-Out</td>\n      <td>2015-07-03</td>\n    </tr>\n  </tbody>\n</table>\n<p>5 rows × 31 columns</p>\n</div>"
     },
     "execution_count": 13,
     "metadata": {},
     "output_type": "execute_result"
    }
   ]
  },
  {
   "cell_type": "code",
   "outputs": [],
   "source": [],
   "metadata": {
    "collapsed": false
   }
  }
 ]
}
