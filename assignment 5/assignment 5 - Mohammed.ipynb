{
 "nbformat": 4,
 "nbformat_minor": 0,
 "metadata": {
  "colab": {
   "provenance": [],
   "toc_visible": true,
   "authorship_tag": "ABX9TyMkJ2DHXgqQ+FZIPs1CjKVQ"
  },
  "kernelspec": {
   "name": "python3",
   "language": "python",
   "display_name": "Python 3 (ipykernel)"
  },
  "language_info": {
   "name": "python"
  }
 },
 "cells": [
  {
   "cell_type": "markdown",
   "source": [
    "#**Decision Trees for Swine Flu Detection**\n",
    "---\n",
    "\n",
    "<br>**Dataset Explanation:** We will work on a Swine Flu dataset that tells us if a person has the flu or not based on the symptoms he/she is experiencing. The columns in this dataset are:<br>\n",
    "* Chills: A feature telling if the person has chills or not.\n",
    "* Runny nose: A feature telling if the person has a runny nose or not.\n",
    "* Headache: A feature telling the level of headache that a person is experiencing (It could be Miild, Moderate, or No headache).\n",
    "* Fever: A feature telling if the person has fever or not.\n",
    "* Flu: The target value that tells us if the person has the flu or not."
   ],
   "metadata": {
    "id": "5r_EIDfNe-og"
   }
  },
  {
   "cell_type": "markdown",
   "metadata": {
    "id": "Bw-ThFM9eDIS"
   },
   "source": [
    "#Importing Librarires"
   ]
  },
  {
   "cell_type": "code",
   "metadata": {
    "id": "Rapla3NhdNO9",
    "ExecuteTime": {
     "end_time": "2024-01-15T15:59:08.742327100Z",
     "start_time": "2024-01-15T15:59:08.717301300Z"
    }
   },
   "source": [
    "import numpy as np\n",
    "import pandas as pd\n",
    "import matplotlib.pyplot as plt\n",
    "import seaborn as sns\n",
    "from sklearn import preprocessing"
   ],
   "execution_count": 21,
   "outputs": []
  },
  {
   "cell_type": "markdown",
   "metadata": {
    "id": "YWCQa0V4eHia"
   },
   "source": [
    "#Loading the Dataset"
   ]
  },
  {
   "cell_type": "markdown",
   "source": [
    "For this notebook we will work with the flu.csv file we've seen earlier"
   ],
   "metadata": {
    "id": "-IAM5Pt3ezvt"
   }
  },
  {
   "cell_type": "markdown",
   "metadata": {
    "id": "CcQyeZG1edGa"
   },
   "source": [
    "First we need to take a look at the dataset before starting to work on it."
   ]
  },
  {
   "cell_type": "code",
   "metadata": {
    "id": "tByNsaj8eCSA",
    "ExecuteTime": {
     "end_time": "2024-01-15T15:59:08.774511300Z",
     "start_time": "2024-01-15T15:59:08.745327400Z"
    }
   },
   "source": [
    "df = pd.read_csv('flu.csv')\n",
    "df.head()"
   ],
   "execution_count": 22,
   "outputs": [
    {
     "data": {
      "text/plain": "  Chills runny nose head ache fever Flu\n0      Y          N      Mild     Y   N\n1      Y          Y        No     N   Y\n2      Y          N    Strong     Y   Y\n3      N          Y      Mild     Y   Y\n4      N          N        No     N   N",
      "text/html": "<div>\n<style scoped>\n    .dataframe tbody tr th:only-of-type {\n        vertical-align: middle;\n    }\n\n    .dataframe tbody tr th {\n        vertical-align: top;\n    }\n\n    .dataframe thead th {\n        text-align: right;\n    }\n</style>\n<table border=\"1\" class=\"dataframe\">\n  <thead>\n    <tr style=\"text-align: right;\">\n      <th></th>\n      <th>Chills</th>\n      <th>runny nose</th>\n      <th>head ache</th>\n      <th>fever</th>\n      <th>Flu</th>\n    </tr>\n  </thead>\n  <tbody>\n    <tr>\n      <th>0</th>\n      <td>Y</td>\n      <td>N</td>\n      <td>Mild</td>\n      <td>Y</td>\n      <td>N</td>\n    </tr>\n    <tr>\n      <th>1</th>\n      <td>Y</td>\n      <td>Y</td>\n      <td>No</td>\n      <td>N</td>\n      <td>Y</td>\n    </tr>\n    <tr>\n      <th>2</th>\n      <td>Y</td>\n      <td>N</td>\n      <td>Strong</td>\n      <td>Y</td>\n      <td>Y</td>\n    </tr>\n    <tr>\n      <th>3</th>\n      <td>N</td>\n      <td>Y</td>\n      <td>Mild</td>\n      <td>Y</td>\n      <td>Y</td>\n    </tr>\n    <tr>\n      <th>4</th>\n      <td>N</td>\n      <td>N</td>\n      <td>No</td>\n      <td>N</td>\n      <td>N</td>\n    </tr>\n  </tbody>\n</table>\n</div>"
     },
     "execution_count": 22,
     "metadata": {},
     "output_type": "execute_result"
    }
   ]
  },
  {
   "cell_type": "markdown",
   "metadata": {
    "id": "jJt9HuRwem_B"
   },
   "source": [
    "As we can see, we have 4 features that will predict if the person has the Swine Flu or not."
   ]
  },
  {
   "cell_type": "markdown",
   "metadata": {
    "id": "y69c9g1wfz7I"
   },
   "source": [
    "Let's check the shape of our data."
   ]
  },
  {
   "cell_type": "code",
   "metadata": {
    "id": "vt-IgNONfzcR",
    "ExecuteTime": {
     "end_time": "2024-01-15T15:59:08.775511Z",
     "start_time": "2024-01-15T15:59:08.751151700Z"
    }
   },
   "source": [
    "df.shape"
   ],
   "execution_count": 23,
   "outputs": [
    {
     "data": {
      "text/plain": "(8, 5)"
     },
     "execution_count": 23,
     "metadata": {},
     "output_type": "execute_result"
    }
   ]
  },
  {
   "cell_type": "markdown",
   "metadata": {
    "id": "q7APX_Rvf53o"
   },
   "source": [
    "So we have 8 examples in this dataset (A small one! Will be good enough for our demonstration purposes).\n",
    "\n",
    "Let's next explore some information about it."
   ]
  },
  {
   "cell_type": "code",
   "metadata": {
    "id": "vRB5c4jfgdsf",
    "ExecuteTime": {
     "end_time": "2024-01-15T15:59:08.775511Z",
     "start_time": "2024-01-15T15:59:08.756885Z"
    }
   },
   "source": [
    "df.info()"
   ],
   "execution_count": 24,
   "outputs": [
    {
     "name": "stdout",
     "output_type": "stream",
     "text": [
      "<class 'pandas.core.frame.DataFrame'>\n",
      "RangeIndex: 8 entries, 0 to 7\n",
      "Data columns (total 5 columns):\n",
      " #   Column      Non-Null Count  Dtype \n",
      "---  ------      --------------  ----- \n",
      " 0   Chills      8 non-null      object\n",
      " 1   runny nose  8 non-null      object\n",
      " 2   head ache   8 non-null      object\n",
      " 3   fever       8 non-null      object\n",
      " 4   Flu         8 non-null      object\n",
      "dtypes: object(5)\n",
      "memory usage: 452.0+ bytes\n"
     ]
    }
   ]
  },
  {
   "cell_type": "markdown",
   "metadata": {
    "id": "TQagSolzMHfK"
   },
   "source": [
    "We do not have any missing values. However, all our features and target variables are of data type object which we can't feed to the model, so we need to clean those."
   ]
  },
  {
   "cell_type": "markdown",
   "metadata": {
    "id": "i_NAc27IfwVJ"
   },
   "source": [
    "#Dataset Preprocessing"
   ]
  },
  {
   "cell_type": "markdown",
   "metadata": {
    "id": "j_y0yDQSf9kQ"
   },
   "source": [
    "## Converting Categorical Features to Numerical"
   ]
  },
  {
   "cell_type": "markdown",
   "metadata": {
    "id": "uyO94JZRgEDy"
   },
   "source": [
    "First thing to consider is changing the categorical features to Numerical in order to feed them to the algorithm so we are able to run the classification.\n",
    "\n",
    "This would be useful when we use the decision trees later as well."
   ]
  },
  {
   "cell_type": "code",
   "metadata": {
    "id": "yDE3JD06fvp7",
    "ExecuteTime": {
     "end_time": "2024-01-15T15:59:08.776511100Z",
     "start_time": "2024-01-15T15:59:08.761821800Z"
    }
   },
   "source": [
    "encoder = preprocessing.LabelEncoder()\n",
    "df['Chills'] = encoder.fit_transform(df['Chills'])\n",
    "df['runny nose'] = encoder.fit_transform(df['runny nose'])\n",
    "df['head ache'] = encoder.fit_transform(df['head ache'])\n",
    "df['fever'] = encoder.fit_transform(df['fever'])\n",
    "df['Flu'] = encoder.fit_transform(df['Flu'])\n",
    "\n",
    "df.head(8)"
   ],
   "execution_count": 25,
   "outputs": [
    {
     "data": {
      "text/plain": "   Chills  runny nose  head ache  fever  Flu\n0       1           0          0      1    0\n1       1           1          1      0    1\n2       1           0          2      1    1\n3       0           1          0      1    1\n4       0           0          1      0    0\n5       0           1          2      1    1\n6       0           1          2      0    0\n7       1           1          0      1    1",
      "text/html": "<div>\n<style scoped>\n    .dataframe tbody tr th:only-of-type {\n        vertical-align: middle;\n    }\n\n    .dataframe tbody tr th {\n        vertical-align: top;\n    }\n\n    .dataframe thead th {\n        text-align: right;\n    }\n</style>\n<table border=\"1\" class=\"dataframe\">\n  <thead>\n    <tr style=\"text-align: right;\">\n      <th></th>\n      <th>Chills</th>\n      <th>runny nose</th>\n      <th>head ache</th>\n      <th>fever</th>\n      <th>Flu</th>\n    </tr>\n  </thead>\n  <tbody>\n    <tr>\n      <th>0</th>\n      <td>1</td>\n      <td>0</td>\n      <td>0</td>\n      <td>1</td>\n      <td>0</td>\n    </tr>\n    <tr>\n      <th>1</th>\n      <td>1</td>\n      <td>1</td>\n      <td>1</td>\n      <td>0</td>\n      <td>1</td>\n    </tr>\n    <tr>\n      <th>2</th>\n      <td>1</td>\n      <td>0</td>\n      <td>2</td>\n      <td>1</td>\n      <td>1</td>\n    </tr>\n    <tr>\n      <th>3</th>\n      <td>0</td>\n      <td>1</td>\n      <td>0</td>\n      <td>1</td>\n      <td>1</td>\n    </tr>\n    <tr>\n      <th>4</th>\n      <td>0</td>\n      <td>0</td>\n      <td>1</td>\n      <td>0</td>\n      <td>0</td>\n    </tr>\n    <tr>\n      <th>5</th>\n      <td>0</td>\n      <td>1</td>\n      <td>2</td>\n      <td>1</td>\n      <td>1</td>\n    </tr>\n    <tr>\n      <th>6</th>\n      <td>0</td>\n      <td>1</td>\n      <td>2</td>\n      <td>0</td>\n      <td>0</td>\n    </tr>\n    <tr>\n      <th>7</th>\n      <td>1</td>\n      <td>1</td>\n      <td>0</td>\n      <td>1</td>\n      <td>1</td>\n    </tr>\n  </tbody>\n</table>\n</div>"
     },
     "execution_count": 25,
     "metadata": {},
     "output_type": "execute_result"
    }
   ]
  },
  {
   "cell_type": "markdown",
   "metadata": {
    "id": "DyR3R0b9PxD3"
   },
   "source": [
    "\n",
    "\n",
    "---\n",
    "\n",
    "#Decision Trees"
   ]
  },
  {
   "cell_type": "markdown",
   "metadata": {
    "id": "oPFklmQeP4AW"
   },
   "source": [
    "Now, you have to solve the same problem but using decision trees that we learned about."
   ]
  },
  {
   "cell_type": "markdown",
   "source": [
    "**Question 1:** Import DecisionTreeClassifier, prepare X and Y, and fit your classifier"
   ],
   "metadata": {
    "id": "P1hv5LWLishi"
   }
  },
  {
   "cell_type": "code",
   "metadata": {
    "id": "LYCJwq4R9IFG",
    "ExecuteTime": {
     "end_time": "2024-01-15T15:59:08.777512300Z",
     "start_time": "2024-01-15T15:59:08.766633200Z"
    }
   },
   "source": [
    "from sklearn.tree import DecisionTreeClassifier\n",
    "\n",
    "x = df.drop('Flu', axis=1)\n",
    "y = df['Flu']\n",
    "\n",
    "classifier = DecisionTreeClassifier()\n",
    "\n",
    "classifier.fit(x, y)"
   ],
   "execution_count": 26,
   "outputs": [
    {
     "data": {
      "text/plain": "DecisionTreeClassifier()",
      "text/html": "<style>#sk-container-id-2 {color: black;}#sk-container-id-2 pre{padding: 0;}#sk-container-id-2 div.sk-toggleable {background-color: white;}#sk-container-id-2 label.sk-toggleable__label {cursor: pointer;display: block;width: 100%;margin-bottom: 0;padding: 0.3em;box-sizing: border-box;text-align: center;}#sk-container-id-2 label.sk-toggleable__label-arrow:before {content: \"▸\";float: left;margin-right: 0.25em;color: #696969;}#sk-container-id-2 label.sk-toggleable__label-arrow:hover:before {color: black;}#sk-container-id-2 div.sk-estimator:hover label.sk-toggleable__label-arrow:before {color: black;}#sk-container-id-2 div.sk-toggleable__content {max-height: 0;max-width: 0;overflow: hidden;text-align: left;background-color: #f0f8ff;}#sk-container-id-2 div.sk-toggleable__content pre {margin: 0.2em;color: black;border-radius: 0.25em;background-color: #f0f8ff;}#sk-container-id-2 input.sk-toggleable__control:checked~div.sk-toggleable__content {max-height: 200px;max-width: 100%;overflow: auto;}#sk-container-id-2 input.sk-toggleable__control:checked~label.sk-toggleable__label-arrow:before {content: \"▾\";}#sk-container-id-2 div.sk-estimator input.sk-toggleable__control:checked~label.sk-toggleable__label {background-color: #d4ebff;}#sk-container-id-2 div.sk-label input.sk-toggleable__control:checked~label.sk-toggleable__label {background-color: #d4ebff;}#sk-container-id-2 input.sk-hidden--visually {border: 0;clip: rect(1px 1px 1px 1px);clip: rect(1px, 1px, 1px, 1px);height: 1px;margin: -1px;overflow: hidden;padding: 0;position: absolute;width: 1px;}#sk-container-id-2 div.sk-estimator {font-family: monospace;background-color: #f0f8ff;border: 1px dotted black;border-radius: 0.25em;box-sizing: border-box;margin-bottom: 0.5em;}#sk-container-id-2 div.sk-estimator:hover {background-color: #d4ebff;}#sk-container-id-2 div.sk-parallel-item::after {content: \"\";width: 100%;border-bottom: 1px solid gray;flex-grow: 1;}#sk-container-id-2 div.sk-label:hover label.sk-toggleable__label {background-color: #d4ebff;}#sk-container-id-2 div.sk-serial::before {content: \"\";position: absolute;border-left: 1px solid gray;box-sizing: border-box;top: 0;bottom: 0;left: 50%;z-index: 0;}#sk-container-id-2 div.sk-serial {display: flex;flex-direction: column;align-items: center;background-color: white;padding-right: 0.2em;padding-left: 0.2em;position: relative;}#sk-container-id-2 div.sk-item {position: relative;z-index: 1;}#sk-container-id-2 div.sk-parallel {display: flex;align-items: stretch;justify-content: center;background-color: white;position: relative;}#sk-container-id-2 div.sk-item::before, #sk-container-id-2 div.sk-parallel-item::before {content: \"\";position: absolute;border-left: 1px solid gray;box-sizing: border-box;top: 0;bottom: 0;left: 50%;z-index: -1;}#sk-container-id-2 div.sk-parallel-item {display: flex;flex-direction: column;z-index: 1;position: relative;background-color: white;}#sk-container-id-2 div.sk-parallel-item:first-child::after {align-self: flex-end;width: 50%;}#sk-container-id-2 div.sk-parallel-item:last-child::after {align-self: flex-start;width: 50%;}#sk-container-id-2 div.sk-parallel-item:only-child::after {width: 0;}#sk-container-id-2 div.sk-dashed-wrapped {border: 1px dashed gray;margin: 0 0.4em 0.5em 0.4em;box-sizing: border-box;padding-bottom: 0.4em;background-color: white;}#sk-container-id-2 div.sk-label label {font-family: monospace;font-weight: bold;display: inline-block;line-height: 1.2em;}#sk-container-id-2 div.sk-label-container {text-align: center;}#sk-container-id-2 div.sk-container {/* jupyter's `normalize.less` sets `[hidden] { display: none; }` but bootstrap.min.css set `[hidden] { display: none !important; }` so we also need the `!important` here to be able to override the default hidden behavior on the sphinx rendered scikit-learn.org. See: https://github.com/scikit-learn/scikit-learn/issues/21755 */display: inline-block !important;position: relative;}#sk-container-id-2 div.sk-text-repr-fallback {display: none;}</style><div id=\"sk-container-id-2\" class=\"sk-top-container\"><div class=\"sk-text-repr-fallback\"><pre>DecisionTreeClassifier()</pre><b>In a Jupyter environment, please rerun this cell to show the HTML representation or trust the notebook. <br />On GitHub, the HTML representation is unable to render, please try loading this page with nbviewer.org.</b></div><div class=\"sk-container\" hidden><div class=\"sk-item\"><div class=\"sk-estimator sk-toggleable\"><input class=\"sk-toggleable__control sk-hidden--visually\" id=\"sk-estimator-id-2\" type=\"checkbox\" checked><label for=\"sk-estimator-id-2\" class=\"sk-toggleable__label sk-toggleable__label-arrow\">DecisionTreeClassifier</label><div class=\"sk-toggleable__content\"><pre>DecisionTreeClassifier()</pre></div></div></div></div></div>"
     },
     "execution_count": 26,
     "metadata": {},
     "output_type": "execute_result"
    }
   ]
  },
  {
   "cell_type": "markdown",
   "metadata": {
    "id": "Xl1l_sH9TmFy"
   },
   "source": [
    "##Printing Text Structure of the tree"
   ]
  },
  {
   "cell_type": "markdown",
   "source": [
    "**Question 2:** Check how you can print the text structure of the built tree using sklearn lirary"
   ],
   "metadata": {
    "id": "OpF35uZqi2hc"
   }
  },
  {
   "cell_type": "code",
   "metadata": {
    "id": "mzRf8M8XTo3W",
    "ExecuteTime": {
     "end_time": "2024-01-15T15:59:08.777512300Z",
     "start_time": "2024-01-15T15:59:08.771018200Z"
    }
   },
   "source": [
    "from sklearn.tree import export_text\n",
    "\n",
    "print(export_text(classifier, feature_names=x.columns))"
   ],
   "execution_count": 27,
   "outputs": [
    {
     "name": "stdout",
     "output_type": "stream",
     "text": [
      "|--- runny nose <= 0.50\n",
      "|   |--- head ache <= 1.50\n",
      "|   |   |--- class: 0\n",
      "|   |--- head ache >  1.50\n",
      "|   |   |--- class: 1\n",
      "|--- runny nose >  0.50\n",
      "|   |--- fever <= 0.50\n",
      "|   |   |--- head ache <= 1.50\n",
      "|   |   |   |--- class: 1\n",
      "|   |   |--- head ache >  1.50\n",
      "|   |   |   |--- class: 0\n",
      "|   |--- fever >  0.50\n",
      "|   |   |--- class: 1\n"
     ]
    }
   ]
  },
  {
   "cell_type": "markdown",
   "metadata": {
    "id": "p2ylgKJBRUC_"
   },
   "source": [
    "##Plotting the tree to see its structure"
   ]
  },
  {
   "cell_type": "markdown",
   "source": [
    "**Question 3:** Plot the tree structure to see nodes and gini index at the nodes level"
   ],
   "metadata": {
    "id": "4ONDUyd4i-fa"
   }
  },
  {
   "cell_type": "code",
   "metadata": {
    "id": "a3htzrgkQ5ZF",
    "ExecuteTime": {
     "end_time": "2024-01-15T16:01:00.119505100Z",
     "start_time": "2024-01-15T16:01:00.002588300Z"
    }
   },
   "source": [
    "from sklearn.tree import plot_tree\n",
    "\n",
    "plot_tree(classifier, feature_names=x.columns)\n",
    "plt.show()"
   ],
   "execution_count": 31,
   "outputs": [
    {
     "data": {
      "text/plain": "<Figure size 640x480 with 1 Axes>",
      "image/png": "[encoded data removed]"
     },
     "metadata": {},
     "output_type": "display_data"
    }
   ]
  },
  {
   "cell_type": "markdown",
   "metadata": {
    "id": "1dXzXR04U6vo"
   },
   "source": [
    "##Predicting using a Decision Tree"
   ]
  },
  {
   "cell_type": "markdown",
   "source": [
    "**Question 4:** Confirm the prediction result you got using Naive Bayes previously"
   ],
   "metadata": {
    "id": "TyYDTFpHjIcd"
   }
  },
  {
   "cell_type": "code",
   "metadata": {
    "id": "zuv3z00uRuwn",
    "ExecuteTime": {
     "end_time": "2024-01-15T15:59:08.907667700Z",
     "start_time": "2024-01-15T15:59:08.901986900Z"
    }
   },
   "source": [
    "print(classifier.predict([[1, 1, 1, 1,]]))\n",
    "print(classifier.predict_proba([[1, 1, 1, 1]]))"
   ],
   "execution_count": 29,
   "outputs": [
    {
     "name": "stdout",
     "output_type": "stream",
     "text": [
      "[1]\n",
      "[[0. 1.]]\n"
     ]
    },
    {
     "name": "stderr",
     "output_type": "stream",
     "text": [
      "D:\\projects\\python\\jupyter\\.venv\\Lib\\site-packages\\sklearn\\base.py:465: UserWarning: X does not have valid feature names, but DecisionTreeClassifier was fitted with feature names\n",
      "  warnings.warn(\n",
      "D:\\projects\\python\\jupyter\\.venv\\Lib\\site-packages\\sklearn\\base.py:465: UserWarning: X does not have valid feature names, but DecisionTreeClassifier was fitted with feature names\n",
      "  warnings.warn(\n"
     ]
    }
   ]
  },
  {
   "cell_type": "markdown",
   "metadata": {
    "id": "sNVfax5SghoK"
   },
   "source": [
    "Once again, we get the same result from our DT as our NB algorithm."
   ]
  }
 ]
}
